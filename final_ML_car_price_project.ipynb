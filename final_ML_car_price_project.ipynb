{
  "cells": [
    {
      "cell_type": "markdown",
      "source": [
        "**CAR PRICE PREDICTION**"
      ],
      "metadata": {
        "id": "FThsz8SR9TXd"
      }
    },
    {
      "cell_type": "code",
      "execution_count": null,
      "metadata": {
        "id": "uizYqZVEuKF_"
      },
      "outputs": [],
      "source": [
        "import pandas as  pd"
      ]
    },
    {
      "cell_type": "code",
      "execution_count": null,
      "metadata": {
        "id": "FVdQwu9txbk5"
      },
      "outputs": [],
      "source": [
        "df = pd.read_csv('/content/CAR DETAILS FROM CAR DEKHO.csv')"
      ]
    },
    {
      "cell_type": "markdown",
      "source": [
        "**EXPLORATORY DATA ANALYSIS (EDA)**"
      ],
      "metadata": {
        "id": "9CXQBHpx9cC7"
      }
    },
    {
      "cell_type": "code",
      "execution_count": null,
      "metadata": {
        "colab": {
          "base_uri": "https://localhost:8080/",
          "height": 206
        },
        "id": "igK8n_am0QNo",
        "outputId": "de74fec0-d850-45cf-9c98-77009f2d7d08"
      },
      "outputs": [
        {
          "output_type": "execute_result",
          "data": {
            "text/plain": [
              "                       name  year  selling_price  km_driven    fuel  \\\n",
              "0             Maruti 800 AC  2007          60000      70000  Petrol   \n",
              "1  Maruti Wagon R LXI Minor  2007         135000      50000  Petrol   \n",
              "2      Hyundai Verna 1.6 SX  2012         600000     100000  Diesel   \n",
              "3    Datsun RediGO T Option  2017         250000      46000  Petrol   \n",
              "4     Honda Amaze VX i-DTEC  2014         450000     141000  Diesel   \n",
              "\n",
              "  seller_type transmission         owner  \n",
              "0  Individual       Manual   First Owner  \n",
              "1  Individual       Manual   First Owner  \n",
              "2  Individual       Manual   First Owner  \n",
              "3  Individual       Manual   First Owner  \n",
              "4  Individual       Manual  Second Owner  "
            ],
            "text/html": [
              "\n",
              "  <div id=\"df-9923125d-314e-48ce-a495-b5358f7de229\">\n",
              "    <div class=\"colab-df-container\">\n",
              "      <div>\n",
              "<style scoped>\n",
              "    .dataframe tbody tr th:only-of-type {\n",
              "        vertical-align: middle;\n",
              "    }\n",
              "\n",
              "    .dataframe tbody tr th {\n",
              "        vertical-align: top;\n",
              "    }\n",
              "\n",
              "    .dataframe thead th {\n",
              "        text-align: right;\n",
              "    }\n",
              "</style>\n",
              "<table border=\"1\" class=\"dataframe\">\n",
              "  <thead>\n",
              "    <tr style=\"text-align: right;\">\n",
              "      <th></th>\n",
              "      <th>name</th>\n",
              "      <th>year</th>\n",
              "      <th>selling_price</th>\n",
              "      <th>km_driven</th>\n",
              "      <th>fuel</th>\n",
              "      <th>seller_type</th>\n",
              "      <th>transmission</th>\n",
              "      <th>owner</th>\n",
              "    </tr>\n",
              "  </thead>\n",
              "  <tbody>\n",
              "    <tr>\n",
              "      <th>0</th>\n",
              "      <td>Maruti 800 AC</td>\n",
              "      <td>2007</td>\n",
              "      <td>60000</td>\n",
              "      <td>70000</td>\n",
              "      <td>Petrol</td>\n",
              "      <td>Individual</td>\n",
              "      <td>Manual</td>\n",
              "      <td>First Owner</td>\n",
              "    </tr>\n",
              "    <tr>\n",
              "      <th>1</th>\n",
              "      <td>Maruti Wagon R LXI Minor</td>\n",
              "      <td>2007</td>\n",
              "      <td>135000</td>\n",
              "      <td>50000</td>\n",
              "      <td>Petrol</td>\n",
              "      <td>Individual</td>\n",
              "      <td>Manual</td>\n",
              "      <td>First Owner</td>\n",
              "    </tr>\n",
              "    <tr>\n",
              "      <th>2</th>\n",
              "      <td>Hyundai Verna 1.6 SX</td>\n",
              "      <td>2012</td>\n",
              "      <td>600000</td>\n",
              "      <td>100000</td>\n",
              "      <td>Diesel</td>\n",
              "      <td>Individual</td>\n",
              "      <td>Manual</td>\n",
              "      <td>First Owner</td>\n",
              "    </tr>\n",
              "    <tr>\n",
              "      <th>3</th>\n",
              "      <td>Datsun RediGO T Option</td>\n",
              "      <td>2017</td>\n",
              "      <td>250000</td>\n",
              "      <td>46000</td>\n",
              "      <td>Petrol</td>\n",
              "      <td>Individual</td>\n",
              "      <td>Manual</td>\n",
              "      <td>First Owner</td>\n",
              "    </tr>\n",
              "    <tr>\n",
              "      <th>4</th>\n",
              "      <td>Honda Amaze VX i-DTEC</td>\n",
              "      <td>2014</td>\n",
              "      <td>450000</td>\n",
              "      <td>141000</td>\n",
              "      <td>Diesel</td>\n",
              "      <td>Individual</td>\n",
              "      <td>Manual</td>\n",
              "      <td>Second Owner</td>\n",
              "    </tr>\n",
              "  </tbody>\n",
              "</table>\n",
              "</div>\n",
              "      <button class=\"colab-df-convert\" onclick=\"convertToInteractive('df-9923125d-314e-48ce-a495-b5358f7de229')\"\n",
              "              title=\"Convert this dataframe to an interactive table.\"\n",
              "              style=\"display:none;\">\n",
              "        \n",
              "  <svg xmlns=\"http://www.w3.org/2000/svg\" height=\"24px\"viewBox=\"0 0 24 24\"\n",
              "       width=\"24px\">\n",
              "    <path d=\"M0 0h24v24H0V0z\" fill=\"none\"/>\n",
              "    <path d=\"M18.56 5.44l.94 2.06.94-2.06 2.06-.94-2.06-.94-.94-2.06-.94 2.06-2.06.94zm-11 1L8.5 8.5l.94-2.06 2.06-.94-2.06-.94L8.5 2.5l-.94 2.06-2.06.94zm10 10l.94 2.06.94-2.06 2.06-.94-2.06-.94-.94-2.06-.94 2.06-2.06.94z\"/><path d=\"M17.41 7.96l-1.37-1.37c-.4-.4-.92-.59-1.43-.59-.52 0-1.04.2-1.43.59L10.3 9.45l-7.72 7.72c-.78.78-.78 2.05 0 2.83L4 21.41c.39.39.9.59 1.41.59.51 0 1.02-.2 1.41-.59l7.78-7.78 2.81-2.81c.8-.78.8-2.07 0-2.86zM5.41 20L4 18.59l7.72-7.72 1.47 1.35L5.41 20z\"/>\n",
              "  </svg>\n",
              "      </button>\n",
              "      \n",
              "  <style>\n",
              "    .colab-df-container {\n",
              "      display:flex;\n",
              "      flex-wrap:wrap;\n",
              "      gap: 12px;\n",
              "    }\n",
              "\n",
              "    .colab-df-convert {\n",
              "      background-color: #E8F0FE;\n",
              "      border: none;\n",
              "      border-radius: 50%;\n",
              "      cursor: pointer;\n",
              "      display: none;\n",
              "      fill: #1967D2;\n",
              "      height: 32px;\n",
              "      padding: 0 0 0 0;\n",
              "      width: 32px;\n",
              "    }\n",
              "\n",
              "    .colab-df-convert:hover {\n",
              "      background-color: #E2EBFA;\n",
              "      box-shadow: 0px 1px 2px rgba(60, 64, 67, 0.3), 0px 1px 3px 1px rgba(60, 64, 67, 0.15);\n",
              "      fill: #174EA6;\n",
              "    }\n",
              "\n",
              "    [theme=dark] .colab-df-convert {\n",
              "      background-color: #3B4455;\n",
              "      fill: #D2E3FC;\n",
              "    }\n",
              "\n",
              "    [theme=dark] .colab-df-convert:hover {\n",
              "      background-color: #434B5C;\n",
              "      box-shadow: 0px 1px 3px 1px rgba(0, 0, 0, 0.15);\n",
              "      filter: drop-shadow(0px 1px 2px rgba(0, 0, 0, 0.3));\n",
              "      fill: #FFFFFF;\n",
              "    }\n",
              "  </style>\n",
              "\n",
              "      <script>\n",
              "        const buttonEl =\n",
              "          document.querySelector('#df-9923125d-314e-48ce-a495-b5358f7de229 button.colab-df-convert');\n",
              "        buttonEl.style.display =\n",
              "          google.colab.kernel.accessAllowed ? 'block' : 'none';\n",
              "\n",
              "        async function convertToInteractive(key) {\n",
              "          const element = document.querySelector('#df-9923125d-314e-48ce-a495-b5358f7de229');\n",
              "          const dataTable =\n",
              "            await google.colab.kernel.invokeFunction('convertToInteractive',\n",
              "                                                     [key], {});\n",
              "          if (!dataTable) return;\n",
              "\n",
              "          const docLinkHtml = 'Like what you see? Visit the ' +\n",
              "            '<a target=\"_blank\" href=https://colab.research.google.com/notebooks/data_table.ipynb>data table notebook</a>'\n",
              "            + ' to learn more about interactive tables.';\n",
              "          element.innerHTML = '';\n",
              "          dataTable['output_type'] = 'display_data';\n",
              "          await google.colab.output.renderOutput(dataTable, element);\n",
              "          const docLink = document.createElement('div');\n",
              "          docLink.innerHTML = docLinkHtml;\n",
              "          element.appendChild(docLink);\n",
              "        }\n",
              "      </script>\n",
              "    </div>\n",
              "  </div>\n",
              "  "
            ]
          },
          "metadata": {},
          "execution_count": 9
        }
      ],
      "source": [
        "df.head()"
      ]
    },
    {
      "cell_type": "code",
      "execution_count": null,
      "metadata": {
        "colab": {
          "base_uri": "https://localhost:8080/"
        },
        "id": "z7uUc83k1C2A",
        "outputId": "852916b5-da28-4011-cfe3-5693fd342ff4"
      },
      "outputs": [
        {
          "output_type": "execute_result",
          "data": {
            "text/plain": [
              "(4340, 8)"
            ]
          },
          "metadata": {},
          "execution_count": 10
        }
      ],
      "source": [
        "df.shape"
      ]
    },
    {
      "cell_type": "code",
      "execution_count": null,
      "metadata": {
        "colab": {
          "base_uri": "https://localhost:8080/"
        },
        "id": "xIkiFeGv1KWH",
        "outputId": "3c9e510f-8633-431d-f528-7d8d460d5e70"
      },
      "outputs": [
        {
          "output_type": "stream",
          "name": "stdout",
          "text": [
            "['Individual' 'Dealer' 'Trustmark Dealer']\n",
            "['Manual' 'Automatic']\n",
            "['First Owner' 'Second Owner' 'Fourth & Above Owner' 'Third Owner'\n",
            " 'Test Drive Car']\n",
            "['Petrol' 'Diesel' 'CNG' 'LPG' 'Electric']\n"
          ]
        }
      ],
      "source": [
        "#print unique value for all categorical features ,if i use .unique method i'll able to get all unique method value for seller type\n",
        "#how many unique values are thre in unique features\n",
        "\n",
        "print(df['seller_type'].unique())\n",
        "print(df['transmission'].unique())\n",
        "print(df['owner'].unique())\n",
        "print(df['fuel'].unique())"
      ]
    },
    {
      "cell_type": "code",
      "execution_count": null,
      "metadata": {
        "colab": {
          "base_uri": "https://localhost:8080/"
        },
        "id": "6Ky3MXYt2Omf",
        "outputId": "3467b94d-0215-4a3d-b8e0-6e37a828246b"
      },
      "outputs": [
        {
          "output_type": "execute_result",
          "data": {
            "text/plain": [
              "name             0\n",
              "year             0\n",
              "selling_price    0\n",
              "km_driven        0\n",
              "fuel             0\n",
              "seller_type      0\n",
              "transmission     0\n",
              "owner            0\n",
              "dtype: int64"
            ]
          },
          "metadata": {},
          "execution_count": 12
        }
      ],
      "source": [
        "#checking missing and null values\n",
        "#isnull is inbuilt functi\n",
        "\n",
        "df.isnull().sum()"
      ]
    },
    {
      "cell_type": "code",
      "execution_count": null,
      "metadata": {
        "colab": {
          "base_uri": "https://localhost:8080/",
          "height": 300
        },
        "id": "6V8vHICy4xcz",
        "outputId": "f8d4625e-b33a-4b55-869d-64e2d598c21a"
      },
      "outputs": [
        {
          "output_type": "execute_result",
          "data": {
            "text/plain": [
              "              year  selling_price      km_driven\n",
              "count  4340.000000   4.340000e+03    4340.000000\n",
              "mean   2013.090783   5.041273e+05   66215.777419\n",
              "std       4.215344   5.785487e+05   46644.102194\n",
              "min    1992.000000   2.000000e+04       1.000000\n",
              "25%    2011.000000   2.087498e+05   35000.000000\n",
              "50%    2014.000000   3.500000e+05   60000.000000\n",
              "75%    2016.000000   6.000000e+05   90000.000000\n",
              "max    2020.000000   8.900000e+06  806599.000000"
            ],
            "text/html": [
              "\n",
              "  <div id=\"df-0d6767e6-d833-4754-8979-f0a83af989cb\">\n",
              "    <div class=\"colab-df-container\">\n",
              "      <div>\n",
              "<style scoped>\n",
              "    .dataframe tbody tr th:only-of-type {\n",
              "        vertical-align: middle;\n",
              "    }\n",
              "\n",
              "    .dataframe tbody tr th {\n",
              "        vertical-align: top;\n",
              "    }\n",
              "\n",
              "    .dataframe thead th {\n",
              "        text-align: right;\n",
              "    }\n",
              "</style>\n",
              "<table border=\"1\" class=\"dataframe\">\n",
              "  <thead>\n",
              "    <tr style=\"text-align: right;\">\n",
              "      <th></th>\n",
              "      <th>year</th>\n",
              "      <th>selling_price</th>\n",
              "      <th>km_driven</th>\n",
              "    </tr>\n",
              "  </thead>\n",
              "  <tbody>\n",
              "    <tr>\n",
              "      <th>count</th>\n",
              "      <td>4340.000000</td>\n",
              "      <td>4.340000e+03</td>\n",
              "      <td>4340.000000</td>\n",
              "    </tr>\n",
              "    <tr>\n",
              "      <th>mean</th>\n",
              "      <td>2013.090783</td>\n",
              "      <td>5.041273e+05</td>\n",
              "      <td>66215.777419</td>\n",
              "    </tr>\n",
              "    <tr>\n",
              "      <th>std</th>\n",
              "      <td>4.215344</td>\n",
              "      <td>5.785487e+05</td>\n",
              "      <td>46644.102194</td>\n",
              "    </tr>\n",
              "    <tr>\n",
              "      <th>min</th>\n",
              "      <td>1992.000000</td>\n",
              "      <td>2.000000e+04</td>\n",
              "      <td>1.000000</td>\n",
              "    </tr>\n",
              "    <tr>\n",
              "      <th>25%</th>\n",
              "      <td>2011.000000</td>\n",
              "      <td>2.087498e+05</td>\n",
              "      <td>35000.000000</td>\n",
              "    </tr>\n",
              "    <tr>\n",
              "      <th>50%</th>\n",
              "      <td>2014.000000</td>\n",
              "      <td>3.500000e+05</td>\n",
              "      <td>60000.000000</td>\n",
              "    </tr>\n",
              "    <tr>\n",
              "      <th>75%</th>\n",
              "      <td>2016.000000</td>\n",
              "      <td>6.000000e+05</td>\n",
              "      <td>90000.000000</td>\n",
              "    </tr>\n",
              "    <tr>\n",
              "      <th>max</th>\n",
              "      <td>2020.000000</td>\n",
              "      <td>8.900000e+06</td>\n",
              "      <td>806599.000000</td>\n",
              "    </tr>\n",
              "  </tbody>\n",
              "</table>\n",
              "</div>\n",
              "      <button class=\"colab-df-convert\" onclick=\"convertToInteractive('df-0d6767e6-d833-4754-8979-f0a83af989cb')\"\n",
              "              title=\"Convert this dataframe to an interactive table.\"\n",
              "              style=\"display:none;\">\n",
              "        \n",
              "  <svg xmlns=\"http://www.w3.org/2000/svg\" height=\"24px\"viewBox=\"0 0 24 24\"\n",
              "       width=\"24px\">\n",
              "    <path d=\"M0 0h24v24H0V0z\" fill=\"none\"/>\n",
              "    <path d=\"M18.56 5.44l.94 2.06.94-2.06 2.06-.94-2.06-.94-.94-2.06-.94 2.06-2.06.94zm-11 1L8.5 8.5l.94-2.06 2.06-.94-2.06-.94L8.5 2.5l-.94 2.06-2.06.94zm10 10l.94 2.06.94-2.06 2.06-.94-2.06-.94-.94-2.06-.94 2.06-2.06.94z\"/><path d=\"M17.41 7.96l-1.37-1.37c-.4-.4-.92-.59-1.43-.59-.52 0-1.04.2-1.43.59L10.3 9.45l-7.72 7.72c-.78.78-.78 2.05 0 2.83L4 21.41c.39.39.9.59 1.41.59.51 0 1.02-.2 1.41-.59l7.78-7.78 2.81-2.81c.8-.78.8-2.07 0-2.86zM5.41 20L4 18.59l7.72-7.72 1.47 1.35L5.41 20z\"/>\n",
              "  </svg>\n",
              "      </button>\n",
              "      \n",
              "  <style>\n",
              "    .colab-df-container {\n",
              "      display:flex;\n",
              "      flex-wrap:wrap;\n",
              "      gap: 12px;\n",
              "    }\n",
              "\n",
              "    .colab-df-convert {\n",
              "      background-color: #E8F0FE;\n",
              "      border: none;\n",
              "      border-radius: 50%;\n",
              "      cursor: pointer;\n",
              "      display: none;\n",
              "      fill: #1967D2;\n",
              "      height: 32px;\n",
              "      padding: 0 0 0 0;\n",
              "      width: 32px;\n",
              "    }\n",
              "\n",
              "    .colab-df-convert:hover {\n",
              "      background-color: #E2EBFA;\n",
              "      box-shadow: 0px 1px 2px rgba(60, 64, 67, 0.3), 0px 1px 3px 1px rgba(60, 64, 67, 0.15);\n",
              "      fill: #174EA6;\n",
              "    }\n",
              "\n",
              "    [theme=dark] .colab-df-convert {\n",
              "      background-color: #3B4455;\n",
              "      fill: #D2E3FC;\n",
              "    }\n",
              "\n",
              "    [theme=dark] .colab-df-convert:hover {\n",
              "      background-color: #434B5C;\n",
              "      box-shadow: 0px 1px 3px 1px rgba(0, 0, 0, 0.15);\n",
              "      filter: drop-shadow(0px 1px 2px rgba(0, 0, 0, 0.3));\n",
              "      fill: #FFFFFF;\n",
              "    }\n",
              "  </style>\n",
              "\n",
              "      <script>\n",
              "        const buttonEl =\n",
              "          document.querySelector('#df-0d6767e6-d833-4754-8979-f0a83af989cb button.colab-df-convert');\n",
              "        buttonEl.style.display =\n",
              "          google.colab.kernel.accessAllowed ? 'block' : 'none';\n",
              "\n",
              "        async function convertToInteractive(key) {\n",
              "          const element = document.querySelector('#df-0d6767e6-d833-4754-8979-f0a83af989cb');\n",
              "          const dataTable =\n",
              "            await google.colab.kernel.invokeFunction('convertToInteractive',\n",
              "                                                     [key], {});\n",
              "          if (!dataTable) return;\n",
              "\n",
              "          const docLinkHtml = 'Like what you see? Visit the ' +\n",
              "            '<a target=\"_blank\" href=https://colab.research.google.com/notebooks/data_table.ipynb>data table notebook</a>'\n",
              "            + ' to learn more about interactive tables.';\n",
              "          element.innerHTML = '';\n",
              "          dataTable['output_type'] = 'display_data';\n",
              "          await google.colab.output.renderOutput(dataTable, element);\n",
              "          const docLink = document.createElement('div');\n",
              "          docLink.innerHTML = docLinkHtml;\n",
              "          element.appendChild(docLink);\n",
              "        }\n",
              "      </script>\n",
              "    </div>\n",
              "  </div>\n",
              "  "
            ]
          },
          "metadata": {},
          "execution_count": 13
        }
      ],
      "source": [
        "#mean,median,mode,q1,q2,q3,min,max\n",
        "df.describe() #i wanna see some details"
      ]
    },
    {
      "cell_type": "code",
      "execution_count": null,
      "metadata": {
        "colab": {
          "base_uri": "https://localhost:8080/"
        },
        "id": "fwlP1qUc6rgy",
        "outputId": "9f69f4c3-f3e4-450c-d052-6c05338b3bc8"
      },
      "outputs": [
        {
          "output_type": "execute_result",
          "data": {
            "text/plain": [
              "Index(['name', 'year', 'selling_price', 'km_driven', 'fuel', 'seller_type',\n",
              "       'transmission', 'owner'],\n",
              "      dtype='object')"
            ]
          },
          "metadata": {},
          "execution_count": 14
        }
      ],
      "source": [
        "df.columns"
      ]
    },
    {
      "cell_type": "code",
      "execution_count": null,
      "metadata": {
        "id": "anlXmGr_5SWj"
      },
      "outputs": [],
      "source": [
        "#create a final dataset i'm gonna skip car name beacause many no.pf car names car name may not play good value itself, so selling price \n",
        "#and present price playing better,diff car name present based on cae name car we shouldn't judge what should selling price instaed of present price and selling price\n",
        "final_dataset = df[['year','selling_price','km_driven','fuel','seller_type','transmission','owner']]"
      ]
    },
    {
      "cell_type": "code",
      "execution_count": null,
      "metadata": {
        "colab": {
          "base_uri": "https://localhost:8080/",
          "height": 206
        },
        "id": "i7G6PKLD7mV_",
        "outputId": "6f7cb41f-9a2c-4c66-cca7-cb174beee736"
      },
      "outputs": [
        {
          "output_type": "execute_result",
          "data": {
            "text/plain": [
              "   year  selling_price  km_driven    fuel seller_type transmission  \\\n",
              "0  2007          60000      70000  Petrol  Individual       Manual   \n",
              "1  2007         135000      50000  Petrol  Individual       Manual   \n",
              "2  2012         600000     100000  Diesel  Individual       Manual   \n",
              "3  2017         250000      46000  Petrol  Individual       Manual   \n",
              "4  2014         450000     141000  Diesel  Individual       Manual   \n",
              "\n",
              "          owner  \n",
              "0   First Owner  \n",
              "1   First Owner  \n",
              "2   First Owner  \n",
              "3   First Owner  \n",
              "4  Second Owner  "
            ],
            "text/html": [
              "\n",
              "  <div id=\"df-0369e461-c78b-41a5-bbf0-d707822dd425\">\n",
              "    <div class=\"colab-df-container\">\n",
              "      <div>\n",
              "<style scoped>\n",
              "    .dataframe tbody tr th:only-of-type {\n",
              "        vertical-align: middle;\n",
              "    }\n",
              "\n",
              "    .dataframe tbody tr th {\n",
              "        vertical-align: top;\n",
              "    }\n",
              "\n",
              "    .dataframe thead th {\n",
              "        text-align: right;\n",
              "    }\n",
              "</style>\n",
              "<table border=\"1\" class=\"dataframe\">\n",
              "  <thead>\n",
              "    <tr style=\"text-align: right;\">\n",
              "      <th></th>\n",
              "      <th>year</th>\n",
              "      <th>selling_price</th>\n",
              "      <th>km_driven</th>\n",
              "      <th>fuel</th>\n",
              "      <th>seller_type</th>\n",
              "      <th>transmission</th>\n",
              "      <th>owner</th>\n",
              "    </tr>\n",
              "  </thead>\n",
              "  <tbody>\n",
              "    <tr>\n",
              "      <th>0</th>\n",
              "      <td>2007</td>\n",
              "      <td>60000</td>\n",
              "      <td>70000</td>\n",
              "      <td>Petrol</td>\n",
              "      <td>Individual</td>\n",
              "      <td>Manual</td>\n",
              "      <td>First Owner</td>\n",
              "    </tr>\n",
              "    <tr>\n",
              "      <th>1</th>\n",
              "      <td>2007</td>\n",
              "      <td>135000</td>\n",
              "      <td>50000</td>\n",
              "      <td>Petrol</td>\n",
              "      <td>Individual</td>\n",
              "      <td>Manual</td>\n",
              "      <td>First Owner</td>\n",
              "    </tr>\n",
              "    <tr>\n",
              "      <th>2</th>\n",
              "      <td>2012</td>\n",
              "      <td>600000</td>\n",
              "      <td>100000</td>\n",
              "      <td>Diesel</td>\n",
              "      <td>Individual</td>\n",
              "      <td>Manual</td>\n",
              "      <td>First Owner</td>\n",
              "    </tr>\n",
              "    <tr>\n",
              "      <th>3</th>\n",
              "      <td>2017</td>\n",
              "      <td>250000</td>\n",
              "      <td>46000</td>\n",
              "      <td>Petrol</td>\n",
              "      <td>Individual</td>\n",
              "      <td>Manual</td>\n",
              "      <td>First Owner</td>\n",
              "    </tr>\n",
              "    <tr>\n",
              "      <th>4</th>\n",
              "      <td>2014</td>\n",
              "      <td>450000</td>\n",
              "      <td>141000</td>\n",
              "      <td>Diesel</td>\n",
              "      <td>Individual</td>\n",
              "      <td>Manual</td>\n",
              "      <td>Second Owner</td>\n",
              "    </tr>\n",
              "  </tbody>\n",
              "</table>\n",
              "</div>\n",
              "      <button class=\"colab-df-convert\" onclick=\"convertToInteractive('df-0369e461-c78b-41a5-bbf0-d707822dd425')\"\n",
              "              title=\"Convert this dataframe to an interactive table.\"\n",
              "              style=\"display:none;\">\n",
              "        \n",
              "  <svg xmlns=\"http://www.w3.org/2000/svg\" height=\"24px\"viewBox=\"0 0 24 24\"\n",
              "       width=\"24px\">\n",
              "    <path d=\"M0 0h24v24H0V0z\" fill=\"none\"/>\n",
              "    <path d=\"M18.56 5.44l.94 2.06.94-2.06 2.06-.94-2.06-.94-.94-2.06-.94 2.06-2.06.94zm-11 1L8.5 8.5l.94-2.06 2.06-.94-2.06-.94L8.5 2.5l-.94 2.06-2.06.94zm10 10l.94 2.06.94-2.06 2.06-.94-2.06-.94-.94-2.06-.94 2.06-2.06.94z\"/><path d=\"M17.41 7.96l-1.37-1.37c-.4-.4-.92-.59-1.43-.59-.52 0-1.04.2-1.43.59L10.3 9.45l-7.72 7.72c-.78.78-.78 2.05 0 2.83L4 21.41c.39.39.9.59 1.41.59.51 0 1.02-.2 1.41-.59l7.78-7.78 2.81-2.81c.8-.78.8-2.07 0-2.86zM5.41 20L4 18.59l7.72-7.72 1.47 1.35L5.41 20z\"/>\n",
              "  </svg>\n",
              "      </button>\n",
              "      \n",
              "  <style>\n",
              "    .colab-df-container {\n",
              "      display:flex;\n",
              "      flex-wrap:wrap;\n",
              "      gap: 12px;\n",
              "    }\n",
              "\n",
              "    .colab-df-convert {\n",
              "      background-color: #E8F0FE;\n",
              "      border: none;\n",
              "      border-radius: 50%;\n",
              "      cursor: pointer;\n",
              "      display: none;\n",
              "      fill: #1967D2;\n",
              "      height: 32px;\n",
              "      padding: 0 0 0 0;\n",
              "      width: 32px;\n",
              "    }\n",
              "\n",
              "    .colab-df-convert:hover {\n",
              "      background-color: #E2EBFA;\n",
              "      box-shadow: 0px 1px 2px rgba(60, 64, 67, 0.3), 0px 1px 3px 1px rgba(60, 64, 67, 0.15);\n",
              "      fill: #174EA6;\n",
              "    }\n",
              "\n",
              "    [theme=dark] .colab-df-convert {\n",
              "      background-color: #3B4455;\n",
              "      fill: #D2E3FC;\n",
              "    }\n",
              "\n",
              "    [theme=dark] .colab-df-convert:hover {\n",
              "      background-color: #434B5C;\n",
              "      box-shadow: 0px 1px 3px 1px rgba(0, 0, 0, 0.15);\n",
              "      filter: drop-shadow(0px 1px 2px rgba(0, 0, 0, 0.3));\n",
              "      fill: #FFFFFF;\n",
              "    }\n",
              "  </style>\n",
              "\n",
              "      <script>\n",
              "        const buttonEl =\n",
              "          document.querySelector('#df-0369e461-c78b-41a5-bbf0-d707822dd425 button.colab-df-convert');\n",
              "        buttonEl.style.display =\n",
              "          google.colab.kernel.accessAllowed ? 'block' : 'none';\n",
              "\n",
              "        async function convertToInteractive(key) {\n",
              "          const element = document.querySelector('#df-0369e461-c78b-41a5-bbf0-d707822dd425');\n",
              "          const dataTable =\n",
              "            await google.colab.kernel.invokeFunction('convertToInteractive',\n",
              "                                                     [key], {});\n",
              "          if (!dataTable) return;\n",
              "\n",
              "          const docLinkHtml = 'Like what you see? Visit the ' +\n",
              "            '<a target=\"_blank\" href=https://colab.research.google.com/notebooks/data_table.ipynb>data table notebook</a>'\n",
              "            + ' to learn more about interactive tables.';\n",
              "          element.innerHTML = '';\n",
              "          dataTable['output_type'] = 'display_data';\n",
              "          await google.colab.output.renderOutput(dataTable, element);\n",
              "          const docLink = document.createElement('div');\n",
              "          docLink.innerHTML = docLinkHtml;\n",
              "          element.appendChild(docLink);\n",
              "        }\n",
              "      </script>\n",
              "    </div>\n",
              "  </div>\n",
              "  "
            ]
          },
          "metadata": {},
          "execution_count": 16
        }
      ],
      "source": [
        "final_dataset.head()"
      ]
    },
    {
      "cell_type": "code",
      "execution_count": null,
      "metadata": {
        "id": "5zBjupCE7t-_"
      },
      "outputs": [],
      "source": [
        "final_dataset['current_year'] = 2020"
      ]
    },
    {
      "cell_type": "code",
      "execution_count": null,
      "metadata": {
        "colab": {
          "base_uri": "https://localhost:8080/",
          "height": 206
        },
        "id": "24Mhme8xERzu",
        "outputId": "40b71e5a-98ba-4bfd-bc76-0c0cc1740ccd"
      },
      "outputs": [
        {
          "output_type": "execute_result",
          "data": {
            "text/plain": [
              "   year  selling_price  km_driven    fuel seller_type transmission  \\\n",
              "0  2007          60000      70000  Petrol  Individual       Manual   \n",
              "1  2007         135000      50000  Petrol  Individual       Manual   \n",
              "2  2012         600000     100000  Diesel  Individual       Manual   \n",
              "3  2017         250000      46000  Petrol  Individual       Manual   \n",
              "4  2014         450000     141000  Diesel  Individual       Manual   \n",
              "\n",
              "          owner  current_year  \n",
              "0   First Owner          2020  \n",
              "1   First Owner          2020  \n",
              "2   First Owner          2020  \n",
              "3   First Owner          2020  \n",
              "4  Second Owner          2020  "
            ],
            "text/html": [
              "\n",
              "  <div id=\"df-fa25e690-a2ee-4ce8-8406-78c71d3140ab\">\n",
              "    <div class=\"colab-df-container\">\n",
              "      <div>\n",
              "<style scoped>\n",
              "    .dataframe tbody tr th:only-of-type {\n",
              "        vertical-align: middle;\n",
              "    }\n",
              "\n",
              "    .dataframe tbody tr th {\n",
              "        vertical-align: top;\n",
              "    }\n",
              "\n",
              "    .dataframe thead th {\n",
              "        text-align: right;\n",
              "    }\n",
              "</style>\n",
              "<table border=\"1\" class=\"dataframe\">\n",
              "  <thead>\n",
              "    <tr style=\"text-align: right;\">\n",
              "      <th></th>\n",
              "      <th>year</th>\n",
              "      <th>selling_price</th>\n",
              "      <th>km_driven</th>\n",
              "      <th>fuel</th>\n",
              "      <th>seller_type</th>\n",
              "      <th>transmission</th>\n",
              "      <th>owner</th>\n",
              "      <th>current_year</th>\n",
              "    </tr>\n",
              "  </thead>\n",
              "  <tbody>\n",
              "    <tr>\n",
              "      <th>0</th>\n",
              "      <td>2007</td>\n",
              "      <td>60000</td>\n",
              "      <td>70000</td>\n",
              "      <td>Petrol</td>\n",
              "      <td>Individual</td>\n",
              "      <td>Manual</td>\n",
              "      <td>First Owner</td>\n",
              "      <td>2020</td>\n",
              "    </tr>\n",
              "    <tr>\n",
              "      <th>1</th>\n",
              "      <td>2007</td>\n",
              "      <td>135000</td>\n",
              "      <td>50000</td>\n",
              "      <td>Petrol</td>\n",
              "      <td>Individual</td>\n",
              "      <td>Manual</td>\n",
              "      <td>First Owner</td>\n",
              "      <td>2020</td>\n",
              "    </tr>\n",
              "    <tr>\n",
              "      <th>2</th>\n",
              "      <td>2012</td>\n",
              "      <td>600000</td>\n",
              "      <td>100000</td>\n",
              "      <td>Diesel</td>\n",
              "      <td>Individual</td>\n",
              "      <td>Manual</td>\n",
              "      <td>First Owner</td>\n",
              "      <td>2020</td>\n",
              "    </tr>\n",
              "    <tr>\n",
              "      <th>3</th>\n",
              "      <td>2017</td>\n",
              "      <td>250000</td>\n",
              "      <td>46000</td>\n",
              "      <td>Petrol</td>\n",
              "      <td>Individual</td>\n",
              "      <td>Manual</td>\n",
              "      <td>First Owner</td>\n",
              "      <td>2020</td>\n",
              "    </tr>\n",
              "    <tr>\n",
              "      <th>4</th>\n",
              "      <td>2014</td>\n",
              "      <td>450000</td>\n",
              "      <td>141000</td>\n",
              "      <td>Diesel</td>\n",
              "      <td>Individual</td>\n",
              "      <td>Manual</td>\n",
              "      <td>Second Owner</td>\n",
              "      <td>2020</td>\n",
              "    </tr>\n",
              "  </tbody>\n",
              "</table>\n",
              "</div>\n",
              "      <button class=\"colab-df-convert\" onclick=\"convertToInteractive('df-fa25e690-a2ee-4ce8-8406-78c71d3140ab')\"\n",
              "              title=\"Convert this dataframe to an interactive table.\"\n",
              "              style=\"display:none;\">\n",
              "        \n",
              "  <svg xmlns=\"http://www.w3.org/2000/svg\" height=\"24px\"viewBox=\"0 0 24 24\"\n",
              "       width=\"24px\">\n",
              "    <path d=\"M0 0h24v24H0V0z\" fill=\"none\"/>\n",
              "    <path d=\"M18.56 5.44l.94 2.06.94-2.06 2.06-.94-2.06-.94-.94-2.06-.94 2.06-2.06.94zm-11 1L8.5 8.5l.94-2.06 2.06-.94-2.06-.94L8.5 2.5l-.94 2.06-2.06.94zm10 10l.94 2.06.94-2.06 2.06-.94-2.06-.94-.94-2.06-.94 2.06-2.06.94z\"/><path d=\"M17.41 7.96l-1.37-1.37c-.4-.4-.92-.59-1.43-.59-.52 0-1.04.2-1.43.59L10.3 9.45l-7.72 7.72c-.78.78-.78 2.05 0 2.83L4 21.41c.39.39.9.59 1.41.59.51 0 1.02-.2 1.41-.59l7.78-7.78 2.81-2.81c.8-.78.8-2.07 0-2.86zM5.41 20L4 18.59l7.72-7.72 1.47 1.35L5.41 20z\"/>\n",
              "  </svg>\n",
              "      </button>\n",
              "      \n",
              "  <style>\n",
              "    .colab-df-container {\n",
              "      display:flex;\n",
              "      flex-wrap:wrap;\n",
              "      gap: 12px;\n",
              "    }\n",
              "\n",
              "    .colab-df-convert {\n",
              "      background-color: #E8F0FE;\n",
              "      border: none;\n",
              "      border-radius: 50%;\n",
              "      cursor: pointer;\n",
              "      display: none;\n",
              "      fill: #1967D2;\n",
              "      height: 32px;\n",
              "      padding: 0 0 0 0;\n",
              "      width: 32px;\n",
              "    }\n",
              "\n",
              "    .colab-df-convert:hover {\n",
              "      background-color: #E2EBFA;\n",
              "      box-shadow: 0px 1px 2px rgba(60, 64, 67, 0.3), 0px 1px 3px 1px rgba(60, 64, 67, 0.15);\n",
              "      fill: #174EA6;\n",
              "    }\n",
              "\n",
              "    [theme=dark] .colab-df-convert {\n",
              "      background-color: #3B4455;\n",
              "      fill: #D2E3FC;\n",
              "    }\n",
              "\n",
              "    [theme=dark] .colab-df-convert:hover {\n",
              "      background-color: #434B5C;\n",
              "      box-shadow: 0px 1px 3px 1px rgba(0, 0, 0, 0.15);\n",
              "      filter: drop-shadow(0px 1px 2px rgba(0, 0, 0, 0.3));\n",
              "      fill: #FFFFFF;\n",
              "    }\n",
              "  </style>\n",
              "\n",
              "      <script>\n",
              "        const buttonEl =\n",
              "          document.querySelector('#df-fa25e690-a2ee-4ce8-8406-78c71d3140ab button.colab-df-convert');\n",
              "        buttonEl.style.display =\n",
              "          google.colab.kernel.accessAllowed ? 'block' : 'none';\n",
              "\n",
              "        async function convertToInteractive(key) {\n",
              "          const element = document.querySelector('#df-fa25e690-a2ee-4ce8-8406-78c71d3140ab');\n",
              "          const dataTable =\n",
              "            await google.colab.kernel.invokeFunction('convertToInteractive',\n",
              "                                                     [key], {});\n",
              "          if (!dataTable) return;\n",
              "\n",
              "          const docLinkHtml = 'Like what you see? Visit the ' +\n",
              "            '<a target=\"_blank\" href=https://colab.research.google.com/notebooks/data_table.ipynb>data table notebook</a>'\n",
              "            + ' to learn more about interactive tables.';\n",
              "          element.innerHTML = '';\n",
              "          dataTable['output_type'] = 'display_data';\n",
              "          await google.colab.output.renderOutput(dataTable, element);\n",
              "          const docLink = document.createElement('div');\n",
              "          docLink.innerHTML = docLinkHtml;\n",
              "          element.appendChild(docLink);\n",
              "        }\n",
              "      </script>\n",
              "    </div>\n",
              "  </div>\n",
              "  "
            ]
          },
          "metadata": {},
          "execution_count": 18
        }
      ],
      "source": [
        "final_dataset.head()"
      ]
    },
    {
      "cell_type": "code",
      "execution_count": null,
      "metadata": {
        "id": "Wdj5vMEuFe2O"
      },
      "outputs": [],
      "source": [
        "final_dataset['no_year']=final_dataset['current_year']-final_dataset['year']"
      ]
    },
    {
      "cell_type": "code",
      "execution_count": null,
      "metadata": {
        "colab": {
          "base_uri": "https://localhost:8080/",
          "height": 206
        },
        "id": "3Y4YGzIEF9kk",
        "outputId": "f91b137a-875c-4224-c32c-0aae3cf95562"
      },
      "outputs": [
        {
          "output_type": "execute_result",
          "data": {
            "text/plain": [
              "   year  selling_price  km_driven    fuel seller_type transmission  \\\n",
              "0  2007          60000      70000  Petrol  Individual       Manual   \n",
              "1  2007         135000      50000  Petrol  Individual       Manual   \n",
              "2  2012         600000     100000  Diesel  Individual       Manual   \n",
              "3  2017         250000      46000  Petrol  Individual       Manual   \n",
              "4  2014         450000     141000  Diesel  Individual       Manual   \n",
              "\n",
              "          owner  current_year  no_year  \n",
              "0   First Owner          2020       13  \n",
              "1   First Owner          2020       13  \n",
              "2   First Owner          2020        8  \n",
              "3   First Owner          2020        3  \n",
              "4  Second Owner          2020        6  "
            ],
            "text/html": [
              "\n",
              "  <div id=\"df-ec27c348-4867-4c94-b5f0-d9dcc6ba845d\">\n",
              "    <div class=\"colab-df-container\">\n",
              "      <div>\n",
              "<style scoped>\n",
              "    .dataframe tbody tr th:only-of-type {\n",
              "        vertical-align: middle;\n",
              "    }\n",
              "\n",
              "    .dataframe tbody tr th {\n",
              "        vertical-align: top;\n",
              "    }\n",
              "\n",
              "    .dataframe thead th {\n",
              "        text-align: right;\n",
              "    }\n",
              "</style>\n",
              "<table border=\"1\" class=\"dataframe\">\n",
              "  <thead>\n",
              "    <tr style=\"text-align: right;\">\n",
              "      <th></th>\n",
              "      <th>year</th>\n",
              "      <th>selling_price</th>\n",
              "      <th>km_driven</th>\n",
              "      <th>fuel</th>\n",
              "      <th>seller_type</th>\n",
              "      <th>transmission</th>\n",
              "      <th>owner</th>\n",
              "      <th>current_year</th>\n",
              "      <th>no_year</th>\n",
              "    </tr>\n",
              "  </thead>\n",
              "  <tbody>\n",
              "    <tr>\n",
              "      <th>0</th>\n",
              "      <td>2007</td>\n",
              "      <td>60000</td>\n",
              "      <td>70000</td>\n",
              "      <td>Petrol</td>\n",
              "      <td>Individual</td>\n",
              "      <td>Manual</td>\n",
              "      <td>First Owner</td>\n",
              "      <td>2020</td>\n",
              "      <td>13</td>\n",
              "    </tr>\n",
              "    <tr>\n",
              "      <th>1</th>\n",
              "      <td>2007</td>\n",
              "      <td>135000</td>\n",
              "      <td>50000</td>\n",
              "      <td>Petrol</td>\n",
              "      <td>Individual</td>\n",
              "      <td>Manual</td>\n",
              "      <td>First Owner</td>\n",
              "      <td>2020</td>\n",
              "      <td>13</td>\n",
              "    </tr>\n",
              "    <tr>\n",
              "      <th>2</th>\n",
              "      <td>2012</td>\n",
              "      <td>600000</td>\n",
              "      <td>100000</td>\n",
              "      <td>Diesel</td>\n",
              "      <td>Individual</td>\n",
              "      <td>Manual</td>\n",
              "      <td>First Owner</td>\n",
              "      <td>2020</td>\n",
              "      <td>8</td>\n",
              "    </tr>\n",
              "    <tr>\n",
              "      <th>3</th>\n",
              "      <td>2017</td>\n",
              "      <td>250000</td>\n",
              "      <td>46000</td>\n",
              "      <td>Petrol</td>\n",
              "      <td>Individual</td>\n",
              "      <td>Manual</td>\n",
              "      <td>First Owner</td>\n",
              "      <td>2020</td>\n",
              "      <td>3</td>\n",
              "    </tr>\n",
              "    <tr>\n",
              "      <th>4</th>\n",
              "      <td>2014</td>\n",
              "      <td>450000</td>\n",
              "      <td>141000</td>\n",
              "      <td>Diesel</td>\n",
              "      <td>Individual</td>\n",
              "      <td>Manual</td>\n",
              "      <td>Second Owner</td>\n",
              "      <td>2020</td>\n",
              "      <td>6</td>\n",
              "    </tr>\n",
              "  </tbody>\n",
              "</table>\n",
              "</div>\n",
              "      <button class=\"colab-df-convert\" onclick=\"convertToInteractive('df-ec27c348-4867-4c94-b5f0-d9dcc6ba845d')\"\n",
              "              title=\"Convert this dataframe to an interactive table.\"\n",
              "              style=\"display:none;\">\n",
              "        \n",
              "  <svg xmlns=\"http://www.w3.org/2000/svg\" height=\"24px\"viewBox=\"0 0 24 24\"\n",
              "       width=\"24px\">\n",
              "    <path d=\"M0 0h24v24H0V0z\" fill=\"none\"/>\n",
              "    <path d=\"M18.56 5.44l.94 2.06.94-2.06 2.06-.94-2.06-.94-.94-2.06-.94 2.06-2.06.94zm-11 1L8.5 8.5l.94-2.06 2.06-.94-2.06-.94L8.5 2.5l-.94 2.06-2.06.94zm10 10l.94 2.06.94-2.06 2.06-.94-2.06-.94-.94-2.06-.94 2.06-2.06.94z\"/><path d=\"M17.41 7.96l-1.37-1.37c-.4-.4-.92-.59-1.43-.59-.52 0-1.04.2-1.43.59L10.3 9.45l-7.72 7.72c-.78.78-.78 2.05 0 2.83L4 21.41c.39.39.9.59 1.41.59.51 0 1.02-.2 1.41-.59l7.78-7.78 2.81-2.81c.8-.78.8-2.07 0-2.86zM5.41 20L4 18.59l7.72-7.72 1.47 1.35L5.41 20z\"/>\n",
              "  </svg>\n",
              "      </button>\n",
              "      \n",
              "  <style>\n",
              "    .colab-df-container {\n",
              "      display:flex;\n",
              "      flex-wrap:wrap;\n",
              "      gap: 12px;\n",
              "    }\n",
              "\n",
              "    .colab-df-convert {\n",
              "      background-color: #E8F0FE;\n",
              "      border: none;\n",
              "      border-radius: 50%;\n",
              "      cursor: pointer;\n",
              "      display: none;\n",
              "      fill: #1967D2;\n",
              "      height: 32px;\n",
              "      padding: 0 0 0 0;\n",
              "      width: 32px;\n",
              "    }\n",
              "\n",
              "    .colab-df-convert:hover {\n",
              "      background-color: #E2EBFA;\n",
              "      box-shadow: 0px 1px 2px rgba(60, 64, 67, 0.3), 0px 1px 3px 1px rgba(60, 64, 67, 0.15);\n",
              "      fill: #174EA6;\n",
              "    }\n",
              "\n",
              "    [theme=dark] .colab-df-convert {\n",
              "      background-color: #3B4455;\n",
              "      fill: #D2E3FC;\n",
              "    }\n",
              "\n",
              "    [theme=dark] .colab-df-convert:hover {\n",
              "      background-color: #434B5C;\n",
              "      box-shadow: 0px 1px 3px 1px rgba(0, 0, 0, 0.15);\n",
              "      filter: drop-shadow(0px 1px 2px rgba(0, 0, 0, 0.3));\n",
              "      fill: #FFFFFF;\n",
              "    }\n",
              "  </style>\n",
              "\n",
              "      <script>\n",
              "        const buttonEl =\n",
              "          document.querySelector('#df-ec27c348-4867-4c94-b5f0-d9dcc6ba845d button.colab-df-convert');\n",
              "        buttonEl.style.display =\n",
              "          google.colab.kernel.accessAllowed ? 'block' : 'none';\n",
              "\n",
              "        async function convertToInteractive(key) {\n",
              "          const element = document.querySelector('#df-ec27c348-4867-4c94-b5f0-d9dcc6ba845d');\n",
              "          const dataTable =\n",
              "            await google.colab.kernel.invokeFunction('convertToInteractive',\n",
              "                                                     [key], {});\n",
              "          if (!dataTable) return;\n",
              "\n",
              "          const docLinkHtml = 'Like what you see? Visit the ' +\n",
              "            '<a target=\"_blank\" href=https://colab.research.google.com/notebooks/data_table.ipynb>data table notebook</a>'\n",
              "            + ' to learn more about interactive tables.';\n",
              "          element.innerHTML = '';\n",
              "          dataTable['output_type'] = 'display_data';\n",
              "          await google.colab.output.renderOutput(dataTable, element);\n",
              "          const docLink = document.createElement('div');\n",
              "          docLink.innerHTML = docLinkHtml;\n",
              "          element.appendChild(docLink);\n",
              "        }\n",
              "      </script>\n",
              "    </div>\n",
              "  </div>\n",
              "  "
            ]
          },
          "metadata": {},
          "execution_count": 20
        }
      ],
      "source": [
        "final_dataset.head()"
      ]
    },
    {
      "cell_type": "code",
      "source": [
        "final_dataset.drop(['year'],axis=1,inplace=True)\n",
        "# year column is gone so i used axis method, inplace method is true that particular method operation is done \n",
        "# inplace true is particular operation is true,inplace like a permanant operation"
      ],
      "metadata": {
        "id": "IQ91-_fsaIkd"
      },
      "execution_count": null,
      "outputs": []
    },
    {
      "cell_type": "code",
      "execution_count": null,
      "metadata": {
        "colab": {
          "base_uri": "https://localhost:8080/",
          "height": 206
        },
        "id": "SJlFe1UnGYZb",
        "outputId": "2d77706b-dce6-4933-84d6-2dd632914db8"
      },
      "outputs": [
        {
          "output_type": "execute_result",
          "data": {
            "text/plain": [
              "   selling_price  km_driven    fuel seller_type transmission         owner  \\\n",
              "0          60000      70000  Petrol  Individual       Manual   First Owner   \n",
              "1         135000      50000  Petrol  Individual       Manual   First Owner   \n",
              "2         600000     100000  Diesel  Individual       Manual   First Owner   \n",
              "3         250000      46000  Petrol  Individual       Manual   First Owner   \n",
              "4         450000     141000  Diesel  Individual       Manual  Second Owner   \n",
              "\n",
              "   current_year  no_year  \n",
              "0          2020       13  \n",
              "1          2020       13  \n",
              "2          2020        8  \n",
              "3          2020        3  \n",
              "4          2020        6  "
            ],
            "text/html": [
              "\n",
              "  <div id=\"df-8c46c2d1-eb94-4e04-a62a-8da8afdec100\">\n",
              "    <div class=\"colab-df-container\">\n",
              "      <div>\n",
              "<style scoped>\n",
              "    .dataframe tbody tr th:only-of-type {\n",
              "        vertical-align: middle;\n",
              "    }\n",
              "\n",
              "    .dataframe tbody tr th {\n",
              "        vertical-align: top;\n",
              "    }\n",
              "\n",
              "    .dataframe thead th {\n",
              "        text-align: right;\n",
              "    }\n",
              "</style>\n",
              "<table border=\"1\" class=\"dataframe\">\n",
              "  <thead>\n",
              "    <tr style=\"text-align: right;\">\n",
              "      <th></th>\n",
              "      <th>selling_price</th>\n",
              "      <th>km_driven</th>\n",
              "      <th>fuel</th>\n",
              "      <th>seller_type</th>\n",
              "      <th>transmission</th>\n",
              "      <th>owner</th>\n",
              "      <th>current_year</th>\n",
              "      <th>no_year</th>\n",
              "    </tr>\n",
              "  </thead>\n",
              "  <tbody>\n",
              "    <tr>\n",
              "      <th>0</th>\n",
              "      <td>60000</td>\n",
              "      <td>70000</td>\n",
              "      <td>Petrol</td>\n",
              "      <td>Individual</td>\n",
              "      <td>Manual</td>\n",
              "      <td>First Owner</td>\n",
              "      <td>2020</td>\n",
              "      <td>13</td>\n",
              "    </tr>\n",
              "    <tr>\n",
              "      <th>1</th>\n",
              "      <td>135000</td>\n",
              "      <td>50000</td>\n",
              "      <td>Petrol</td>\n",
              "      <td>Individual</td>\n",
              "      <td>Manual</td>\n",
              "      <td>First Owner</td>\n",
              "      <td>2020</td>\n",
              "      <td>13</td>\n",
              "    </tr>\n",
              "    <tr>\n",
              "      <th>2</th>\n",
              "      <td>600000</td>\n",
              "      <td>100000</td>\n",
              "      <td>Diesel</td>\n",
              "      <td>Individual</td>\n",
              "      <td>Manual</td>\n",
              "      <td>First Owner</td>\n",
              "      <td>2020</td>\n",
              "      <td>8</td>\n",
              "    </tr>\n",
              "    <tr>\n",
              "      <th>3</th>\n",
              "      <td>250000</td>\n",
              "      <td>46000</td>\n",
              "      <td>Petrol</td>\n",
              "      <td>Individual</td>\n",
              "      <td>Manual</td>\n",
              "      <td>First Owner</td>\n",
              "      <td>2020</td>\n",
              "      <td>3</td>\n",
              "    </tr>\n",
              "    <tr>\n",
              "      <th>4</th>\n",
              "      <td>450000</td>\n",
              "      <td>141000</td>\n",
              "      <td>Diesel</td>\n",
              "      <td>Individual</td>\n",
              "      <td>Manual</td>\n",
              "      <td>Second Owner</td>\n",
              "      <td>2020</td>\n",
              "      <td>6</td>\n",
              "    </tr>\n",
              "  </tbody>\n",
              "</table>\n",
              "</div>\n",
              "      <button class=\"colab-df-convert\" onclick=\"convertToInteractive('df-8c46c2d1-eb94-4e04-a62a-8da8afdec100')\"\n",
              "              title=\"Convert this dataframe to an interactive table.\"\n",
              "              style=\"display:none;\">\n",
              "        \n",
              "  <svg xmlns=\"http://www.w3.org/2000/svg\" height=\"24px\"viewBox=\"0 0 24 24\"\n",
              "       width=\"24px\">\n",
              "    <path d=\"M0 0h24v24H0V0z\" fill=\"none\"/>\n",
              "    <path d=\"M18.56 5.44l.94 2.06.94-2.06 2.06-.94-2.06-.94-.94-2.06-.94 2.06-2.06.94zm-11 1L8.5 8.5l.94-2.06 2.06-.94-2.06-.94L8.5 2.5l-.94 2.06-2.06.94zm10 10l.94 2.06.94-2.06 2.06-.94-2.06-.94-.94-2.06-.94 2.06-2.06.94z\"/><path d=\"M17.41 7.96l-1.37-1.37c-.4-.4-.92-.59-1.43-.59-.52 0-1.04.2-1.43.59L10.3 9.45l-7.72 7.72c-.78.78-.78 2.05 0 2.83L4 21.41c.39.39.9.59 1.41.59.51 0 1.02-.2 1.41-.59l7.78-7.78 2.81-2.81c.8-.78.8-2.07 0-2.86zM5.41 20L4 18.59l7.72-7.72 1.47 1.35L5.41 20z\"/>\n",
              "  </svg>\n",
              "      </button>\n",
              "      \n",
              "  <style>\n",
              "    .colab-df-container {\n",
              "      display:flex;\n",
              "      flex-wrap:wrap;\n",
              "      gap: 12px;\n",
              "    }\n",
              "\n",
              "    .colab-df-convert {\n",
              "      background-color: #E8F0FE;\n",
              "      border: none;\n",
              "      border-radius: 50%;\n",
              "      cursor: pointer;\n",
              "      display: none;\n",
              "      fill: #1967D2;\n",
              "      height: 32px;\n",
              "      padding: 0 0 0 0;\n",
              "      width: 32px;\n",
              "    }\n",
              "\n",
              "    .colab-df-convert:hover {\n",
              "      background-color: #E2EBFA;\n",
              "      box-shadow: 0px 1px 2px rgba(60, 64, 67, 0.3), 0px 1px 3px 1px rgba(60, 64, 67, 0.15);\n",
              "      fill: #174EA6;\n",
              "    }\n",
              "\n",
              "    [theme=dark] .colab-df-convert {\n",
              "      background-color: #3B4455;\n",
              "      fill: #D2E3FC;\n",
              "    }\n",
              "\n",
              "    [theme=dark] .colab-df-convert:hover {\n",
              "      background-color: #434B5C;\n",
              "      box-shadow: 0px 1px 3px 1px rgba(0, 0, 0, 0.15);\n",
              "      filter: drop-shadow(0px 1px 2px rgba(0, 0, 0, 0.3));\n",
              "      fill: #FFFFFF;\n",
              "    }\n",
              "  </style>\n",
              "\n",
              "      <script>\n",
              "        const buttonEl =\n",
              "          document.querySelector('#df-8c46c2d1-eb94-4e04-a62a-8da8afdec100 button.colab-df-convert');\n",
              "        buttonEl.style.display =\n",
              "          google.colab.kernel.accessAllowed ? 'block' : 'none';\n",
              "\n",
              "        async function convertToInteractive(key) {\n",
              "          const element = document.querySelector('#df-8c46c2d1-eb94-4e04-a62a-8da8afdec100');\n",
              "          const dataTable =\n",
              "            await google.colab.kernel.invokeFunction('convertToInteractive',\n",
              "                                                     [key], {});\n",
              "          if (!dataTable) return;\n",
              "\n",
              "          const docLinkHtml = 'Like what you see? Visit the ' +\n",
              "            '<a target=\"_blank\" href=https://colab.research.google.com/notebooks/data_table.ipynb>data table notebook</a>'\n",
              "            + ' to learn more about interactive tables.';\n",
              "          element.innerHTML = '';\n",
              "          dataTable['output_type'] = 'display_data';\n",
              "          await google.colab.output.renderOutput(dataTable, element);\n",
              "          const docLink = document.createElement('div');\n",
              "          docLink.innerHTML = docLinkHtml;\n",
              "          element.appendChild(docLink);\n",
              "        }\n",
              "      </script>\n",
              "    </div>\n",
              "  </div>\n",
              "  "
            ]
          },
          "metadata": {},
          "execution_count": 22
        }
      ],
      "source": [
        "final_dataset.head()"
      ]
    },
    {
      "cell_type": "code",
      "execution_count": null,
      "metadata": {
        "id": "cLBsvkE6GeAq"
      },
      "outputs": [],
      "source": [
        "final_dataset.drop(['current_year'],axis=1,inplace=True)"
      ]
    },
    {
      "cell_type": "code",
      "execution_count": null,
      "metadata": {
        "colab": {
          "base_uri": "https://localhost:8080/",
          "height": 206
        },
        "id": "RSaiZwaGGlz4",
        "outputId": "c0046647-e287-4653-e276-4979bf11a2e0"
      },
      "outputs": [
        {
          "output_type": "execute_result",
          "data": {
            "text/plain": [
              "   selling_price  km_driven    fuel seller_type transmission         owner  \\\n",
              "0          60000      70000  Petrol  Individual       Manual   First Owner   \n",
              "1         135000      50000  Petrol  Individual       Manual   First Owner   \n",
              "2         600000     100000  Diesel  Individual       Manual   First Owner   \n",
              "3         250000      46000  Petrol  Individual       Manual   First Owner   \n",
              "4         450000     141000  Diesel  Individual       Manual  Second Owner   \n",
              "\n",
              "   no_year  \n",
              "0       13  \n",
              "1       13  \n",
              "2        8  \n",
              "3        3  \n",
              "4        6  "
            ],
            "text/html": [
              "\n",
              "  <div id=\"df-3cfa90c5-8b6d-46b2-91ce-e43779445c0f\">\n",
              "    <div class=\"colab-df-container\">\n",
              "      <div>\n",
              "<style scoped>\n",
              "    .dataframe tbody tr th:only-of-type {\n",
              "        vertical-align: middle;\n",
              "    }\n",
              "\n",
              "    .dataframe tbody tr th {\n",
              "        vertical-align: top;\n",
              "    }\n",
              "\n",
              "    .dataframe thead th {\n",
              "        text-align: right;\n",
              "    }\n",
              "</style>\n",
              "<table border=\"1\" class=\"dataframe\">\n",
              "  <thead>\n",
              "    <tr style=\"text-align: right;\">\n",
              "      <th></th>\n",
              "      <th>selling_price</th>\n",
              "      <th>km_driven</th>\n",
              "      <th>fuel</th>\n",
              "      <th>seller_type</th>\n",
              "      <th>transmission</th>\n",
              "      <th>owner</th>\n",
              "      <th>no_year</th>\n",
              "    </tr>\n",
              "  </thead>\n",
              "  <tbody>\n",
              "    <tr>\n",
              "      <th>0</th>\n",
              "      <td>60000</td>\n",
              "      <td>70000</td>\n",
              "      <td>Petrol</td>\n",
              "      <td>Individual</td>\n",
              "      <td>Manual</td>\n",
              "      <td>First Owner</td>\n",
              "      <td>13</td>\n",
              "    </tr>\n",
              "    <tr>\n",
              "      <th>1</th>\n",
              "      <td>135000</td>\n",
              "      <td>50000</td>\n",
              "      <td>Petrol</td>\n",
              "      <td>Individual</td>\n",
              "      <td>Manual</td>\n",
              "      <td>First Owner</td>\n",
              "      <td>13</td>\n",
              "    </tr>\n",
              "    <tr>\n",
              "      <th>2</th>\n",
              "      <td>600000</td>\n",
              "      <td>100000</td>\n",
              "      <td>Diesel</td>\n",
              "      <td>Individual</td>\n",
              "      <td>Manual</td>\n",
              "      <td>First Owner</td>\n",
              "      <td>8</td>\n",
              "    </tr>\n",
              "    <tr>\n",
              "      <th>3</th>\n",
              "      <td>250000</td>\n",
              "      <td>46000</td>\n",
              "      <td>Petrol</td>\n",
              "      <td>Individual</td>\n",
              "      <td>Manual</td>\n",
              "      <td>First Owner</td>\n",
              "      <td>3</td>\n",
              "    </tr>\n",
              "    <tr>\n",
              "      <th>4</th>\n",
              "      <td>450000</td>\n",
              "      <td>141000</td>\n",
              "      <td>Diesel</td>\n",
              "      <td>Individual</td>\n",
              "      <td>Manual</td>\n",
              "      <td>Second Owner</td>\n",
              "      <td>6</td>\n",
              "    </tr>\n",
              "  </tbody>\n",
              "</table>\n",
              "</div>\n",
              "      <button class=\"colab-df-convert\" onclick=\"convertToInteractive('df-3cfa90c5-8b6d-46b2-91ce-e43779445c0f')\"\n",
              "              title=\"Convert this dataframe to an interactive table.\"\n",
              "              style=\"display:none;\">\n",
              "        \n",
              "  <svg xmlns=\"http://www.w3.org/2000/svg\" height=\"24px\"viewBox=\"0 0 24 24\"\n",
              "       width=\"24px\">\n",
              "    <path d=\"M0 0h24v24H0V0z\" fill=\"none\"/>\n",
              "    <path d=\"M18.56 5.44l.94 2.06.94-2.06 2.06-.94-2.06-.94-.94-2.06-.94 2.06-2.06.94zm-11 1L8.5 8.5l.94-2.06 2.06-.94-2.06-.94L8.5 2.5l-.94 2.06-2.06.94zm10 10l.94 2.06.94-2.06 2.06-.94-2.06-.94-.94-2.06-.94 2.06-2.06.94z\"/><path d=\"M17.41 7.96l-1.37-1.37c-.4-.4-.92-.59-1.43-.59-.52 0-1.04.2-1.43.59L10.3 9.45l-7.72 7.72c-.78.78-.78 2.05 0 2.83L4 21.41c.39.39.9.59 1.41.59.51 0 1.02-.2 1.41-.59l7.78-7.78 2.81-2.81c.8-.78.8-2.07 0-2.86zM5.41 20L4 18.59l7.72-7.72 1.47 1.35L5.41 20z\"/>\n",
              "  </svg>\n",
              "      </button>\n",
              "      \n",
              "  <style>\n",
              "    .colab-df-container {\n",
              "      display:flex;\n",
              "      flex-wrap:wrap;\n",
              "      gap: 12px;\n",
              "    }\n",
              "\n",
              "    .colab-df-convert {\n",
              "      background-color: #E8F0FE;\n",
              "      border: none;\n",
              "      border-radius: 50%;\n",
              "      cursor: pointer;\n",
              "      display: none;\n",
              "      fill: #1967D2;\n",
              "      height: 32px;\n",
              "      padding: 0 0 0 0;\n",
              "      width: 32px;\n",
              "    }\n",
              "\n",
              "    .colab-df-convert:hover {\n",
              "      background-color: #E2EBFA;\n",
              "      box-shadow: 0px 1px 2px rgba(60, 64, 67, 0.3), 0px 1px 3px 1px rgba(60, 64, 67, 0.15);\n",
              "      fill: #174EA6;\n",
              "    }\n",
              "\n",
              "    [theme=dark] .colab-df-convert {\n",
              "      background-color: #3B4455;\n",
              "      fill: #D2E3FC;\n",
              "    }\n",
              "\n",
              "    [theme=dark] .colab-df-convert:hover {\n",
              "      background-color: #434B5C;\n",
              "      box-shadow: 0px 1px 3px 1px rgba(0, 0, 0, 0.15);\n",
              "      filter: drop-shadow(0px 1px 2px rgba(0, 0, 0, 0.3));\n",
              "      fill: #FFFFFF;\n",
              "    }\n",
              "  </style>\n",
              "\n",
              "      <script>\n",
              "        const buttonEl =\n",
              "          document.querySelector('#df-3cfa90c5-8b6d-46b2-91ce-e43779445c0f button.colab-df-convert');\n",
              "        buttonEl.style.display =\n",
              "          google.colab.kernel.accessAllowed ? 'block' : 'none';\n",
              "\n",
              "        async function convertToInteractive(key) {\n",
              "          const element = document.querySelector('#df-3cfa90c5-8b6d-46b2-91ce-e43779445c0f');\n",
              "          const dataTable =\n",
              "            await google.colab.kernel.invokeFunction('convertToInteractive',\n",
              "                                                     [key], {});\n",
              "          if (!dataTable) return;\n",
              "\n",
              "          const docLinkHtml = 'Like what you see? Visit the ' +\n",
              "            '<a target=\"_blank\" href=https://colab.research.google.com/notebooks/data_table.ipynb>data table notebook</a>'\n",
              "            + ' to learn more about interactive tables.';\n",
              "          element.innerHTML = '';\n",
              "          dataTable['output_type'] = 'display_data';\n",
              "          await google.colab.output.renderOutput(dataTable, element);\n",
              "          const docLink = document.createElement('div');\n",
              "          docLink.innerHTML = docLinkHtml;\n",
              "          element.appendChild(docLink);\n",
              "        }\n",
              "      </script>\n",
              "    </div>\n",
              "  </div>\n",
              "  "
            ]
          },
          "metadata": {},
          "execution_count": 24
        }
      ],
      "source": [
        "final_dataset.head()"
      ]
    },
    {
      "cell_type": "code",
      "execution_count": null,
      "metadata": {
        "id": "iPGlNllzGsJ_"
      },
      "outputs": [],
      "source": [
        "#less no.of categoricalvalues so i'm used dummy variable trap \n",
        "#drop_first=True 1st column should also deleted prevent of dummy variable trap\n",
        "final_dataset=pd.get_dummies(final_dataset,drop_first=True)"
      ]
    },
    {
      "cell_type": "code",
      "execution_count": null,
      "metadata": {
        "colab": {
          "base_uri": "https://localhost:8080/",
          "height": 305
        },
        "id": "2gg6BncUHpCJ",
        "outputId": "58bae12b-925a-4a1e-fa39-5d320939df54"
      },
      "outputs": [
        {
          "output_type": "execute_result",
          "data": {
            "text/plain": [
              "   selling_price  km_driven  no_year  fuel_Diesel  fuel_Electric  fuel_LPG  \\\n",
              "0          60000      70000       13            0              0         0   \n",
              "1         135000      50000       13            0              0         0   \n",
              "2         600000     100000        8            1              0         0   \n",
              "3         250000      46000        3            0              0         0   \n",
              "4         450000     141000        6            1              0         0   \n",
              "\n",
              "   fuel_Petrol  seller_type_Individual  seller_type_Trustmark Dealer  \\\n",
              "0            1                       1                             0   \n",
              "1            1                       1                             0   \n",
              "2            0                       1                             0   \n",
              "3            1                       1                             0   \n",
              "4            0                       1                             0   \n",
              "\n",
              "   transmission_Manual  owner_Fourth & Above Owner  owner_Second Owner  \\\n",
              "0                    1                           0                   0   \n",
              "1                    1                           0                   0   \n",
              "2                    1                           0                   0   \n",
              "3                    1                           0                   0   \n",
              "4                    1                           0                   1   \n",
              "\n",
              "   owner_Test Drive Car  owner_Third Owner  \n",
              "0                     0                  0  \n",
              "1                     0                  0  \n",
              "2                     0                  0  \n",
              "3                     0                  0  \n",
              "4                     0                  0  "
            ],
            "text/html": [
              "\n",
              "  <div id=\"df-a8721705-d55c-40f0-93ff-3739de41b6d3\">\n",
              "    <div class=\"colab-df-container\">\n",
              "      <div>\n",
              "<style scoped>\n",
              "    .dataframe tbody tr th:only-of-type {\n",
              "        vertical-align: middle;\n",
              "    }\n",
              "\n",
              "    .dataframe tbody tr th {\n",
              "        vertical-align: top;\n",
              "    }\n",
              "\n",
              "    .dataframe thead th {\n",
              "        text-align: right;\n",
              "    }\n",
              "</style>\n",
              "<table border=\"1\" class=\"dataframe\">\n",
              "  <thead>\n",
              "    <tr style=\"text-align: right;\">\n",
              "      <th></th>\n",
              "      <th>selling_price</th>\n",
              "      <th>km_driven</th>\n",
              "      <th>no_year</th>\n",
              "      <th>fuel_Diesel</th>\n",
              "      <th>fuel_Electric</th>\n",
              "      <th>fuel_LPG</th>\n",
              "      <th>fuel_Petrol</th>\n",
              "      <th>seller_type_Individual</th>\n",
              "      <th>seller_type_Trustmark Dealer</th>\n",
              "      <th>transmission_Manual</th>\n",
              "      <th>owner_Fourth &amp; Above Owner</th>\n",
              "      <th>owner_Second Owner</th>\n",
              "      <th>owner_Test Drive Car</th>\n",
              "      <th>owner_Third Owner</th>\n",
              "    </tr>\n",
              "  </thead>\n",
              "  <tbody>\n",
              "    <tr>\n",
              "      <th>0</th>\n",
              "      <td>60000</td>\n",
              "      <td>70000</td>\n",
              "      <td>13</td>\n",
              "      <td>0</td>\n",
              "      <td>0</td>\n",
              "      <td>0</td>\n",
              "      <td>1</td>\n",
              "      <td>1</td>\n",
              "      <td>0</td>\n",
              "      <td>1</td>\n",
              "      <td>0</td>\n",
              "      <td>0</td>\n",
              "      <td>0</td>\n",
              "      <td>0</td>\n",
              "    </tr>\n",
              "    <tr>\n",
              "      <th>1</th>\n",
              "      <td>135000</td>\n",
              "      <td>50000</td>\n",
              "      <td>13</td>\n",
              "      <td>0</td>\n",
              "      <td>0</td>\n",
              "      <td>0</td>\n",
              "      <td>1</td>\n",
              "      <td>1</td>\n",
              "      <td>0</td>\n",
              "      <td>1</td>\n",
              "      <td>0</td>\n",
              "      <td>0</td>\n",
              "      <td>0</td>\n",
              "      <td>0</td>\n",
              "    </tr>\n",
              "    <tr>\n",
              "      <th>2</th>\n",
              "      <td>600000</td>\n",
              "      <td>100000</td>\n",
              "      <td>8</td>\n",
              "      <td>1</td>\n",
              "      <td>0</td>\n",
              "      <td>0</td>\n",
              "      <td>0</td>\n",
              "      <td>1</td>\n",
              "      <td>0</td>\n",
              "      <td>1</td>\n",
              "      <td>0</td>\n",
              "      <td>0</td>\n",
              "      <td>0</td>\n",
              "      <td>0</td>\n",
              "    </tr>\n",
              "    <tr>\n",
              "      <th>3</th>\n",
              "      <td>250000</td>\n",
              "      <td>46000</td>\n",
              "      <td>3</td>\n",
              "      <td>0</td>\n",
              "      <td>0</td>\n",
              "      <td>0</td>\n",
              "      <td>1</td>\n",
              "      <td>1</td>\n",
              "      <td>0</td>\n",
              "      <td>1</td>\n",
              "      <td>0</td>\n",
              "      <td>0</td>\n",
              "      <td>0</td>\n",
              "      <td>0</td>\n",
              "    </tr>\n",
              "    <tr>\n",
              "      <th>4</th>\n",
              "      <td>450000</td>\n",
              "      <td>141000</td>\n",
              "      <td>6</td>\n",
              "      <td>1</td>\n",
              "      <td>0</td>\n",
              "      <td>0</td>\n",
              "      <td>0</td>\n",
              "      <td>1</td>\n",
              "      <td>0</td>\n",
              "      <td>1</td>\n",
              "      <td>0</td>\n",
              "      <td>1</td>\n",
              "      <td>0</td>\n",
              "      <td>0</td>\n",
              "    </tr>\n",
              "  </tbody>\n",
              "</table>\n",
              "</div>\n",
              "      <button class=\"colab-df-convert\" onclick=\"convertToInteractive('df-a8721705-d55c-40f0-93ff-3739de41b6d3')\"\n",
              "              title=\"Convert this dataframe to an interactive table.\"\n",
              "              style=\"display:none;\">\n",
              "        \n",
              "  <svg xmlns=\"http://www.w3.org/2000/svg\" height=\"24px\"viewBox=\"0 0 24 24\"\n",
              "       width=\"24px\">\n",
              "    <path d=\"M0 0h24v24H0V0z\" fill=\"none\"/>\n",
              "    <path d=\"M18.56 5.44l.94 2.06.94-2.06 2.06-.94-2.06-.94-.94-2.06-.94 2.06-2.06.94zm-11 1L8.5 8.5l.94-2.06 2.06-.94-2.06-.94L8.5 2.5l-.94 2.06-2.06.94zm10 10l.94 2.06.94-2.06 2.06-.94-2.06-.94-.94-2.06-.94 2.06-2.06.94z\"/><path d=\"M17.41 7.96l-1.37-1.37c-.4-.4-.92-.59-1.43-.59-.52 0-1.04.2-1.43.59L10.3 9.45l-7.72 7.72c-.78.78-.78 2.05 0 2.83L4 21.41c.39.39.9.59 1.41.59.51 0 1.02-.2 1.41-.59l7.78-7.78 2.81-2.81c.8-.78.8-2.07 0-2.86zM5.41 20L4 18.59l7.72-7.72 1.47 1.35L5.41 20z\"/>\n",
              "  </svg>\n",
              "      </button>\n",
              "      \n",
              "  <style>\n",
              "    .colab-df-container {\n",
              "      display:flex;\n",
              "      flex-wrap:wrap;\n",
              "      gap: 12px;\n",
              "    }\n",
              "\n",
              "    .colab-df-convert {\n",
              "      background-color: #E8F0FE;\n",
              "      border: none;\n",
              "      border-radius: 50%;\n",
              "      cursor: pointer;\n",
              "      display: none;\n",
              "      fill: #1967D2;\n",
              "      height: 32px;\n",
              "      padding: 0 0 0 0;\n",
              "      width: 32px;\n",
              "    }\n",
              "\n",
              "    .colab-df-convert:hover {\n",
              "      background-color: #E2EBFA;\n",
              "      box-shadow: 0px 1px 2px rgba(60, 64, 67, 0.3), 0px 1px 3px 1px rgba(60, 64, 67, 0.15);\n",
              "      fill: #174EA6;\n",
              "    }\n",
              "\n",
              "    [theme=dark] .colab-df-convert {\n",
              "      background-color: #3B4455;\n",
              "      fill: #D2E3FC;\n",
              "    }\n",
              "\n",
              "    [theme=dark] .colab-df-convert:hover {\n",
              "      background-color: #434B5C;\n",
              "      box-shadow: 0px 1px 3px 1px rgba(0, 0, 0, 0.15);\n",
              "      filter: drop-shadow(0px 1px 2px rgba(0, 0, 0, 0.3));\n",
              "      fill: #FFFFFF;\n",
              "    }\n",
              "  </style>\n",
              "\n",
              "      <script>\n",
              "        const buttonEl =\n",
              "          document.querySelector('#df-a8721705-d55c-40f0-93ff-3739de41b6d3 button.colab-df-convert');\n",
              "        buttonEl.style.display =\n",
              "          google.colab.kernel.accessAllowed ? 'block' : 'none';\n",
              "\n",
              "        async function convertToInteractive(key) {\n",
              "          const element = document.querySelector('#df-a8721705-d55c-40f0-93ff-3739de41b6d3');\n",
              "          const dataTable =\n",
              "            await google.colab.kernel.invokeFunction('convertToInteractive',\n",
              "                                                     [key], {});\n",
              "          if (!dataTable) return;\n",
              "\n",
              "          const docLinkHtml = 'Like what you see? Visit the ' +\n",
              "            '<a target=\"_blank\" href=https://colab.research.google.com/notebooks/data_table.ipynb>data table notebook</a>'\n",
              "            + ' to learn more about interactive tables.';\n",
              "          element.innerHTML = '';\n",
              "          dataTable['output_type'] = 'display_data';\n",
              "          await google.colab.output.renderOutput(dataTable, element);\n",
              "          const docLink = document.createElement('div');\n",
              "          docLink.innerHTML = docLinkHtml;\n",
              "          element.appendChild(docLink);\n",
              "        }\n",
              "      </script>\n",
              "    </div>\n",
              "  </div>\n",
              "  "
            ]
          },
          "metadata": {},
          "execution_count": 26
        }
      ],
      "source": [
        "#dummy variable track just explore this first 2 values is 0,0 that based on the have 3feature so we have use dummy variable \n",
        "final_dataset.head()"
      ]
    },
    {
      "cell_type": "code",
      "execution_count": null,
      "metadata": {
        "colab": {
          "base_uri": "https://localhost:8080/",
          "height": 622
        },
        "id": "lHj_-4nVH7Nl",
        "outputId": "e594cf78-7078-406d-f751-685f28b8b4b6"
      },
      "outputs": [
        {
          "output_type": "execute_result",
          "data": {
            "text/plain": [
              "                              selling_price  km_driven   no_year  fuel_Diesel  \\\n",
              "selling_price                      1.000000  -0.192289 -0.413922     0.282947   \n",
              "km_driven                         -0.192289   1.000000  0.419688     0.285396   \n",
              "no_year                           -0.413922   0.419688  1.000000    -0.121424   \n",
              "fuel_Diesel                        0.282947   0.285396 -0.121424     1.000000   \n",
              "fuel_Electric                     -0.005095  -0.001372  0.025540    -0.015063   \n",
              "fuel_LPG                          -0.042434   0.036652  0.051266    -0.072422   \n",
              "fuel_Petrol                       -0.269453  -0.291139  0.114908    -0.970934   \n",
              "seller_type_Individual            -0.236798   0.182663  0.173703    -0.035314   \n",
              "seller_type_Trustmark Dealer       0.110176  -0.089858 -0.100225    -0.007911   \n",
              "transmission_Manual               -0.530205   0.120226  0.143800    -0.048098   \n",
              "owner_Fourth & Above Owner        -0.078725   0.097349  0.186361    -0.021054   \n",
              "owner_Second Owner                -0.161986   0.195203  0.292349     0.003524   \n",
              "owner_Test Drive Car               0.048799  -0.083445 -0.095795    -0.010575   \n",
              "owner_Third Owner                 -0.111326   0.194713  0.244308     0.009373   \n",
              "\n",
              "                              fuel_Electric  fuel_LPG  fuel_Petrol  \\\n",
              "selling_price                     -0.005095 -0.042434    -0.269453   \n",
              "km_driven                         -0.001372  0.036652    -0.291139   \n",
              "no_year                            0.025540  0.051266     0.114908   \n",
              "fuel_Diesel                       -0.015063 -0.072422    -0.970934   \n",
              "fuel_Electric                      1.000000 -0.001108    -0.014856   \n",
              "fuel_LPG                          -0.001108  1.000000    -0.071427   \n",
              "fuel_Petrol                       -0.014856 -0.071427     1.000000   \n",
              "seller_type_Individual            -0.026118  0.035122     0.029845   \n",
              "seller_type_Trustmark Dealer      -0.002355 -0.011324     0.012489   \n",
              "transmission_Manual               -0.044746  0.024764     0.039614   \n",
              "owner_Fourth & Above Owner        -0.002094  0.013384     0.011502   \n",
              "owner_Second Owner                 0.025960  0.030141    -0.012717   \n",
              "owner_Test Drive Car              -0.000952 -0.004577     0.012427   \n",
              "owner_Third Owner                 -0.004166  0.004836    -0.008502   \n",
              "\n",
              "                              seller_type_Individual  \\\n",
              "selling_price                              -0.236798   \n",
              "km_driven                                   0.182663   \n",
              "no_year                                     0.173703   \n",
              "fuel_Diesel                                -0.035314   \n",
              "fuel_Electric                              -0.026118   \n",
              "fuel_LPG                                    0.035122   \n",
              "fuel_Petrol                                 0.029845   \n",
              "seller_type_Individual                      1.000000   \n",
              "seller_type_Trustmark Dealer               -0.266904   \n",
              "transmission_Manual                         0.214163   \n",
              "owner_Fourth & Above Owner                  0.072322   \n",
              "owner_Second Owner                          0.186573   \n",
              "owner_Test Drive Car                       -0.107886   \n",
              "owner_Third Owner                           0.140823   \n",
              "\n",
              "                              seller_type_Trustmark Dealer  \\\n",
              "selling_price                                     0.110176   \n",
              "km_driven                                        -0.089858   \n",
              "no_year                                          -0.100225   \n",
              "fuel_Diesel                                      -0.007911   \n",
              "fuel_Electric                                    -0.002355   \n",
              "fuel_LPG                                         -0.011324   \n",
              "fuel_Petrol                                       0.012489   \n",
              "seller_type_Individual                           -0.266904   \n",
              "seller_type_Trustmark Dealer                      1.000000   \n",
              "transmission_Manual                              -0.042346   \n",
              "owner_Fourth & Above Owner                       -0.021395   \n",
              "owner_Second Owner                               -0.076764   \n",
              "owner_Test Drive Car                             -0.009729   \n",
              "owner_Third Owner                                -0.042578   \n",
              "\n",
              "                              transmission_Manual  owner_Fourth & Above Owner  \\\n",
              "selling_price                           -0.530205                   -0.078725   \n",
              "km_driven                                0.120226                    0.097349   \n",
              "no_year                                  0.143800                    0.186361   \n",
              "fuel_Diesel                             -0.048098                   -0.021054   \n",
              "fuel_Electric                           -0.044746                   -0.002094   \n",
              "fuel_LPG                                 0.024764                    0.013384   \n",
              "fuel_Petrol                              0.039614                    0.011502   \n",
              "seller_type_Individual                   0.214163                    0.072322   \n",
              "seller_type_Trustmark Dealer            -0.042346                   -0.021395   \n",
              "transmission_Manual                      1.000000                    0.035597   \n",
              "owner_Fourth & Above Owner               0.035597                    1.000000   \n",
              "owner_Second Owner                       0.068068                   -0.080648   \n",
              "owner_Test Drive Car                     0.009152                   -0.008648   \n",
              "owner_Third Owner                        0.030802                   -0.037849   \n",
              "\n",
              "                              owner_Second Owner  owner_Test Drive Car  \\\n",
              "selling_price                          -0.161986              0.048799   \n",
              "km_driven                               0.195203             -0.083445   \n",
              "no_year                                 0.292349             -0.095795   \n",
              "fuel_Diesel                             0.003524             -0.010575   \n",
              "fuel_Electric                           0.025960             -0.000952   \n",
              "fuel_LPG                                0.030141             -0.004577   \n",
              "fuel_Petrol                            -0.012717              0.012427   \n",
              "seller_type_Individual                  0.186573             -0.107886   \n",
              "seller_type_Trustmark Dealer           -0.076764             -0.009729   \n",
              "transmission_Manual                     0.068068              0.009152   \n",
              "owner_Fourth & Above Owner             -0.080648             -0.008648   \n",
              "owner_Second Owner                      1.000000             -0.036672   \n",
              "owner_Test Drive Car                   -0.036672              1.000000   \n",
              "owner_Third Owner                      -0.160498             -0.017210   \n",
              "\n",
              "                              owner_Third Owner  \n",
              "selling_price                         -0.111326  \n",
              "km_driven                              0.194713  \n",
              "no_year                                0.244308  \n",
              "fuel_Diesel                            0.009373  \n",
              "fuel_Electric                         -0.004166  \n",
              "fuel_LPG                               0.004836  \n",
              "fuel_Petrol                           -0.008502  \n",
              "seller_type_Individual                 0.140823  \n",
              "seller_type_Trustmark Dealer          -0.042578  \n",
              "transmission_Manual                    0.030802  \n",
              "owner_Fourth & Above Owner            -0.037849  \n",
              "owner_Second Owner                    -0.160498  \n",
              "owner_Test Drive Car                  -0.017210  \n",
              "owner_Third Owner                      1.000000  "
            ],
            "text/html": [
              "\n",
              "  <div id=\"df-ab06a5d1-a231-4a50-ac8f-393f2439c2aa\">\n",
              "    <div class=\"colab-df-container\">\n",
              "      <div>\n",
              "<style scoped>\n",
              "    .dataframe tbody tr th:only-of-type {\n",
              "        vertical-align: middle;\n",
              "    }\n",
              "\n",
              "    .dataframe tbody tr th {\n",
              "        vertical-align: top;\n",
              "    }\n",
              "\n",
              "    .dataframe thead th {\n",
              "        text-align: right;\n",
              "    }\n",
              "</style>\n",
              "<table border=\"1\" class=\"dataframe\">\n",
              "  <thead>\n",
              "    <tr style=\"text-align: right;\">\n",
              "      <th></th>\n",
              "      <th>selling_price</th>\n",
              "      <th>km_driven</th>\n",
              "      <th>no_year</th>\n",
              "      <th>fuel_Diesel</th>\n",
              "      <th>fuel_Electric</th>\n",
              "      <th>fuel_LPG</th>\n",
              "      <th>fuel_Petrol</th>\n",
              "      <th>seller_type_Individual</th>\n",
              "      <th>seller_type_Trustmark Dealer</th>\n",
              "      <th>transmission_Manual</th>\n",
              "      <th>owner_Fourth &amp; Above Owner</th>\n",
              "      <th>owner_Second Owner</th>\n",
              "      <th>owner_Test Drive Car</th>\n",
              "      <th>owner_Third Owner</th>\n",
              "    </tr>\n",
              "  </thead>\n",
              "  <tbody>\n",
              "    <tr>\n",
              "      <th>selling_price</th>\n",
              "      <td>1.000000</td>\n",
              "      <td>-0.192289</td>\n",
              "      <td>-0.413922</td>\n",
              "      <td>0.282947</td>\n",
              "      <td>-0.005095</td>\n",
              "      <td>-0.042434</td>\n",
              "      <td>-0.269453</td>\n",
              "      <td>-0.236798</td>\n",
              "      <td>0.110176</td>\n",
              "      <td>-0.530205</td>\n",
              "      <td>-0.078725</td>\n",
              "      <td>-0.161986</td>\n",
              "      <td>0.048799</td>\n",
              "      <td>-0.111326</td>\n",
              "    </tr>\n",
              "    <tr>\n",
              "      <th>km_driven</th>\n",
              "      <td>-0.192289</td>\n",
              "      <td>1.000000</td>\n",
              "      <td>0.419688</td>\n",
              "      <td>0.285396</td>\n",
              "      <td>-0.001372</td>\n",
              "      <td>0.036652</td>\n",
              "      <td>-0.291139</td>\n",
              "      <td>0.182663</td>\n",
              "      <td>-0.089858</td>\n",
              "      <td>0.120226</td>\n",
              "      <td>0.097349</td>\n",
              "      <td>0.195203</td>\n",
              "      <td>-0.083445</td>\n",
              "      <td>0.194713</td>\n",
              "    </tr>\n",
              "    <tr>\n",
              "      <th>no_year</th>\n",
              "      <td>-0.413922</td>\n",
              "      <td>0.419688</td>\n",
              "      <td>1.000000</td>\n",
              "      <td>-0.121424</td>\n",
              "      <td>0.025540</td>\n",
              "      <td>0.051266</td>\n",
              "      <td>0.114908</td>\n",
              "      <td>0.173703</td>\n",
              "      <td>-0.100225</td>\n",
              "      <td>0.143800</td>\n",
              "      <td>0.186361</td>\n",
              "      <td>0.292349</td>\n",
              "      <td>-0.095795</td>\n",
              "      <td>0.244308</td>\n",
              "    </tr>\n",
              "    <tr>\n",
              "      <th>fuel_Diesel</th>\n",
              "      <td>0.282947</td>\n",
              "      <td>0.285396</td>\n",
              "      <td>-0.121424</td>\n",
              "      <td>1.000000</td>\n",
              "      <td>-0.015063</td>\n",
              "      <td>-0.072422</td>\n",
              "      <td>-0.970934</td>\n",
              "      <td>-0.035314</td>\n",
              "      <td>-0.007911</td>\n",
              "      <td>-0.048098</td>\n",
              "      <td>-0.021054</td>\n",
              "      <td>0.003524</td>\n",
              "      <td>-0.010575</td>\n",
              "      <td>0.009373</td>\n",
              "    </tr>\n",
              "    <tr>\n",
              "      <th>fuel_Electric</th>\n",
              "      <td>-0.005095</td>\n",
              "      <td>-0.001372</td>\n",
              "      <td>0.025540</td>\n",
              "      <td>-0.015063</td>\n",
              "      <td>1.000000</td>\n",
              "      <td>-0.001108</td>\n",
              "      <td>-0.014856</td>\n",
              "      <td>-0.026118</td>\n",
              "      <td>-0.002355</td>\n",
              "      <td>-0.044746</td>\n",
              "      <td>-0.002094</td>\n",
              "      <td>0.025960</td>\n",
              "      <td>-0.000952</td>\n",
              "      <td>-0.004166</td>\n",
              "    </tr>\n",
              "    <tr>\n",
              "      <th>fuel_LPG</th>\n",
              "      <td>-0.042434</td>\n",
              "      <td>0.036652</td>\n",
              "      <td>0.051266</td>\n",
              "      <td>-0.072422</td>\n",
              "      <td>-0.001108</td>\n",
              "      <td>1.000000</td>\n",
              "      <td>-0.071427</td>\n",
              "      <td>0.035122</td>\n",
              "      <td>-0.011324</td>\n",
              "      <td>0.024764</td>\n",
              "      <td>0.013384</td>\n",
              "      <td>0.030141</td>\n",
              "      <td>-0.004577</td>\n",
              "      <td>0.004836</td>\n",
              "    </tr>\n",
              "    <tr>\n",
              "      <th>fuel_Petrol</th>\n",
              "      <td>-0.269453</td>\n",
              "      <td>-0.291139</td>\n",
              "      <td>0.114908</td>\n",
              "      <td>-0.970934</td>\n",
              "      <td>-0.014856</td>\n",
              "      <td>-0.071427</td>\n",
              "      <td>1.000000</td>\n",
              "      <td>0.029845</td>\n",
              "      <td>0.012489</td>\n",
              "      <td>0.039614</td>\n",
              "      <td>0.011502</td>\n",
              "      <td>-0.012717</td>\n",
              "      <td>0.012427</td>\n",
              "      <td>-0.008502</td>\n",
              "    </tr>\n",
              "    <tr>\n",
              "      <th>seller_type_Individual</th>\n",
              "      <td>-0.236798</td>\n",
              "      <td>0.182663</td>\n",
              "      <td>0.173703</td>\n",
              "      <td>-0.035314</td>\n",
              "      <td>-0.026118</td>\n",
              "      <td>0.035122</td>\n",
              "      <td>0.029845</td>\n",
              "      <td>1.000000</td>\n",
              "      <td>-0.266904</td>\n",
              "      <td>0.214163</td>\n",
              "      <td>0.072322</td>\n",
              "      <td>0.186573</td>\n",
              "      <td>-0.107886</td>\n",
              "      <td>0.140823</td>\n",
              "    </tr>\n",
              "    <tr>\n",
              "      <th>seller_type_Trustmark Dealer</th>\n",
              "      <td>0.110176</td>\n",
              "      <td>-0.089858</td>\n",
              "      <td>-0.100225</td>\n",
              "      <td>-0.007911</td>\n",
              "      <td>-0.002355</td>\n",
              "      <td>-0.011324</td>\n",
              "      <td>0.012489</td>\n",
              "      <td>-0.266904</td>\n",
              "      <td>1.000000</td>\n",
              "      <td>-0.042346</td>\n",
              "      <td>-0.021395</td>\n",
              "      <td>-0.076764</td>\n",
              "      <td>-0.009729</td>\n",
              "      <td>-0.042578</td>\n",
              "    </tr>\n",
              "    <tr>\n",
              "      <th>transmission_Manual</th>\n",
              "      <td>-0.530205</td>\n",
              "      <td>0.120226</td>\n",
              "      <td>0.143800</td>\n",
              "      <td>-0.048098</td>\n",
              "      <td>-0.044746</td>\n",
              "      <td>0.024764</td>\n",
              "      <td>0.039614</td>\n",
              "      <td>0.214163</td>\n",
              "      <td>-0.042346</td>\n",
              "      <td>1.000000</td>\n",
              "      <td>0.035597</td>\n",
              "      <td>0.068068</td>\n",
              "      <td>0.009152</td>\n",
              "      <td>0.030802</td>\n",
              "    </tr>\n",
              "    <tr>\n",
              "      <th>owner_Fourth &amp; Above Owner</th>\n",
              "      <td>-0.078725</td>\n",
              "      <td>0.097349</td>\n",
              "      <td>0.186361</td>\n",
              "      <td>-0.021054</td>\n",
              "      <td>-0.002094</td>\n",
              "      <td>0.013384</td>\n",
              "      <td>0.011502</td>\n",
              "      <td>0.072322</td>\n",
              "      <td>-0.021395</td>\n",
              "      <td>0.035597</td>\n",
              "      <td>1.000000</td>\n",
              "      <td>-0.080648</td>\n",
              "      <td>-0.008648</td>\n",
              "      <td>-0.037849</td>\n",
              "    </tr>\n",
              "    <tr>\n",
              "      <th>owner_Second Owner</th>\n",
              "      <td>-0.161986</td>\n",
              "      <td>0.195203</td>\n",
              "      <td>0.292349</td>\n",
              "      <td>0.003524</td>\n",
              "      <td>0.025960</td>\n",
              "      <td>0.030141</td>\n",
              "      <td>-0.012717</td>\n",
              "      <td>0.186573</td>\n",
              "      <td>-0.076764</td>\n",
              "      <td>0.068068</td>\n",
              "      <td>-0.080648</td>\n",
              "      <td>1.000000</td>\n",
              "      <td>-0.036672</td>\n",
              "      <td>-0.160498</td>\n",
              "    </tr>\n",
              "    <tr>\n",
              "      <th>owner_Test Drive Car</th>\n",
              "      <td>0.048799</td>\n",
              "      <td>-0.083445</td>\n",
              "      <td>-0.095795</td>\n",
              "      <td>-0.010575</td>\n",
              "      <td>-0.000952</td>\n",
              "      <td>-0.004577</td>\n",
              "      <td>0.012427</td>\n",
              "      <td>-0.107886</td>\n",
              "      <td>-0.009729</td>\n",
              "      <td>0.009152</td>\n",
              "      <td>-0.008648</td>\n",
              "      <td>-0.036672</td>\n",
              "      <td>1.000000</td>\n",
              "      <td>-0.017210</td>\n",
              "    </tr>\n",
              "    <tr>\n",
              "      <th>owner_Third Owner</th>\n",
              "      <td>-0.111326</td>\n",
              "      <td>0.194713</td>\n",
              "      <td>0.244308</td>\n",
              "      <td>0.009373</td>\n",
              "      <td>-0.004166</td>\n",
              "      <td>0.004836</td>\n",
              "      <td>-0.008502</td>\n",
              "      <td>0.140823</td>\n",
              "      <td>-0.042578</td>\n",
              "      <td>0.030802</td>\n",
              "      <td>-0.037849</td>\n",
              "      <td>-0.160498</td>\n",
              "      <td>-0.017210</td>\n",
              "      <td>1.000000</td>\n",
              "    </tr>\n",
              "  </tbody>\n",
              "</table>\n",
              "</div>\n",
              "      <button class=\"colab-df-convert\" onclick=\"convertToInteractive('df-ab06a5d1-a231-4a50-ac8f-393f2439c2aa')\"\n",
              "              title=\"Convert this dataframe to an interactive table.\"\n",
              "              style=\"display:none;\">\n",
              "        \n",
              "  <svg xmlns=\"http://www.w3.org/2000/svg\" height=\"24px\"viewBox=\"0 0 24 24\"\n",
              "       width=\"24px\">\n",
              "    <path d=\"M0 0h24v24H0V0z\" fill=\"none\"/>\n",
              "    <path d=\"M18.56 5.44l.94 2.06.94-2.06 2.06-.94-2.06-.94-.94-2.06-.94 2.06-2.06.94zm-11 1L8.5 8.5l.94-2.06 2.06-.94-2.06-.94L8.5 2.5l-.94 2.06-2.06.94zm10 10l.94 2.06.94-2.06 2.06-.94-2.06-.94-.94-2.06-.94 2.06-2.06.94z\"/><path d=\"M17.41 7.96l-1.37-1.37c-.4-.4-.92-.59-1.43-.59-.52 0-1.04.2-1.43.59L10.3 9.45l-7.72 7.72c-.78.78-.78 2.05 0 2.83L4 21.41c.39.39.9.59 1.41.59.51 0 1.02-.2 1.41-.59l7.78-7.78 2.81-2.81c.8-.78.8-2.07 0-2.86zM5.41 20L4 18.59l7.72-7.72 1.47 1.35L5.41 20z\"/>\n",
              "  </svg>\n",
              "      </button>\n",
              "      \n",
              "  <style>\n",
              "    .colab-df-container {\n",
              "      display:flex;\n",
              "      flex-wrap:wrap;\n",
              "      gap: 12px;\n",
              "    }\n",
              "\n",
              "    .colab-df-convert {\n",
              "      background-color: #E8F0FE;\n",
              "      border: none;\n",
              "      border-radius: 50%;\n",
              "      cursor: pointer;\n",
              "      display: none;\n",
              "      fill: #1967D2;\n",
              "      height: 32px;\n",
              "      padding: 0 0 0 0;\n",
              "      width: 32px;\n",
              "    }\n",
              "\n",
              "    .colab-df-convert:hover {\n",
              "      background-color: #E2EBFA;\n",
              "      box-shadow: 0px 1px 2px rgba(60, 64, 67, 0.3), 0px 1px 3px 1px rgba(60, 64, 67, 0.15);\n",
              "      fill: #174EA6;\n",
              "    }\n",
              "\n",
              "    [theme=dark] .colab-df-convert {\n",
              "      background-color: #3B4455;\n",
              "      fill: #D2E3FC;\n",
              "    }\n",
              "\n",
              "    [theme=dark] .colab-df-convert:hover {\n",
              "      background-color: #434B5C;\n",
              "      box-shadow: 0px 1px 3px 1px rgba(0, 0, 0, 0.15);\n",
              "      filter: drop-shadow(0px 1px 2px rgba(0, 0, 0, 0.3));\n",
              "      fill: #FFFFFF;\n",
              "    }\n",
              "  </style>\n",
              "\n",
              "      <script>\n",
              "        const buttonEl =\n",
              "          document.querySelector('#df-ab06a5d1-a231-4a50-ac8f-393f2439c2aa button.colab-df-convert');\n",
              "        buttonEl.style.display =\n",
              "          google.colab.kernel.accessAllowed ? 'block' : 'none';\n",
              "\n",
              "        async function convertToInteractive(key) {\n",
              "          const element = document.querySelector('#df-ab06a5d1-a231-4a50-ac8f-393f2439c2aa');\n",
              "          const dataTable =\n",
              "            await google.colab.kernel.invokeFunction('convertToInteractive',\n",
              "                                                     [key], {});\n",
              "          if (!dataTable) return;\n",
              "\n",
              "          const docLinkHtml = 'Like what you see? Visit the ' +\n",
              "            '<a target=\"_blank\" href=https://colab.research.google.com/notebooks/data_table.ipynb>data table notebook</a>'\n",
              "            + ' to learn more about interactive tables.';\n",
              "          element.innerHTML = '';\n",
              "          dataTable['output_type'] = 'display_data';\n",
              "          await google.colab.output.renderOutput(dataTable, element);\n",
              "          const docLink = document.createElement('div');\n",
              "          docLink.innerHTML = docLinkHtml;\n",
              "          element.appendChild(docLink);\n",
              "        }\n",
              "      </script>\n",
              "    </div>\n",
              "  </div>\n",
              "  "
            ]
          },
          "metadata": {},
          "execution_count": 27
        }
      ],
      "source": [
        "#find out correlation function call as corr()\n",
        "#correlation says how one features correlated into another feature\n",
        "final_dataset.corr()"
      ]
    },
    {
      "cell_type": "code",
      "execution_count": null,
      "metadata": {
        "id": "1juK1M2TLDD3"
      },
      "outputs": [],
      "source": [
        "import seaborn as sns"
      ]
    },
    {
      "cell_type": "markdown",
      "source": [
        "**PLOT**"
      ],
      "metadata": {
        "id": "TQAdbaqe933O"
      }
    },
    {
      "cell_type": "code",
      "execution_count": null,
      "metadata": {
        "colab": {
          "base_uri": "https://localhost:8080/",
          "height": 1000
        },
        "id": "3ZZr9UpBLd83",
        "outputId": "6ed179c0-f87d-49eb-ecd7-64c5c507ab71"
      },
      "outputs": [
        {
          "output_type": "execute_result",
          "data": {
            "text/plain": [
              "<seaborn.axisgrid.PairGrid at 0x7fc6163370d0>"
            ]
          },
          "metadata": {},
          "execution_count": 29
        },
        {
          "output_type": "display_data",
          "data": {
            "text/plain": [
              "<Figure size 2520x2520 with 210 Axes>"
            ],
            "image/png": "[encoded data removed]"
          },
          "metadata": {
            "needs_background": "light"
          }
        }
      ],
      "source": [
        "sns.pairplot(final_dataset)"
      ]
    },
    {
      "cell_type": "code",
      "execution_count": null,
      "metadata": {
        "id": "Hsncm6-9L_Wl"
      },
      "outputs": [],
      "source": [
        "import matplotlib.pyplot as plt\n",
        "%matplotlib inline"
      ]
    },
    {
      "cell_type": "markdown",
      "source": [
        "**HEATMAP**"
      ],
      "metadata": {
        "id": "zsgbY5uc97bG"
      }
    },
    {
      "cell_type": "code",
      "execution_count": null,
      "metadata": {
        "colab": {
          "base_uri": "https://localhost:8080/",
          "height": 1000
        },
        "id": "nRyPLc9IM3JE",
        "outputId": "3025fda6-7a69-44d0-c0a6-dbd6993995a3"
      },
      "outputs": [
        {
          "output_type": "display_data",
          "data": {
            "text/plain": [
              "<Figure size 1440x1440 with 2 Axes>"
            ],
            "image/png": "[encoded data removed]"
          },
          "metadata": {
            "needs_background": "light"
          }
        }
      ],
      "source": [
        "corrmat=final_dataset.corr()\n",
        "top_corr_features=corrmat.index\n",
        "#variable is corrmat\n",
        "plt.figure(figsize=(20,20))\n",
        "#plot the heaatmap\n",
        "g=sns.heatmap(final_dataset[top_corr_features].corr(),annot=True,cmap=\"RdYlGn\")"
      ]
    },
    {
      "cell_type": "code",
      "execution_count": null,
      "metadata": {
        "colab": {
          "base_uri": "https://localhost:8080/",
          "height": 305
        },
        "id": "hLoqdDjjO2G2",
        "outputId": "fcde8708-220c-43d4-c1df-4c5f7e12501a"
      },
      "outputs": [
        {
          "output_type": "execute_result",
          "data": {
            "text/plain": [
              "   selling_price  km_driven  no_year  fuel_Diesel  fuel_Electric  fuel_LPG  \\\n",
              "0          60000      70000       13            0              0         0   \n",
              "1         135000      50000       13            0              0         0   \n",
              "2         600000     100000        8            1              0         0   \n",
              "3         250000      46000        3            0              0         0   \n",
              "4         450000     141000        6            1              0         0   \n",
              "\n",
              "   fuel_Petrol  seller_type_Individual  seller_type_Trustmark Dealer  \\\n",
              "0            1                       1                             0   \n",
              "1            1                       1                             0   \n",
              "2            0                       1                             0   \n",
              "3            1                       1                             0   \n",
              "4            0                       1                             0   \n",
              "\n",
              "   transmission_Manual  owner_Fourth & Above Owner  owner_Second Owner  \\\n",
              "0                    1                           0                   0   \n",
              "1                    1                           0                   0   \n",
              "2                    1                           0                   0   \n",
              "3                    1                           0                   0   \n",
              "4                    1                           0                   1   \n",
              "\n",
              "   owner_Test Drive Car  owner_Third Owner  \n",
              "0                     0                  0  \n",
              "1                     0                  0  \n",
              "2                     0                  0  \n",
              "3                     0                  0  \n",
              "4                     0                  0  "
            ],
            "text/html": [
              "\n",
              "  <div id=\"df-fcf04c39-cdc7-4397-8f8f-e56b80170f39\">\n",
              "    <div class=\"colab-df-container\">\n",
              "      <div>\n",
              "<style scoped>\n",
              "    .dataframe tbody tr th:only-of-type {\n",
              "        vertical-align: middle;\n",
              "    }\n",
              "\n",
              "    .dataframe tbody tr th {\n",
              "        vertical-align: top;\n",
              "    }\n",
              "\n",
              "    .dataframe thead th {\n",
              "        text-align: right;\n",
              "    }\n",
              "</style>\n",
              "<table border=\"1\" class=\"dataframe\">\n",
              "  <thead>\n",
              "    <tr style=\"text-align: right;\">\n",
              "      <th></th>\n",
              "      <th>selling_price</th>\n",
              "      <th>km_driven</th>\n",
              "      <th>no_year</th>\n",
              "      <th>fuel_Diesel</th>\n",
              "      <th>fuel_Electric</th>\n",
              "      <th>fuel_LPG</th>\n",
              "      <th>fuel_Petrol</th>\n",
              "      <th>seller_type_Individual</th>\n",
              "      <th>seller_type_Trustmark Dealer</th>\n",
              "      <th>transmission_Manual</th>\n",
              "      <th>owner_Fourth &amp; Above Owner</th>\n",
              "      <th>owner_Second Owner</th>\n",
              "      <th>owner_Test Drive Car</th>\n",
              "      <th>owner_Third Owner</th>\n",
              "    </tr>\n",
              "  </thead>\n",
              "  <tbody>\n",
              "    <tr>\n",
              "      <th>0</th>\n",
              "      <td>60000</td>\n",
              "      <td>70000</td>\n",
              "      <td>13</td>\n",
              "      <td>0</td>\n",
              "      <td>0</td>\n",
              "      <td>0</td>\n",
              "      <td>1</td>\n",
              "      <td>1</td>\n",
              "      <td>0</td>\n",
              "      <td>1</td>\n",
              "      <td>0</td>\n",
              "      <td>0</td>\n",
              "      <td>0</td>\n",
              "      <td>0</td>\n",
              "    </tr>\n",
              "    <tr>\n",
              "      <th>1</th>\n",
              "      <td>135000</td>\n",
              "      <td>50000</td>\n",
              "      <td>13</td>\n",
              "      <td>0</td>\n",
              "      <td>0</td>\n",
              "      <td>0</td>\n",
              "      <td>1</td>\n",
              "      <td>1</td>\n",
              "      <td>0</td>\n",
              "      <td>1</td>\n",
              "      <td>0</td>\n",
              "      <td>0</td>\n",
              "      <td>0</td>\n",
              "      <td>0</td>\n",
              "    </tr>\n",
              "    <tr>\n",
              "      <th>2</th>\n",
              "      <td>600000</td>\n",
              "      <td>100000</td>\n",
              "      <td>8</td>\n",
              "      <td>1</td>\n",
              "      <td>0</td>\n",
              "      <td>0</td>\n",
              "      <td>0</td>\n",
              "      <td>1</td>\n",
              "      <td>0</td>\n",
              "      <td>1</td>\n",
              "      <td>0</td>\n",
              "      <td>0</td>\n",
              "      <td>0</td>\n",
              "      <td>0</td>\n",
              "    </tr>\n",
              "    <tr>\n",
              "      <th>3</th>\n",
              "      <td>250000</td>\n",
              "      <td>46000</td>\n",
              "      <td>3</td>\n",
              "      <td>0</td>\n",
              "      <td>0</td>\n",
              "      <td>0</td>\n",
              "      <td>1</td>\n",
              "      <td>1</td>\n",
              "      <td>0</td>\n",
              "      <td>1</td>\n",
              "      <td>0</td>\n",
              "      <td>0</td>\n",
              "      <td>0</td>\n",
              "      <td>0</td>\n",
              "    </tr>\n",
              "    <tr>\n",
              "      <th>4</th>\n",
              "      <td>450000</td>\n",
              "      <td>141000</td>\n",
              "      <td>6</td>\n",
              "      <td>1</td>\n",
              "      <td>0</td>\n",
              "      <td>0</td>\n",
              "      <td>0</td>\n",
              "      <td>1</td>\n",
              "      <td>0</td>\n",
              "      <td>1</td>\n",
              "      <td>0</td>\n",
              "      <td>1</td>\n",
              "      <td>0</td>\n",
              "      <td>0</td>\n",
              "    </tr>\n",
              "  </tbody>\n",
              "</table>\n",
              "</div>\n",
              "      <button class=\"colab-df-convert\" onclick=\"convertToInteractive('df-fcf04c39-cdc7-4397-8f8f-e56b80170f39')\"\n",
              "              title=\"Convert this dataframe to an interactive table.\"\n",
              "              style=\"display:none;\">\n",
              "        \n",
              "  <svg xmlns=\"http://www.w3.org/2000/svg\" height=\"24px\"viewBox=\"0 0 24 24\"\n",
              "       width=\"24px\">\n",
              "    <path d=\"M0 0h24v24H0V0z\" fill=\"none\"/>\n",
              "    <path d=\"M18.56 5.44l.94 2.06.94-2.06 2.06-.94-2.06-.94-.94-2.06-.94 2.06-2.06.94zm-11 1L8.5 8.5l.94-2.06 2.06-.94-2.06-.94L8.5 2.5l-.94 2.06-2.06.94zm10 10l.94 2.06.94-2.06 2.06-.94-2.06-.94-.94-2.06-.94 2.06-2.06.94z\"/><path d=\"M17.41 7.96l-1.37-1.37c-.4-.4-.92-.59-1.43-.59-.52 0-1.04.2-1.43.59L10.3 9.45l-7.72 7.72c-.78.78-.78 2.05 0 2.83L4 21.41c.39.39.9.59 1.41.59.51 0 1.02-.2 1.41-.59l7.78-7.78 2.81-2.81c.8-.78.8-2.07 0-2.86zM5.41 20L4 18.59l7.72-7.72 1.47 1.35L5.41 20z\"/>\n",
              "  </svg>\n",
              "      </button>\n",
              "      \n",
              "  <style>\n",
              "    .colab-df-container {\n",
              "      display:flex;\n",
              "      flex-wrap:wrap;\n",
              "      gap: 12px;\n",
              "    }\n",
              "\n",
              "    .colab-df-convert {\n",
              "      background-color: #E8F0FE;\n",
              "      border: none;\n",
              "      border-radius: 50%;\n",
              "      cursor: pointer;\n",
              "      display: none;\n",
              "      fill: #1967D2;\n",
              "      height: 32px;\n",
              "      padding: 0 0 0 0;\n",
              "      width: 32px;\n",
              "    }\n",
              "\n",
              "    .colab-df-convert:hover {\n",
              "      background-color: #E2EBFA;\n",
              "      box-shadow: 0px 1px 2px rgba(60, 64, 67, 0.3), 0px 1px 3px 1px rgba(60, 64, 67, 0.15);\n",
              "      fill: #174EA6;\n",
              "    }\n",
              "\n",
              "    [theme=dark] .colab-df-convert {\n",
              "      background-color: #3B4455;\n",
              "      fill: #D2E3FC;\n",
              "    }\n",
              "\n",
              "    [theme=dark] .colab-df-convert:hover {\n",
              "      background-color: #434B5C;\n",
              "      box-shadow: 0px 1px 3px 1px rgba(0, 0, 0, 0.15);\n",
              "      filter: drop-shadow(0px 1px 2px rgba(0, 0, 0, 0.3));\n",
              "      fill: #FFFFFF;\n",
              "    }\n",
              "  </style>\n",
              "\n",
              "      <script>\n",
              "        const buttonEl =\n",
              "          document.querySelector('#df-fcf04c39-cdc7-4397-8f8f-e56b80170f39 button.colab-df-convert');\n",
              "        buttonEl.style.display =\n",
              "          google.colab.kernel.accessAllowed ? 'block' : 'none';\n",
              "\n",
              "        async function convertToInteractive(key) {\n",
              "          const element = document.querySelector('#df-fcf04c39-cdc7-4397-8f8f-e56b80170f39');\n",
              "          const dataTable =\n",
              "            await google.colab.kernel.invokeFunction('convertToInteractive',\n",
              "                                                     [key], {});\n",
              "          if (!dataTable) return;\n",
              "\n",
              "          const docLinkHtml = 'Like what you see? Visit the ' +\n",
              "            '<a target=\"_blank\" href=https://colab.research.google.com/notebooks/data_table.ipynb>data table notebook</a>'\n",
              "            + ' to learn more about interactive tables.';\n",
              "          element.innerHTML = '';\n",
              "          dataTable['output_type'] = 'display_data';\n",
              "          await google.colab.output.renderOutput(dataTable, element);\n",
              "          const docLink = document.createElement('div');\n",
              "          docLink.innerHTML = docLinkHtml;\n",
              "          element.appendChild(docLink);\n",
              "        }\n",
              "      </script>\n",
              "    </div>\n",
              "  </div>\n",
              "  "
            ]
          },
          "metadata": {},
          "execution_count": 32
        }
      ],
      "source": [
        "final_dataset.head()"
      ]
    },
    {
      "cell_type": "code",
      "execution_count": null,
      "metadata": {
        "id": "i96B1wXklDwl"
      },
      "outputs": [],
      "source": [
        "#indepent and denpendent features\n",
        "#1st index take all features my dependent features\n",
        "x = final_dataset.iloc[:,1:]\n",
        "y = final_dataset.iloc[:,0]"
      ]
    },
    {
      "cell_type": "code",
      "execution_count": null,
      "metadata": {
        "id": "Kh4Oofsuu4RZ"
      },
      "outputs": [],
      "source": [
        "from sklearn.model_selection import train_test_split\n",
        "x_train, x_test, y_train, y_test = train_test_split(x,y,test_size = 0.3, random_state = 0) "
      ]
    },
    {
      "cell_type": "markdown",
      "source": [
        "**DECISION TREE CLASSIFIER**"
      ],
      "metadata": {
        "id": "bC9DOwqU2SUF"
      }
    },
    {
      "cell_type": "code",
      "execution_count": null,
      "metadata": {
        "colab": {
          "base_uri": "https://localhost:8080/"
        },
        "id": "YLiiNo8lu_98",
        "outputId": "e913ffd3-2015-4ee6-a72b-2320a2ff9480"
      },
      "outputs": [
        {
          "output_type": "execute_result",
          "data": {
            "text/plain": [
              "0.09084924292297564"
            ]
          },
          "metadata": {},
          "execution_count": 35
        }
      ],
      "source": [
        "#decision tree classifier\n",
        "#decision tree is also use fore classification and regression problem\n",
        "from sklearn.tree import DecisionTreeClassifier\n",
        "final_dataset = DecisionTreeClassifier(random_state = 0, max_depth = 5)\n",
        "final_dataset.fit(x_train, y_train)\n",
        "final_dataset.score(x_train, y_train)"
      ]
    },
    {
      "cell_type": "code",
      "source": [
        "predictions = final_dataset.predict(x_test)\n",
        "predictions"
      ],
      "metadata": {
        "id": "3yLdtutOSLC1",
        "colab": {
          "base_uri": "https://localhost:8080/"
        },
        "outputId": "d9ec1762-7103-422f-d27b-951669bf4baf"
      },
      "execution_count": null,
      "outputs": [
        {
          "output_type": "execute_result",
          "data": {
            "text/plain": [
              "array([550000, 550000, 500000, ..., 250000, 300000, 150000])"
            ]
          },
          "metadata": {},
          "execution_count": 36
        }
      ]
    },
    {
      "cell_type": "markdown",
      "source": [
        "**ACCURACY**"
      ],
      "metadata": {
        "id": "eUDlMGJF2bfX"
      }
    },
    {
      "cell_type": "code",
      "source": [
        "#accuracy\n",
        "from sklearn.metrics import accuracy_score\n",
        "accuracy_score(y_test, predictions)"
      ],
      "metadata": {
        "colab": {
          "base_uri": "https://localhost:8080/"
        },
        "id": "SYWmF1qRTNnn",
        "outputId": "c666a6c4-06f7-4aeb-8775-f59769524ae8"
      },
      "execution_count": null,
      "outputs": [
        {
          "output_type": "execute_result",
          "data": {
            "text/plain": [
              "0.059907834101382486"
            ]
          },
          "metadata": {},
          "execution_count": 37
        }
      ]
    },
    {
      "cell_type": "code",
      "execution_count": null,
      "metadata": {
        "colab": {
          "base_uri": "https://localhost:8080/",
          "height": 305
        },
        "id": "9XTnOsq2m0aG",
        "outputId": "5e895a70-1246-4491-e588-f30b332c7ee1"
      },
      "outputs": [
        {
          "output_type": "execute_result",
          "data": {
            "text/plain": [
              "   km_driven  no_year  fuel_Diesel  fuel_Electric  fuel_LPG  fuel_Petrol  \\\n",
              "0      70000       13            0              0         0            1   \n",
              "1      50000       13            0              0         0            1   \n",
              "2     100000        8            1              0         0            0   \n",
              "3      46000        3            0              0         0            1   \n",
              "4     141000        6            1              0         0            0   \n",
              "\n",
              "   seller_type_Individual  seller_type_Trustmark Dealer  transmission_Manual  \\\n",
              "0                       1                             0                    1   \n",
              "1                       1                             0                    1   \n",
              "2                       1                             0                    1   \n",
              "3                       1                             0                    1   \n",
              "4                       1                             0                    1   \n",
              "\n",
              "   owner_Fourth & Above Owner  owner_Second Owner  owner_Test Drive Car  \\\n",
              "0                           0                   0                     0   \n",
              "1                           0                   0                     0   \n",
              "2                           0                   0                     0   \n",
              "3                           0                   0                     0   \n",
              "4                           0                   1                     0   \n",
              "\n",
              "   owner_Third Owner  \n",
              "0                  0  \n",
              "1                  0  \n",
              "2                  0  \n",
              "3                  0  \n",
              "4                  0  "
            ],
            "text/html": [
              "\n",
              "  <div id=\"df-7dba5735-fcd1-4d3b-b9c9-7f3043688612\">\n",
              "    <div class=\"colab-df-container\">\n",
              "      <div>\n",
              "<style scoped>\n",
              "    .dataframe tbody tr th:only-of-type {\n",
              "        vertical-align: middle;\n",
              "    }\n",
              "\n",
              "    .dataframe tbody tr th {\n",
              "        vertical-align: top;\n",
              "    }\n",
              "\n",
              "    .dataframe thead th {\n",
              "        text-align: right;\n",
              "    }\n",
              "</style>\n",
              "<table border=\"1\" class=\"dataframe\">\n",
              "  <thead>\n",
              "    <tr style=\"text-align: right;\">\n",
              "      <th></th>\n",
              "      <th>km_driven</th>\n",
              "      <th>no_year</th>\n",
              "      <th>fuel_Diesel</th>\n",
              "      <th>fuel_Electric</th>\n",
              "      <th>fuel_LPG</th>\n",
              "      <th>fuel_Petrol</th>\n",
              "      <th>seller_type_Individual</th>\n",
              "      <th>seller_type_Trustmark Dealer</th>\n",
              "      <th>transmission_Manual</th>\n",
              "      <th>owner_Fourth &amp; Above Owner</th>\n",
              "      <th>owner_Second Owner</th>\n",
              "      <th>owner_Test Drive Car</th>\n",
              "      <th>owner_Third Owner</th>\n",
              "    </tr>\n",
              "  </thead>\n",
              "  <tbody>\n",
              "    <tr>\n",
              "      <th>0</th>\n",
              "      <td>70000</td>\n",
              "      <td>13</td>\n",
              "      <td>0</td>\n",
              "      <td>0</td>\n",
              "      <td>0</td>\n",
              "      <td>1</td>\n",
              "      <td>1</td>\n",
              "      <td>0</td>\n",
              "      <td>1</td>\n",
              "      <td>0</td>\n",
              "      <td>0</td>\n",
              "      <td>0</td>\n",
              "      <td>0</td>\n",
              "    </tr>\n",
              "    <tr>\n",
              "      <th>1</th>\n",
              "      <td>50000</td>\n",
              "      <td>13</td>\n",
              "      <td>0</td>\n",
              "      <td>0</td>\n",
              "      <td>0</td>\n",
              "      <td>1</td>\n",
              "      <td>1</td>\n",
              "      <td>0</td>\n",
              "      <td>1</td>\n",
              "      <td>0</td>\n",
              "      <td>0</td>\n",
              "      <td>0</td>\n",
              "      <td>0</td>\n",
              "    </tr>\n",
              "    <tr>\n",
              "      <th>2</th>\n",
              "      <td>100000</td>\n",
              "      <td>8</td>\n",
              "      <td>1</td>\n",
              "      <td>0</td>\n",
              "      <td>0</td>\n",
              "      <td>0</td>\n",
              "      <td>1</td>\n",
              "      <td>0</td>\n",
              "      <td>1</td>\n",
              "      <td>0</td>\n",
              "      <td>0</td>\n",
              "      <td>0</td>\n",
              "      <td>0</td>\n",
              "    </tr>\n",
              "    <tr>\n",
              "      <th>3</th>\n",
              "      <td>46000</td>\n",
              "      <td>3</td>\n",
              "      <td>0</td>\n",
              "      <td>0</td>\n",
              "      <td>0</td>\n",
              "      <td>1</td>\n",
              "      <td>1</td>\n",
              "      <td>0</td>\n",
              "      <td>1</td>\n",
              "      <td>0</td>\n",
              "      <td>0</td>\n",
              "      <td>0</td>\n",
              "      <td>0</td>\n",
              "    </tr>\n",
              "    <tr>\n",
              "      <th>4</th>\n",
              "      <td>141000</td>\n",
              "      <td>6</td>\n",
              "      <td>1</td>\n",
              "      <td>0</td>\n",
              "      <td>0</td>\n",
              "      <td>0</td>\n",
              "      <td>1</td>\n",
              "      <td>0</td>\n",
              "      <td>1</td>\n",
              "      <td>0</td>\n",
              "      <td>1</td>\n",
              "      <td>0</td>\n",
              "      <td>0</td>\n",
              "    </tr>\n",
              "  </tbody>\n",
              "</table>\n",
              "</div>\n",
              "      <button class=\"colab-df-convert\" onclick=\"convertToInteractive('df-7dba5735-fcd1-4d3b-b9c9-7f3043688612')\"\n",
              "              title=\"Convert this dataframe to an interactive table.\"\n",
              "              style=\"display:none;\">\n",
              "        \n",
              "  <svg xmlns=\"http://www.w3.org/2000/svg\" height=\"24px\"viewBox=\"0 0 24 24\"\n",
              "       width=\"24px\">\n",
              "    <path d=\"M0 0h24v24H0V0z\" fill=\"none\"/>\n",
              "    <path d=\"M18.56 5.44l.94 2.06.94-2.06 2.06-.94-2.06-.94-.94-2.06-.94 2.06-2.06.94zm-11 1L8.5 8.5l.94-2.06 2.06-.94-2.06-.94L8.5 2.5l-.94 2.06-2.06.94zm10 10l.94 2.06.94-2.06 2.06-.94-2.06-.94-.94-2.06-.94 2.06-2.06.94z\"/><path d=\"M17.41 7.96l-1.37-1.37c-.4-.4-.92-.59-1.43-.59-.52 0-1.04.2-1.43.59L10.3 9.45l-7.72 7.72c-.78.78-.78 2.05 0 2.83L4 21.41c.39.39.9.59 1.41.59.51 0 1.02-.2 1.41-.59l7.78-7.78 2.81-2.81c.8-.78.8-2.07 0-2.86zM5.41 20L4 18.59l7.72-7.72 1.47 1.35L5.41 20z\"/>\n",
              "  </svg>\n",
              "      </button>\n",
              "      \n",
              "  <style>\n",
              "    .colab-df-container {\n",
              "      display:flex;\n",
              "      flex-wrap:wrap;\n",
              "      gap: 12px;\n",
              "    }\n",
              "\n",
              "    .colab-df-convert {\n",
              "      background-color: #E8F0FE;\n",
              "      border: none;\n",
              "      border-radius: 50%;\n",
              "      cursor: pointer;\n",
              "      display: none;\n",
              "      fill: #1967D2;\n",
              "      height: 32px;\n",
              "      padding: 0 0 0 0;\n",
              "      width: 32px;\n",
              "    }\n",
              "\n",
              "    .colab-df-convert:hover {\n",
              "      background-color: #E2EBFA;\n",
              "      box-shadow: 0px 1px 2px rgba(60, 64, 67, 0.3), 0px 1px 3px 1px rgba(60, 64, 67, 0.15);\n",
              "      fill: #174EA6;\n",
              "    }\n",
              "\n",
              "    [theme=dark] .colab-df-convert {\n",
              "      background-color: #3B4455;\n",
              "      fill: #D2E3FC;\n",
              "    }\n",
              "\n",
              "    [theme=dark] .colab-df-convert:hover {\n",
              "      background-color: #434B5C;\n",
              "      box-shadow: 0px 1px 3px 1px rgba(0, 0, 0, 0.15);\n",
              "      filter: drop-shadow(0px 1px 2px rgba(0, 0, 0, 0.3));\n",
              "      fill: #FFFFFF;\n",
              "    }\n",
              "  </style>\n",
              "\n",
              "      <script>\n",
              "        const buttonEl =\n",
              "          document.querySelector('#df-7dba5735-fcd1-4d3b-b9c9-7f3043688612 button.colab-df-convert');\n",
              "        buttonEl.style.display =\n",
              "          google.colab.kernel.accessAllowed ? 'block' : 'none';\n",
              "\n",
              "        async function convertToInteractive(key) {\n",
              "          const element = document.querySelector('#df-7dba5735-fcd1-4d3b-b9c9-7f3043688612');\n",
              "          const dataTable =\n",
              "            await google.colab.kernel.invokeFunction('convertToInteractive',\n",
              "                                                     [key], {});\n",
              "          if (!dataTable) return;\n",
              "\n",
              "          const docLinkHtml = 'Like what you see? Visit the ' +\n",
              "            '<a target=\"_blank\" href=https://colab.research.google.com/notebooks/data_table.ipynb>data table notebook</a>'\n",
              "            + ' to learn more about interactive tables.';\n",
              "          element.innerHTML = '';\n",
              "          dataTable['output_type'] = 'display_data';\n",
              "          await google.colab.output.renderOutput(dataTable, element);\n",
              "          const docLink = document.createElement('div');\n",
              "          docLink.innerHTML = docLinkHtml;\n",
              "          element.appendChild(docLink);\n",
              "        }\n",
              "      </script>\n",
              "    </div>\n",
              "  </div>\n",
              "  "
            ]
          },
          "metadata": {},
          "execution_count": 38
        }
      ],
      "source": [
        "x.head()"
      ]
    },
    {
      "cell_type": "code",
      "execution_count": null,
      "metadata": {
        "colab": {
          "base_uri": "https://localhost:8080/"
        },
        "id": "qk-wrTv3nfwf",
        "outputId": "d5eca071-ec0e-46c3-b0ae-3b06ad22dcd2"
      },
      "outputs": [
        {
          "output_type": "execute_result",
          "data": {
            "text/plain": [
              "0     60000\n",
              "1    135000\n",
              "2    600000\n",
              "3    250000\n",
              "4    450000\n",
              "Name: selling_price, dtype: int64"
            ]
          },
          "metadata": {},
          "execution_count": 39
        }
      ],
      "source": [
        "y.head()"
      ]
    },
    {
      "cell_type": "markdown",
      "source": [
        "**EXTRA TREE REGRESSOR**"
      ],
      "metadata": {
        "id": "ME_ROgtR2gVW"
      }
    },
    {
      "cell_type": "code",
      "execution_count": null,
      "metadata": {
        "colab": {
          "base_uri": "https://localhost:8080/"
        },
        "id": "xMB4e3PAoHaz",
        "outputId": "6ad60d1b-fed4-49bd-fac4-92c424b3c573"
      },
      "outputs": [
        {
          "output_type": "execute_result",
          "data": {
            "text/plain": [
              "ExtraTreesRegressor()"
            ]
          },
          "metadata": {},
          "execution_count": 40
        }
      ],
      "source": [
        "#feature importance\n",
        "from sklearn.ensemble import ExtraTreesRegressor\n",
        "model=ExtraTreesRegressor()\n",
        "model.fit(x,y)"
      ]
    },
    {
      "cell_type": "code",
      "source": [
        "from sklearn.ensemble import ExtraTreesRegressor\n",
        "final_dataset = ExtraTreesRegressor(random_state = 0, max_depth = 5)\n",
        "final_dataset.fit(x_train, y_train)\n",
        "final_dataset.score(x_train, y_train)"
      ],
      "metadata": {
        "colab": {
          "base_uri": "https://localhost:8080/"
        },
        "id": "NswTTNxRq5A1",
        "outputId": "e2c9d811-a8e5-4c10-e85f-c85d46ed3aca"
      },
      "execution_count": null,
      "outputs": [
        {
          "output_type": "execute_result",
          "data": {
            "text/plain": [
              "0.6589783603287356"
            ]
          },
          "metadata": {},
          "execution_count": 41
        }
      ]
    },
    {
      "cell_type": "code",
      "execution_count": null,
      "metadata": {
        "colab": {
          "base_uri": "https://localhost:8080/"
        },
        "id": "lrCcQmLurQaP",
        "outputId": "1a510cb1-7a2e-4ded-a9c0-115ba2d120db"
      },
      "outputs": [
        {
          "output_type": "stream",
          "name": "stdout",
          "text": [
            "[2.48539857e-01 2.40756757e-01 1.30586532e-01 3.41553127e-05\n",
            " 2.36325102e-05 2.06007190e-04 4.92687987e-02 8.36988216e-03\n",
            " 2.92827431e-01 7.92897465e-04 2.32957377e-02 6.06083565e-04\n",
            " 4.69222821e-03]\n"
          ]
        }
      ],
      "source": [
        "print(model.feature_importances_)"
      ]
    },
    {
      "cell_type": "code",
      "execution_count": null,
      "metadata": {
        "colab": {
          "base_uri": "https://localhost:8080/",
          "height": 265
        },
        "id": "Hqn1FQxTtLSB",
        "outputId": "c222ff9c-741a-48ca-e06c-b282fab3c372"
      },
      "outputs": [
        {
          "output_type": "display_data",
          "data": {
            "text/plain": [
              "<Figure size 432x288 with 1 Axes>"
            ],
            "image/png": "[encoded data removed]"
          },
          "metadata": {
            "needs_background": "light"
          }
        }
      ],
      "source": [
        "feat_importances = pd.Series(model.feature_importances_, index=x.columns)\n",
        "#x.columns is largest 5 features\n",
        "feat_importances.nlargest(5).plot(kind='barh')\n",
        "plt.show()"
      ]
    },
    {
      "cell_type": "code",
      "execution_count": null,
      "metadata": {
        "id": "T4UPCtdYu1xm"
      },
      "outputs": [],
      "source": [
        "from sklearn.model_selection import train_test_split\n",
        "x_train, x_test,y_train, y_test = train_test_split(x,y, test_size=0.2, random_state = 0)"
      ]
    },
    {
      "cell_type": "markdown",
      "source": [
        "**LINEAR REGRESSION**"
      ],
      "metadata": {
        "id": "d-2v46CD2pOm"
      }
    },
    {
      "cell_type": "code",
      "source": [
        "#Fitting the MLR model to the training set:  \n",
        "from sklearn.linear_model import LinearRegression  \n",
        "regressor= LinearRegression()  \n",
        "regressor.fit(x_train, y_train)  \n",
        "r_train=regressor.score(x_train,y_train)\n",
        "r_score = regressor.score(x_test,y_test)\n",
        "r_train"
      ],
      "metadata": {
        "colab": {
          "base_uri": "https://localhost:8080/"
        },
        "id": "lldBrUiGjsmK",
        "outputId": "a6f8fa16-ab1c-4e65-d41c-4e7e32bbe1cd"
      },
      "execution_count": null,
      "outputs": [
        {
          "output_type": "execute_result",
          "data": {
            "text/plain": [
              "0.44613533966075025"
            ]
          },
          "metadata": {},
          "execution_count": 45
        }
      ]
    },
    {
      "cell_type": "markdown",
      "source": [
        "**R SQUARE VALUE**"
      ],
      "metadata": {
        "id": "sqcJb2bQ2s2v"
      }
    },
    {
      "cell_type": "code",
      "source": [
        "# R squared value\n",
        "from sklearn.metrics import r2_score\n",
        "r2_score(y_test, y_pred)"
      ],
      "metadata": {
        "colab": {
          "base_uri": "https://localhost:8080/"
        },
        "id": "6V7KWz-cl4q7",
        "outputId": "3113d251-077c-4317-925c-3b51f15263ba"
      },
      "execution_count": null,
      "outputs": [
        {
          "output_type": "execute_result",
          "data": {
            "text/plain": [
              "0.5025071208924413"
            ]
          },
          "metadata": {},
          "execution_count": 48
        }
      ]
    },
    {
      "cell_type": "markdown",
      "source": [
        "**MEAN SQUARE ERROR**"
      ],
      "metadata": {
        "id": "N9IbF7gp21r_"
      }
    },
    {
      "cell_type": "code",
      "source": [
        "#mean squared error \n",
        "from sklearn.metrics import mean_squared_error\n",
        "print(\"Mean Squared Error\")\n",
        "mean_squared_error(y_test, y_pred)"
      ],
      "metadata": {
        "colab": {
          "base_uri": "https://localhost:8080/"
        },
        "id": "pWorbUwqdgEh",
        "outputId": "cad04924-d3be-4d39-fc5b-20f34601a529"
      },
      "execution_count": null,
      "outputs": [
        {
          "output_type": "stream",
          "name": "stdout",
          "text": [
            "Mean Squared Error\n"
          ]
        },
        {
          "output_type": "execute_result",
          "data": {
            "text/plain": [
              "184744579007.57324"
            ]
          },
          "metadata": {},
          "execution_count": 49
        }
      ]
    },
    {
      "cell_type": "markdown",
      "source": [
        "**MEAN ABSOLUTE ERROR**"
      ],
      "metadata": {
        "id": "yHLeFJY927-g"
      }
    },
    {
      "cell_type": "code",
      "source": [
        "#mean absolute error\n",
        "from sklearn.metrics import mean_absolute_error\n",
        "print(\"Mean Absolute Error\")\n",
        "mean_absolute_error(y_test, y_pred)"
      ],
      "metadata": {
        "colab": {
          "base_uri": "https://localhost:8080/"
        },
        "id": "1c6dLXOKfLn2",
        "outputId": "d373e032-8339-4eef-c51e-bd8655b82f99"
      },
      "execution_count": null,
      "outputs": [
        {
          "output_type": "stream",
          "name": "stdout",
          "text": [
            "Mean Absolute Error\n"
          ]
        },
        {
          "output_type": "execute_result",
          "data": {
            "text/plain": [
              "241277.48532346886"
            ]
          },
          "metadata": {},
          "execution_count": 50
        }
      ]
    },
    {
      "cell_type": "markdown",
      "source": [
        "**ROORT MEAN SQUARE ERROR**"
      ],
      "metadata": {
        "id": "EKeeLafc3BXe"
      }
    },
    {
      "cell_type": "code",
      "source": [
        "#root mean squared error\n",
        "from sklearn.metrics import mean_squared_error\n",
        "import numpy as np\n",
        "MSE = np.square(np.subtract(y_test, y_pred)).mean() \n",
        "RMSE = np.sqrt(MSE)\n",
        "print(\"Root Mean Square Error:\\n\")\n",
        "print(RMSE)"
      ],
      "metadata": {
        "colab": {
          "base_uri": "https://localhost:8080/"
        },
        "id": "x8RAZGfDfk7F",
        "outputId": "55fc5127-45ac-440c-9be4-1d422a94f6b3"
      },
      "execution_count": null,
      "outputs": [
        {
          "output_type": "stream",
          "name": "stdout",
          "text": [
            "Root Mean Square Error:\n",
            "\n",
            "429819.23992252076\n"
          ]
        }
      ]
    },
    {
      "cell_type": "code",
      "source": [
        "y_pred = regressor.predict(x_test)\n",
        "y_pred"
      ],
      "metadata": {
        "colab": {
          "base_uri": "https://localhost:8080/"
        },
        "id": "lhh9Z6zxQFG8",
        "outputId": "1bf1ab5b-b294-4de5-9bd7-03dbefc07cc0"
      },
      "execution_count": null,
      "outputs": [
        {
          "output_type": "execute_result",
          "data": {
            "text/plain": [
              "array([ 1.42429653e+06,  1.44563773e+06,  1.95484912e+05,  1.70185294e+06,\n",
              "        3.39730707e+05,  2.25090730e+05,  1.41954406e+06,  3.26284151e+05,\n",
              "        1.54992669e+06,  4.63692778e+05,  1.36103161e+05,  4.60310589e+05,\n",
              "        1.32328374e+06,  6.06112906e+05,  4.82076148e+04,  6.45662537e+05,\n",
              "        5.20487768e+05,  4.75325332e+05, -2.14139086e+04,  6.30490452e+05,\n",
              "       -3.09344347e+05,  5.26467725e+05,  5.29440356e+05,  5.61857800e+05,\n",
              "        1.18055052e+06,  1.22697502e+06,  5.46536935e+05,  6.22034979e+05,\n",
              "        5.16260032e+05,  4.38183036e+05,  4.12816619e+05,  4.90893615e+05,\n",
              "        5.08146686e+05,  7.26467264e+05,  2.22261423e+05,  5.91881458e+05,\n",
              "        3.37276265e+05,  3.81875670e+04,  8.30183766e+04,  4.23024311e+05,\n",
              "        1.25295739e+05,  6.40474221e+05,  5.29564208e+05,  1.43551063e+06,\n",
              "        3.99144538e+05,  2.56662627e+05, -6.56690147e+04,  3.29523015e+05,\n",
              "        5.18012252e+05,  3.21242964e+05,  6.51185597e+04,  5.12672735e+05,\n",
              "        5.34513639e+05,  8.38366150e+05,  5.68622178e+05,  4.78067081e+05,\n",
              "        1.70185294e+06,  3.17379231e+05,  3.68704838e+05,  4.34718648e+05,\n",
              "        3.88213550e+05,  7.45629041e+04,  1.61095372e+05,  6.22034979e+05,\n",
              "        4.32686979e+05,  6.74312604e+05,  1.38401721e+05,  1.77596759e+05,\n",
              "        7.80419491e+05,  1.36141578e+06,  2.74916234e+05,  3.43195096e+05,\n",
              "        5.10136094e+05,  6.96423664e+05,  5.25499269e+05,  5.77779873e+05,\n",
              "        9.34451557e+05,  5.68622178e+05,  5.65681678e+05,  4.03714400e+05,\n",
              "        4.25257122e+05,  1.58513852e+05,  6.56845741e+05,  2.65881448e+05,\n",
              "        2.36132076e+05,  1.38378893e+06,  6.50620788e+05,  5.26467725e+05,\n",
              "        5.59868392e+05,  4.27995849e+05,  8.74561884e+05,  7.51422182e+04,\n",
              "        6.00062973e+05,  6.51830766e+05,  3.15688137e+05,  5.76779337e+05,\n",
              "        6.21658677e+05,  2.96165930e+05,  5.96089248e+05,  1.36382728e+06,\n",
              "        1.68561973e+05,  2.74685353e+05, -1.34301666e+05,  6.44162532e+05,\n",
              "       -1.34301666e+05,  7.65199640e+05,  1.25295739e+05,  4.35646395e+05,\n",
              "        1.59685278e+05,  1.24079812e+04,  4.15552062e+05,  2.94823268e+05,\n",
              "        3.87632704e+04,  6.39325968e+05,  2.18523256e+04,  4.38722461e+05,\n",
              "        3.26284151e+05,  1.38312902e+06,  7.41524317e+05,  1.00814624e+04,\n",
              "        6.88356298e+05,  4.75530440e+05,  1.31381361e+06,  3.92891682e+05,\n",
              "        1.61095372e+05,  5.64251117e+05,  1.39390593e+05,  2.72686559e+05,\n",
              "        6.63102791e+05,  4.65301674e+05,  4.12816619e+05,  5.18012252e+05,\n",
              "        1.33968531e+04,  1.57997029e+06,  2.83781264e+05,  4.12816619e+05,\n",
              "        8.61202281e+04,  1.44538218e+05,  4.21625881e+05,  3.12966700e+04,\n",
              "        6.26728098e+04, -5.10080621e+04,  1.30954599e+06,  2.59403719e+05,\n",
              "        5.69472765e+05,  5.88213090e+05,  1.36722642e+06,  3.77016985e+05,\n",
              "       -6.56690147e+04,  8.03555388e+05,  2.39172368e+05,  6.73756686e+05,\n",
              "        5.73136564e+05,  7.21250656e+05,  4.37603722e+05,  1.70185294e+06,\n",
              "        1.19867590e+04,  3.99144538e+05,  4.07600011e+05,  3.00897317e+05,\n",
              "        4.01681180e+05,  5.36390369e+05,  3.14589814e+05,  5.74950567e+05,\n",
              "        6.00062973e+05,  4.56846201e+05,  6.72065591e+05,  3.04621403e+05,\n",
              "        6.46509746e+05,  6.48390269e+05,  5.84234395e+05,  1.31973245e+06,\n",
              "        6.22034979e+05,  5.15414485e+05,  7.68744627e+05,  1.84770695e+05,\n",
              "        4.46475711e+05, -4.64546760e+04,  3.08726460e+05,  4.56846201e+05,\n",
              "        3.18592026e+05,  2.66106972e+05,  2.31296210e+05,  6.58088277e+05,\n",
              "        5.27456596e+05,  7.21639380e+04,  6.19484775e+05,  4.14159281e+05,\n",
              "        7.87771828e+04,  1.70130159e+05,  1.31569570e+06,  2.48207155e+05,\n",
              "        7.70722371e+05,  6.97563462e+05,  4.08438621e+05,  7.52516432e+05,\n",
              "        1.86461790e+05,  4.12816619e+05,  4.66869860e+05,  3.28036371e+05,\n",
              "        8.70334148e+05,  4.34800847e+05,  8.07783125e+05,  1.34946992e+06,\n",
              "        6.04135162e+05,  2.29318466e+05, -3.93137254e+04,  6.54998106e+05,\n",
              "        1.36141578e+06,  1.32852849e+06, -1.97866683e+05,  4.77221534e+05,\n",
              "        5.17105579e+05,  4.77718649e+05,  5.09147222e+05,  3.79758077e+05,\n",
              "       -3.19209913e+05,  6.33293327e+05,  2.91473389e+05,  4.00835633e+05,\n",
              "       -1.51622169e+05,  5.32268711e+05,  5.85234809e+05,  7.05134957e+05,\n",
              "        5.52823014e+05, -2.24027805e+04,  8.52080872e+05,  6.33352595e+05,\n",
              "        4.74746018e+05,  6.65301213e+05,  3.35502971e+05,  1.28745833e+06,\n",
              "        6.17807243e+05,  6.18346668e+05,  6.74166244e+05,  1.29744209e+06,\n",
              "        6.96423664e+05,  5.78189431e+05,  1.22186742e+05,  6.40923668e+05,\n",
              "        3.97248336e+05,  1.87290925e+05,  2.47218283e+05,  5.35502511e+05,\n",
              "        3.68622638e+05,  5.35502511e+05,  8.03555388e+05,  1.43194790e+05,\n",
              "        6.30490452e+05,  1.31465916e+06,  4.96058029e+04,  6.83201030e+05,\n",
              "        6.43173660e+05,  4.91656963e+05,  1.70185294e+06,  3.86461330e+05,\n",
              "        3.09072575e+05,  4.12816619e+05,  5.89454737e+05,  5.96847261e+04,\n",
              "        3.11460401e+05,  2.88977039e+04,  3.25295279e+05,  6.06781311e+05,\n",
              "        4.72993798e+05,  3.76314763e+05,  2.81028508e+05,  4.72993798e+05,\n",
              "        4.79758176e+05,  5.82417167e+05, -5.56894729e+04,  4.75325332e+05,\n",
              "        4.55857329e+05,  1.33175620e+06,  2.56083313e+05,  6.48390269e+05,\n",
              "        3.44947315e+05,  3.60106040e+05,  7.41803766e+05,  1.82357156e+05,\n",
              "        1.64902571e+06,  6.15230712e+05,  4.27151033e+05,  5.71302145e+05,\n",
              "        7.39996020e+05,  2.65118100e+05,  5.47805256e+05,  5.47196848e+05,\n",
              "        2.15727927e+05,  3.47422832e+05,  3.64333777e+05,  3.08333985e+05,\n",
              "        5.91503105e+05,  3.57426353e+05,  1.65283068e+06,  4.49236276e+05,\n",
              "        5.50617546e+05,  1.68395313e+06,  3.03784104e+05, -2.98693810e+04,\n",
              "        6.53157430e+05,  1.72958480e+05,  1.09629007e+06, -9.59566388e+04,\n",
              "        3.79348519e+05,  3.53982102e+05,  4.56846201e+05,  8.76599653e+05,\n",
              "        6.32872104e+05,  3.90689066e+05,  5.80999265e+05,  1.33341653e+05,\n",
              "        1.64902571e+06,  3.97236672e+05,  3.12966700e+04,  6.86439895e+05,\n",
              "        6.40637019e+05,  6.30179073e+04,  4.69591282e+05,  9.99293214e+04,\n",
              "        2.04294175e+05,  4.23869859e+05,  3.00588354e+05,  6.08362899e+05,\n",
              "        1.16840266e+05,  8.38366150e+05,  2.38762810e+05,  5.20487768e+05,\n",
              "        1.42774333e+05,  7.34922737e+05,  1.51624812e+06,  1.77894528e+06,\n",
              "        4.72993798e+05,  4.07123710e+04,  4.92278587e+05,  5.51070794e+05,\n",
              "        4.08097126e+05,  1.97828110e+05,  1.34330525e+05,  6.63102791e+05,\n",
              "        5.11500413e+05,  3.86461330e+05,  3.18108127e+05,  4.77221534e+05,\n",
              "        4.55776731e+05,  2.38762810e+05,  5.23700848e+05,  4.80603723e+05,\n",
              "        6.56845741e+05,  2.56662627e+05,  2.72994258e+05,  3.51650568e+05,\n",
              "        5.35853446e+05,  3.74889901e+05,  3.39048901e+05,  3.83266818e+05,\n",
              "        5.87633775e+05,  3.61858260e+05,  9.95197635e+04,  4.15136489e+05,\n",
              "        1.69550845e+05,  6.13579507e+05,  5.58960494e+05,  4.48970043e+05,\n",
              "        4.70219739e+05,  8.05246483e+05,  5.39730247e+05,  4.76314204e+05,\n",
              "       -2.44652782e+05, -8.04528757e+04,  5.70065958e+05,  5.17645004e+05,\n",
              "        1.30486638e+06,  7.68744627e+05,  4.65880988e+05,  6.39934796e+05,\n",
              "        1.68860364e+06,  6.47810955e+05,  4.77221534e+05,  1.77894528e+06,\n",
              "        7.34922737e+05,  5.10136094e+05,  2.12407521e+05,  3.51650568e+05,\n",
              "        1.29224932e+05,  1.77596759e+05,  5.16602158e+05,  7.00111975e+05,\n",
              "        5.52413456e+05,  3.45355342e+04,  3.94916802e+05,  4.40514570e+05,\n",
              "        6.30490452e+05,  7.25851602e+04,  1.78373375e+04,  1.07395922e+05,\n",
              "        3.10704204e+05,  4.21272091e+05,  5.65297360e+05,  6.35667171e+05,\n",
              "        1.51651028e+05,  7.17022920e+05,  6.07660676e+05,  4.64538326e+05,\n",
              "        5.09556780e+05,  6.45662537e+05,  3.64333777e+05,  8.29271410e+05,\n",
              "        2.81531272e+05,  6.03134626e+05,  5.57724371e+05,  3.46271162e+05,\n",
              "        4.88050851e+05,  3.53402788e+05, -6.76380066e+04,  4.56846201e+05,\n",
              "        1.17519751e+06,  7.00111975e+05, -4.77691979e+04,  5.88213090e+05,\n",
              "        6.63102791e+05, -1.52201483e+05,  6.66146761e+05,  6.24012723e+05,\n",
              "        7.60289154e+05,  7.75346207e+05,  5.69733959e+05, -1.60089306e+05,\n",
              "        4.72687676e+05,  3.79117638e+05,  2.83017916e+05,  7.47605946e+05,\n",
              "       -8.29895175e+04,  5.80089351e+05,  1.05806785e+05,  1.56207047e+06,\n",
              "        1.31635026e+06,  7.34922737e+05,  4.46638509e+05,  5.96847261e+04,\n",
              "        4.71892895e+05,  4.56846201e+05,  4.57835073e+05,  2.65527658e+05,\n",
              "        3.66870418e+05,  5.61857800e+05,  1.01055869e+05,  6.63102791e+05,\n",
              "        4.48390729e+05,  7.60289154e+05,  4.43487120e+05,  3.60106040e+05,\n",
              "        5.44367541e+05,  5.12962398e+05,  2.73983130e+05,  1.95762809e+05,\n",
              "        6.47090018e+04, -7.88515268e+03,  3.99144538e+05,  5.27017330e+05,\n",
              "       -1.09344807e+05,  1.25308795e+06, -3.51621709e+05,  1.06974700e+05,\n",
              "        1.31635026e+06,  5.69324401e+05,  5.68622178e+05,  3.66024871e+05,\n",
              "        4.82076148e+04, -7.45457093e+04,  2.52209367e+05,  4.84831459e+05,\n",
              "        4.66869860e+05,  1.78006317e+05,  5.54787300e+05,  3.93425845e+04,\n",
              "        1.60685815e+05, -1.24190110e+04,  2.90484517e+05,  2.20275017e+05,\n",
              "        4.25499828e+05,  7.83463461e+05,  1.25295739e+05,  1.39682688e+06,\n",
              "        1.52824858e+06,  3.34739623e+05,  6.56845741e+05,  3.69550385e+05,\n",
              "        1.35348455e+06,  6.74745558e+05, -1.05994927e+05,  5.09535361e+05,\n",
              "        6.21455665e+05,  6.58374038e+05,  6.65301213e+05,  7.82416707e+05,\n",
              "        3.53402788e+05,  7.75346207e+05, -4.81904200e+04,  6.65301213e+05,\n",
              "        5.27047039e+05,  4.33047970e+05,  5.60615264e+05,  6.17263531e+05,\n",
              "        3.26284151e+05,  8.51454604e+04,  2.60890363e+05,  1.43451010e+06,\n",
              "        2.23934833e+05,  4.65880988e+05,  6.51185597e+04,  1.82357156e+05,\n",
              "        4.03471597e+05,  6.20303996e+05,  1.48453290e+06, -4.50296371e+03,\n",
              "        1.32186217e+05,  6.08362899e+05,  4.22772254e+05,  4.38536826e+05,\n",
              "        3.70313733e+05,  1.39180567e+05,  3.72976517e+05,  6.70174068e+05,\n",
              "        7.51422182e+04,  4.55776731e+05,  3.99144538e+05,  1.28323059e+06,\n",
              "        4.85677007e+05,  5.77965508e+05,  8.15312656e+05,  4.15101749e+02,\n",
              "        2.88296369e+05,  2.18326352e+05,  3.74242926e+05,  7.37605206e+05,\n",
              "        8.16081259e+05,  7.90872180e+05, -1.61066513e+05,  4.81449270e+05,\n",
              "        5.25704377e+05,  1.65283068e+06,  4.91247405e+05,  5.15211554e+05,\n",
              "        4.41366407e+05,  6.71902794e+05,  8.34677839e+05,  4.48390729e+05,\n",
              "        5.94432056e+05,  2.90894075e+05,  1.78006317e+05,  7.45629041e+04,\n",
              "        6.39934796e+05,  6.37804401e+05,  4.68766062e+05, -7.31356152e+04,\n",
              "        3.51071254e+05,  6.13000193e+05,  4.69542625e+05,  5.52413456e+05,\n",
              "        4.13158745e+05,  1.43678527e+06,  4.03684709e+05,  1.47553800e+06,\n",
              "        1.13503430e+06,  3.40979334e+05,  5.16095962e+05,  1.40632604e+06,\n",
              "        1.60956444e+06,  6.23726074e+05, -1.69112428e+05, -8.30011817e+04,\n",
              "        1.60685815e+05,  5.08567908e+05,  4.33955300e+05,  4.29141993e+05,\n",
              "        8.05929233e+05,  2.97931645e+05,  5.36491383e+05,  2.53622564e+05,\n",
              "        1.36206262e+06,  1.08964108e+05,  3.94916802e+05,  3.94916802e+05,\n",
              "        1.05765914e+06,  7.56744168e+05,  3.29666340e+05,  1.58060057e+06,\n",
              "        3.79055855e+05,  6.53157430e+05,  1.12417986e+06,  6.65675339e+05,\n",
              "        6.77984422e+05,  1.35329176e+06,  6.47090018e+04,  1.44184428e+05,\n",
              "        1.59349905e+06,  5.70065958e+05,  2.83017916e+05,  5.70065958e+05,\n",
              "        5.00112435e+05,  5.17951127e+05,  7.20671342e+05, -5.22954768e+04,\n",
              "        6.25956593e+05,  3.09147682e+05,  3.95905674e+05,  1.62359077e+06,\n",
              "        1.41111898e+06,  1.53924070e+06,  1.52230342e+05,  3.08384334e+05,\n",
              "        4.42471898e+05,  3.66024871e+05,  1.33983566e+06, -2.30688037e+05,\n",
              "        8.25080878e+05,  4.88687155e+05,  4.85677007e+05,  2.65118100e+05,\n",
              "        5.36491383e+05, -2.30278479e+05,  5.03576823e+05,  5.30471538e+05,\n",
              "        5.27047039e+05,  4.77221534e+05,  1.36021620e+05, -2.06322156e+05,\n",
              "        4.56082853e+05,  3.51650568e+05,  6.37358265e+05,  3.18592026e+05,\n",
              "        7.83463461e+05,  2.87078224e+05,  4.84892585e+05,  5.61344519e+05,\n",
              "        5.15352702e+05,  1.64766115e+03,  7.30974450e+05,  3.87654363e+05,\n",
              "        4.31479784e+05,  4.58004748e+05,  2.61711806e+05,  2.83720139e+05,\n",
              "        7.76619601e+05, -5.72135423e+04,  8.65280710e+05,  4.05124495e+05,\n",
              "        2.81938546e+05,  3.89025840e+05,  4.65301674e+05,  9.14738490e+04,\n",
              "        5.61857800e+05,  3.31317545e+05,  5.16280537e+05,  1.67410452e+05,\n",
              "        1.31514461e+06, -3.02789389e+04,  1.42381630e+06,  5.16006368e+05,\n",
              "        6.77984422e+05,  6.05124034e+05,  8.20207143e+05,  1.47692298e+06,\n",
              "        5.96525237e+05,  7.00111975e+05,  1.29168606e+06,  4.32059098e+05,\n",
              "        4.83852709e+05,  2.89688202e+05,  5.71168975e+05,  7.47605946e+05,\n",
              "        3.86803455e+05,  1.77894528e+06,  2.81617229e+05,  1.51229806e+05,\n",
              "        6.66133198e+05,  9.48818227e+04,  5.95679690e+05,  1.58137217e+06,\n",
              "        7.17022920e+05,  4.14159281e+05,  1.46846750e+06,  5.09556780e+05,\n",
              "        4.42022451e+05,  4.66225158e+05,  7.56061418e+05,  3.71555380e+05,\n",
              "        1.17829138e+05,  3.49843969e+05,  5.29024783e+05,  5.09612306e+05,\n",
              "        4.21625881e+05,  1.55276945e+06,  3.38979743e+05,  7.45629041e+04,\n",
              "        6.60894187e+05,  3.12032756e+05,  5.18012252e+05,  5.12032296e+05,\n",
              "        2.08634536e+04,  2.00619092e+05,  3.34739623e+05,  7.80367410e+05,\n",
              "        1.47354079e+06,  3.54391660e+05,  6.39934796e+05,  1.34740083e+05,\n",
              "        1.17829138e+05,  5.27089349e+05,  4.77984882e+05,  6.05124034e+05,\n",
              "        1.66298523e+05,  1.68140751e+05,  4.74336460e+05,  4.74746018e+05,\n",
              "        5.56973923e+05,  1.44184428e+05,  6.92195928e+05,  2.13396393e+05,\n",
              "        1.86461790e+05, -8.30011817e+04,  4.15047139e+05,  2.67859192e+05,\n",
              "        4.32059098e+05,  1.27546109e+05,  2.95553573e+05,  6.34138874e+05,\n",
              "        1.06408530e+06,  6.71486277e+05,  3.89652587e+05, -8.80951105e+04,\n",
              "       -9.00465600e+04,  6.09891196e+05,  5.34501975e+05,  6.45662537e+05,\n",
              "        1.52162319e+05,  5.14903255e+05,  1.08323105e+06,  4.81026497e+05,\n",
              "        6.92195928e+05,  4.23761126e+05,  2.92800019e+05, -5.28424813e+04,\n",
              "        5.13417268e+05,  1.49752223e+06,  5.25057630e+05,  4.81592595e+05,\n",
              "        4.72993798e+05,  2.58454308e+05,  3.55878304e+05,  1.51257929e+06,\n",
              "        3.94916802e+05,  5.40432470e+05,  2.31819142e+05,  6.54289627e+05,\n",
              "        2.27464574e+05,  4.91656963e+05,  2.48207155e+05,  5.62418651e+04,\n",
              "        1.19892864e+06,  6.22034979e+05,  3.51538076e+05,  8.77419813e+05,\n",
              "        2.43836094e+05,  4.12816619e+05,  4.76170879e+05,  1.53090813e+06,\n",
              "        6.03126818e+05,  4.56082853e+05,  7.78188971e+05,  3.15839270e+05,\n",
              "        1.53219214e+05, -6.56690147e+04,  3.61858260e+05,  1.16430708e+05,\n",
              "        5.20984883e+05,  5.42957447e+05,  5.40985352e+05,  8.95843890e+05,\n",
              "        2.72994258e+05,  2.14867218e+05,  4.75325332e+05, -2.18234665e+04,\n",
              "        8.29863293e+05,  4.28356052e+05,  2.57364850e+05, -6.20763603e+04,\n",
              "        6.85288225e+05,  2.84006788e+05,  3.71849609e+05,  1.80978948e+05,\n",
              "        2.31070686e+05, -6.18508364e+04,  1.39761672e+04,  4.43565756e+05,\n",
              "        5.71302145e+05,  3.88213550e+05,  5.35037493e+05,  1.55726342e+06,\n",
              "        1.44563773e+06,  6.28616144e+05,  2.99349547e+05,  1.32649682e+06,\n",
              "        1.40119163e+06,  5.87224218e+05,  7.17022920e+05,  1.68395313e+06,\n",
              "        2.92308328e+05,  4.03372275e+05,  2.85950659e+05,  7.60289154e+05,\n",
              "        5.93175145e+05, -6.60902369e+04,  6.99256100e+04,  4.72993798e+05,\n",
              "       -5.49183567e+03,  5.35502511e+05, -1.33796583e+04,  4.57071725e+05,\n",
              "        3.78005857e+05,  7.51422182e+04,  4.66869860e+05,  7.34922737e+05,\n",
              "        5.70065958e+05,  5.11186749e+05,  5.94528021e+05,  3.51650568e+05,\n",
              "        1.46889028e+06,  4.65880988e+05,  6.21046107e+05,  8.26088187e+04,\n",
              "        6.48390269e+05,  3.64333777e+05, -3.51857638e+04,  1.68395313e+06,\n",
              "        2.83360042e+05,  6.22034979e+05,  4.12816619e+05,  1.07395922e+05,\n",
              "        3.99144538e+05,  3.55878304e+05,  1.19768699e+06, -1.09002681e+05,\n",
              "        2.86256781e+05,  6.06781311e+05,  5.14568938e+05,  3.94916802e+05,\n",
              "        1.35348455e+06,  7.25478392e+05,  5.96847261e+04,  5.32524231e+05,\n",
              "        5.54118726e+05,  1.38700832e+06,  2.70893606e+05,  2.39104936e+05,\n",
              "        1.64766115e+03,  6.73756686e+05,  2.48909377e+05, -3.93694932e+04,\n",
              "        4.84831459e+05,  6.23726074e+05,  1.37193805e+06,  1.25712255e+05,\n",
              "        3.43537221e+05,  2.26626835e+05, -6.70791088e+04,  1.68395313e+06])"
            ]
          },
          "metadata": {},
          "execution_count": 54
        }
      ]
    },
    {
      "cell_type": "code",
      "source": [
        "#train and test score\n",
        "print('Train Score:',regressor.score(x_train, y_train))\n",
        "print('Test Score:',regressor.score(x_test, y_test))"
      ],
      "metadata": {
        "colab": {
          "base_uri": "https://localhost:8080/"
        },
        "id": "5W8_NF28QNr_",
        "outputId": "d464a9c3-53ef-4ac7-f966-cec5bc6e268b"
      },
      "execution_count": null,
      "outputs": [
        {
          "output_type": "stream",
          "name": "stdout",
          "text": [
            "Train Score: 0.44613533966075025\n",
            "Test Score: 0.5025071208924413\n"
          ]
        }
      ]
    },
    {
      "cell_type": "code",
      "source": [
        "#feature Scaling  \n",
        "from sklearn.preprocessing import StandardScaler    \n",
        "st_x= StandardScaler()  \n",
        "x_train= st_x.fit_transform(x_train)    \n",
        "x_test= st_x.transform(x_test)    "
      ],
      "metadata": {
        "id": "gk35VxMRQQaC"
      },
      "execution_count": null,
      "outputs": []
    },
    {
      "cell_type": "code",
      "source": [
        "x_train"
      ],
      "metadata": {
        "colab": {
          "base_uri": "https://localhost:8080/"
        },
        "id": "aScROxJ8Qh6p",
        "outputId": "bd9ea3b4-6046-4d6b-d3af-9e5bdb936409"
      },
      "execution_count": null,
      "outputs": [
        {
          "output_type": "execute_result",
          "data": {
            "text/plain": [
              "array([[ 2.26529605, -0.46107234,  1.00230681, ..., -0.59331688,\n",
              "        -0.05889149, -0.27674744],\n",
              "       [ 2.16054478,  0.25168063,  1.00230681, ..., -0.59331688,\n",
              "        -0.05889149, -0.27674744],\n",
              "       [ 0.90352958,  1.67718656, -0.9976985 , ..., -0.59331688,\n",
              "        -0.05889149, -0.27674744],\n",
              "       ...,\n",
              "       [-0.94009271, -0.69865666, -0.9976985 , ..., -0.59331688,\n",
              "        -0.05889149, -0.27674744],\n",
              "       [ 0.06551945, -0.46107234,  1.00230681, ..., -0.59331688,\n",
              "        -0.05889149, -0.27674744],\n",
              "       [-0.10208258,  0.0140963 , -0.9976985 , ...,  1.68543999,\n",
              "        -0.05889149, -0.27674744]])"
            ]
          },
          "metadata": {},
          "execution_count": 57
        }
      ]
    },
    {
      "cell_type": "code",
      "source": [
        "x_train.shape"
      ],
      "metadata": {
        "colab": {
          "base_uri": "https://localhost:8080/"
        },
        "id": "HixwczZpQl47",
        "outputId": "91eab5c2-144d-4370-b7e1-44a549e0d3b9"
      },
      "execution_count": null,
      "outputs": [
        {
          "output_type": "execute_result",
          "data": {
            "text/plain": [
              "(3472, 13)"
            ]
          },
          "metadata": {},
          "execution_count": 58
        }
      ]
    },
    {
      "cell_type": "code",
      "execution_count": null,
      "metadata": {
        "colab": {
          "base_uri": "https://localhost:8080/"
        },
        "id": "2OFZu5pgwfdl",
        "outputId": "f63a2e00-deed-46a4-9dba-49364f9706b7"
      },
      "outputs": [
        {
          "output_type": "execute_result",
          "data": {
            "text/plain": [
              "array([[ 2.26529605, -0.46107234,  1.00230681, ..., -0.59331688,\n",
              "        -0.05889149, -0.27674744],\n",
              "       [ 2.16054478,  0.25168063,  1.00230681, ..., -0.59331688,\n",
              "        -0.05889149, -0.27674744],\n",
              "       [ 0.90352958,  1.67718656, -0.9976985 , ..., -0.59331688,\n",
              "        -0.05889149, -0.27674744],\n",
              "       ...,\n",
              "       [-0.94009271, -0.69865666, -0.9976985 , ..., -0.59331688,\n",
              "        -0.05889149, -0.27674744],\n",
              "       [ 0.06551945, -0.46107234,  1.00230681, ..., -0.59331688,\n",
              "        -0.05889149, -0.27674744],\n",
              "       [-0.10208258,  0.0140963 , -0.9976985 , ...,  1.68543999,\n",
              "        -0.05889149, -0.27674744]])"
            ]
          },
          "metadata": {},
          "execution_count": 59
        }
      ],
      "source": [
        "x_train"
      ]
    },
    {
      "cell_type": "code",
      "execution_count": null,
      "metadata": {
        "colab": {
          "base_uri": "https://localhost:8080/"
        },
        "id": "2QGG_CB9wtEa",
        "outputId": "c9f77bb2-60d7-4f39-b3ec-7fbe8177a5a2"
      },
      "outputs": [
        {
          "output_type": "execute_result",
          "data": {
            "text/plain": [
              "(3472, 13)"
            ]
          },
          "metadata": {},
          "execution_count": 60
        }
      ],
      "source": [
        "x_train.shape"
      ]
    },
    {
      "cell_type": "code",
      "execution_count": null,
      "metadata": {
        "id": "W74oeu-hwxtk"
      },
      "outputs": [],
      "source": [
        "#i'm implement the random forest regressor when i using RFR don't have scale this value,if i use RFR not require decision tree\n",
        "#ensemble RFR is play with hyperparametr tune also its play hyperparameter\n",
        "from sklearn.ensemble import RandomForestRegressor\n",
        "rf_random=RandomForestRegressor()"
      ]
    },
    {
      "cell_type": "markdown",
      "source": [
        "**RandomForestRegressor**"
      ],
      "metadata": {
        "id": "GGYl96WhRsqS"
      }
    },
    {
      "cell_type": "code",
      "source": [
        "#Random Forest Regression\n",
        "from sklearn.ensemble import RandomForestRegressor\n",
        "rf = RandomForestRegressor(max_depth = 5)\n",
        "rf.fit(x_train , y_train)\n",
        "rf.score(x_train , y_train)\n",
        "predictions = rf.predict(x_test)\n",
        "rf.score(x_test , y_test)"
      ],
      "metadata": {
        "colab": {
          "base_uri": "https://localhost:8080/"
        },
        "id": "kTUqMArNhmsS",
        "outputId": "4a273469-076f-4003-f76a-23eb1f6792db"
      },
      "execution_count": null,
      "outputs": [
        {
          "output_type": "execute_result",
          "data": {
            "text/plain": [
              "0.6604821505664935"
            ]
          },
          "metadata": {},
          "execution_count": 62
        }
      ]
    },
    {
      "cell_type": "markdown",
      "source": [
        "**LASSO REGRESSION**"
      ],
      "metadata": {
        "id": "jmHPOdDmQmIS"
      }
    },
    {
      "cell_type": "code",
      "source": [
        "#Lasso regression\n",
        "from sklearn.linear_model import Lasso\n",
        "l = Lasso()\n",
        "l.fit(x_train, y_train)"
      ],
      "metadata": {
        "id": "ZwD_lf9DPfiD"
      },
      "execution_count": null,
      "outputs": []
    },
    {
      "cell_type": "code",
      "source": [
        "#train score\n",
        "x_train_pred_l = l.predict(x_train)\n",
        "r2_score(y_train, x_train_pred_l)"
      ],
      "metadata": {
        "colab": {
          "base_uri": "https://localhost:8080/"
        },
        "id": "nIB9ulrmP2DE",
        "outputId": "adfe0a94-e303-42db-dea8-59e104a16df5"
      },
      "execution_count": null,
      "outputs": [
        {
          "output_type": "execute_result",
          "data": {
            "text/plain": [
              "0.44613533954122186"
            ]
          },
          "metadata": {},
          "execution_count": 64
        }
      ]
    },
    {
      "cell_type": "code",
      "source": [
        "#test score\n",
        "x_test_pred_l = l.predict(x_test)\n",
        "r2_score(y_test, x_test_pred_l)"
      ],
      "metadata": {
        "colab": {
          "base_uri": "https://localhost:8080/"
        },
        "id": "-AHqRGd8QVkT",
        "outputId": "54a3aab4-7e9e-45ee-a538-f4f02e93ee49"
      },
      "execution_count": null,
      "outputs": [
        {
          "output_type": "execute_result",
          "data": {
            "text/plain": [
              "0.5025068603813865"
            ]
          },
          "metadata": {},
          "execution_count": 65
        }
      ]
    },
    {
      "cell_type": "markdown",
      "source": [
        "**RIDGE REGRESSION**"
      ],
      "metadata": {
        "id": "a-9JnyOdQsWC"
      }
    },
    {
      "cell_type": "code",
      "source": [
        "from sklearn.linear_model import Ridge\n",
        "rR = Ridge()\n",
        "rR.fit(x_train, y_train)"
      ],
      "metadata": {
        "colab": {
          "base_uri": "https://localhost:8080/"
        },
        "id": "R8fq0exIQviY",
        "outputId": "14e7acf5-fdf0-4094-dfcd-1006bfba9a76"
      },
      "execution_count": null,
      "outputs": [
        {
          "output_type": "execute_result",
          "data": {
            "text/plain": [
              "Ridge()"
            ]
          },
          "metadata": {},
          "execution_count": 66
        }
      ]
    },
    {
      "cell_type": "code",
      "source": [
        "#train score\n",
        "x_train_pred_rR = rR.predict(x_train)\n",
        "r2_score(y_train ,x_train_pred_rR)"
      ],
      "metadata": {
        "colab": {
          "base_uri": "https://localhost:8080/"
        },
        "id": "tU6C9nHQQ_yL",
        "outputId": "e6434a78-5e78-4839-d482-a5b24ad56ba6"
      },
      "execution_count": null,
      "outputs": [
        {
          "output_type": "execute_result",
          "data": {
            "text/plain": [
              "0.4461351758562353"
            ]
          },
          "metadata": {},
          "execution_count": 67
        }
      ]
    },
    {
      "cell_type": "code",
      "source": [
        "#test score\n",
        "x_test_pred_rR = rR.predict(x_test)\n",
        "r2_score(y_test, x_test_pred_rR)"
      ],
      "metadata": {
        "colab": {
          "base_uri": "https://localhost:8080/"
        },
        "id": "-H3KuKTTRVBR",
        "outputId": "fd125224-cfcf-40c7-c352-6946ebbbe74d"
      },
      "execution_count": null,
      "outputs": [
        {
          "output_type": "execute_result",
          "data": {
            "text/plain": [
              "0.5024883421813615"
            ]
          },
          "metadata": {},
          "execution_count": 68
        }
      ]
    },
    {
      "cell_type": "markdown",
      "source": [
        "**HYPERPARAMETR**"
      ],
      "metadata": {
        "id": "tAE4oHuF3Nem"
      }
    },
    {
      "cell_type": "code",
      "execution_count": null,
      "metadata": {
        "colab": {
          "base_uri": "https://localhost:8080/"
        },
        "id": "cTBtu3aHyQpb",
        "outputId": "b2f11e20-357c-4d9e-cad8-26d5e1d404fe"
      },
      "outputs": [
        {
          "output_type": "stream",
          "name": "stdout",
          "text": [
            "[100, 200, 300, 400, 500, 600, 700, 800, 900, 1000, 1100, 1200]\n"
          ]
        }
      ],
      "source": [
        "#hyperparametors,n_estimators-> diff values of 100\n",
        "#n_estimators id diff diff decision tree values\n",
        "#just i'm gonna create list comprehensionn (int(x))\n",
        "import numpy as np\n",
        "n_estimators=[int(x) for x in np.linspace(start = 100, stop = 1200, num = 12)]\n",
        "#im goona select diff diff decision tree values,100 to till 1200 this basically diff parameters\n",
        "print(n_estimators)\n",
        "#in o/p im selescted diff desion tree for my  hyper parameters "
      ]
    },
    {
      "cell_type": "markdown",
      "source": [
        "**RANDAMIZED CV**"
      ],
      "metadata": {
        "id": "Noe0Rhyp3SIF"
      }
    },
    {
      "cell_type": "code",
      "execution_count": null,
      "metadata": {
        "id": "aXKLmKWB0dbT"
      },
      "outputs": [],
      "source": [
        "#randamized search CV\n",
        "\n",
        "#number of trees in random forest\n",
        "n_estimators = [int(x) for x in np.linspace(start = 100, stop = 1200, num = 12)]\n",
        "#number of features to consider of every split\n",
        "max_features = ['auto', 'sqrt']\n",
        "#maximum number of levels in tress\n",
        "#max_depth i'm selected b/w 5 to 30 \n",
        "max_depth = [int(x) for x in np.linspace(5, 30, num = 6)]\n",
        "#mimnimum number of samples requried to split node,randomly selected\n",
        "min_samples_split = [2, 5, 10 ,15, 100]\n",
        "#minimum number of samples requried at each leaf node\n",
        "min_samples_leaf = [1,2, 5, 10]"
      ]
    },
    {
      "cell_type": "code",
      "source": [
        "#hyperparameter tuning use randomized cv helps to find best parametrs of RCV pretty much fast\n",
        "from sklearn.model_selection import RandomizedSearchCV"
      ],
      "metadata": {
        "id": "I-p0akrqQ_7A"
      },
      "execution_count": null,
      "outputs": []
    },
    {
      "cell_type": "code",
      "source": [
        "#create random grid\n",
        "#grid cv also we can use but RCV is little bit faster,once i execute  this various parameter i taken RCV select best parameter\n",
        "random_grid = {'n_estimators': n_estimators,#take a key values,  \n",
        "               'max_features': max_features,\n",
        "               'max_depth': max_depth,\n",
        "               'min_samples_split': min_samples_split,\n",
        "               'min_samples_leaf': min_samples_leaf}\n",
        "\n",
        "print(random_grid)"
      ],
      "metadata": {
        "colab": {
          "base_uri": "https://localhost:8080/"
        },
        "id": "EIUUoy4qRC07",
        "outputId": "34dc28e0-2a7a-4935-c03f-2da3cadd74ab"
      },
      "execution_count": null,
      "outputs": [
        {
          "output_type": "stream",
          "name": "stdout",
          "text": [
            "{'n_estimators': [100, 200, 300, 400, 500, 600, 700, 800, 900, 1000, 1100, 1200], 'max_features': ['auto', 'sqrt'], 'max_depth': [5, 10, 15, 20, 25, 30], 'min_samples_split': [2, 5, 10, 15, 100], 'min_samples_leaf': [1, 2, 5, 10]}\n"
          ]
        }
      ]
    },
    {
      "cell_type": "code",
      "source": [
        "#use the random grid to search for the best hyperparameters\n",
        "#first create the base model to tune\n",
        "rf = RandomForestRegressor()#rf is a parameter value,2nd values asssingned is random_grid"
      ],
      "metadata": {
        "id": "RRJXXOl3RLAw"
      },
      "execution_count": null,
      "outputs": []
    },
    {
      "cell_type": "code",
      "source": [
        "#if i remove verbose o/p value won't get ,n_jobs -> how cores we used\n",
        "rf_random = RandomizedSearchCV(estimator = rf, param_distributions = random_grid , n_iter = 10, cv = 5, verbose = 2, random_state = 42, n_jobs = 1)"
      ],
      "metadata": {
        "id": "cg0ggQlaRK5O"
      },
      "execution_count": null,
      "outputs": []
    },
    {
      "cell_type": "code",
      "source": [
        "rf_random.fit(x_train, y_train)"
      ],
      "metadata": {
        "colab": {
          "base_uri": "https://localhost:8080/"
        },
        "id": "c7bKTfLARKtR",
        "outputId": "a87105ce-c3f2-4da1-e3cc-6f0a4ceef9eb"
      },
      "execution_count": null,
      "outputs": [
        {
          "output_type": "stream",
          "name": "stdout",
          "text": [
            "Fitting 5 folds for each of 10 candidates, totalling 50 fits\n",
            "[CV] END max_depth=10, max_features=sqrt, min_samples_leaf=5, min_samples_split=5, n_estimators=900; total time=   1.9s\n",
            "[CV] END max_depth=10, max_features=sqrt, min_samples_leaf=5, min_samples_split=5, n_estimators=900; total time=   1.9s\n",
            "[CV] END max_depth=10, max_features=sqrt, min_samples_leaf=5, min_samples_split=5, n_estimators=900; total time=   1.9s\n",
            "[CV] END max_depth=10, max_features=sqrt, min_samples_leaf=5, min_samples_split=5, n_estimators=900; total time=   1.9s\n",
            "[CV] END max_depth=10, max_features=sqrt, min_samples_leaf=5, min_samples_split=5, n_estimators=900; total time=   1.9s\n",
            "[CV] END max_depth=15, max_features=sqrt, min_samples_leaf=2, min_samples_split=10, n_estimators=1100; total time=   2.7s\n",
            "[CV] END max_depth=15, max_features=sqrt, min_samples_leaf=2, min_samples_split=10, n_estimators=1100; total time=   2.7s\n",
            "[CV] END max_depth=15, max_features=sqrt, min_samples_leaf=2, min_samples_split=10, n_estimators=1100; total time=   2.7s\n",
            "[CV] END max_depth=15, max_features=sqrt, min_samples_leaf=2, min_samples_split=10, n_estimators=1100; total time=   2.7s\n",
            "[CV] END max_depth=15, max_features=sqrt, min_samples_leaf=2, min_samples_split=10, n_estimators=1100; total time=   2.7s\n",
            "[CV] END max_depth=15, max_features=auto, min_samples_leaf=5, min_samples_split=100, n_estimators=300; total time=   0.9s\n",
            "[CV] END max_depth=15, max_features=auto, min_samples_leaf=5, min_samples_split=100, n_estimators=300; total time=   0.9s\n",
            "[CV] END max_depth=15, max_features=auto, min_samples_leaf=5, min_samples_split=100, n_estimators=300; total time=   0.9s\n",
            "[CV] END max_depth=15, max_features=auto, min_samples_leaf=5, min_samples_split=100, n_estimators=300; total time=   0.9s\n",
            "[CV] END max_depth=15, max_features=auto, min_samples_leaf=5, min_samples_split=100, n_estimators=300; total time=   0.9s\n",
            "[CV] END max_depth=15, max_features=auto, min_samples_leaf=5, min_samples_split=5, n_estimators=400; total time=   1.6s\n",
            "[CV] END max_depth=15, max_features=auto, min_samples_leaf=5, min_samples_split=5, n_estimators=400; total time=   1.6s\n",
            "[CV] END max_depth=15, max_features=auto, min_samples_leaf=5, min_samples_split=5, n_estimators=400; total time=   1.6s\n",
            "[CV] END max_depth=15, max_features=auto, min_samples_leaf=5, min_samples_split=5, n_estimators=400; total time=   1.6s\n",
            "[CV] END max_depth=15, max_features=auto, min_samples_leaf=5, min_samples_split=5, n_estimators=400; total time=   1.7s\n",
            "[CV] END max_depth=20, max_features=auto, min_samples_leaf=10, min_samples_split=5, n_estimators=700; total time=   2.6s\n",
            "[CV] END max_depth=20, max_features=auto, min_samples_leaf=10, min_samples_split=5, n_estimators=700; total time=   2.6s\n",
            "[CV] END max_depth=20, max_features=auto, min_samples_leaf=10, min_samples_split=5, n_estimators=700; total time=   2.6s\n",
            "[CV] END max_depth=20, max_features=auto, min_samples_leaf=10, min_samples_split=5, n_estimators=700; total time=   2.6s\n",
            "[CV] END max_depth=20, max_features=auto, min_samples_leaf=10, min_samples_split=5, n_estimators=700; total time=   2.6s\n",
            "[CV] END max_depth=25, max_features=sqrt, min_samples_leaf=1, min_samples_split=2, n_estimators=1000; total time=   3.6s\n",
            "[CV] END max_depth=25, max_features=sqrt, min_samples_leaf=1, min_samples_split=2, n_estimators=1000; total time=   4.5s\n",
            "[CV] END max_depth=25, max_features=sqrt, min_samples_leaf=1, min_samples_split=2, n_estimators=1000; total time=   3.6s\n",
            "[CV] END max_depth=25, max_features=sqrt, min_samples_leaf=1, min_samples_split=2, n_estimators=1000; total time=   3.6s\n",
            "[CV] END max_depth=25, max_features=sqrt, min_samples_leaf=1, min_samples_split=2, n_estimators=1000; total time=   3.5s\n",
            "[CV] END max_depth=5, max_features=sqrt, min_samples_leaf=10, min_samples_split=15, n_estimators=1100; total time=   2.0s\n",
            "[CV] END max_depth=5, max_features=sqrt, min_samples_leaf=10, min_samples_split=15, n_estimators=1100; total time=   2.0s\n",
            "[CV] END max_depth=5, max_features=sqrt, min_samples_leaf=10, min_samples_split=15, n_estimators=1100; total time=   2.0s\n",
            "[CV] END max_depth=5, max_features=sqrt, min_samples_leaf=10, min_samples_split=15, n_estimators=1100; total time=   2.0s\n",
            "[CV] END max_depth=5, max_features=sqrt, min_samples_leaf=10, min_samples_split=15, n_estimators=1100; total time=   2.0s\n",
            "[CV] END max_depth=15, max_features=sqrt, min_samples_leaf=1, min_samples_split=15, n_estimators=300; total time=   0.8s\n",
            "[CV] END max_depth=15, max_features=sqrt, min_samples_leaf=1, min_samples_split=15, n_estimators=300; total time=   0.8s\n",
            "[CV] END max_depth=15, max_features=sqrt, min_samples_leaf=1, min_samples_split=15, n_estimators=300; total time=   0.8s\n",
            "[CV] END max_depth=15, max_features=sqrt, min_samples_leaf=1, min_samples_split=15, n_estimators=300; total time=   0.8s\n",
            "[CV] END max_depth=15, max_features=sqrt, min_samples_leaf=1, min_samples_split=15, n_estimators=300; total time=   0.8s\n",
            "[CV] END max_depth=5, max_features=sqrt, min_samples_leaf=2, min_samples_split=10, n_estimators=700; total time=   1.3s\n",
            "[CV] END max_depth=5, max_features=sqrt, min_samples_leaf=2, min_samples_split=10, n_estimators=700; total time=   1.3s\n",
            "[CV] END max_depth=5, max_features=sqrt, min_samples_leaf=2, min_samples_split=10, n_estimators=700; total time=   1.3s\n",
            "[CV] END max_depth=5, max_features=sqrt, min_samples_leaf=2, min_samples_split=10, n_estimators=700; total time=   1.3s\n",
            "[CV] END max_depth=5, max_features=sqrt, min_samples_leaf=2, min_samples_split=10, n_estimators=700; total time=   1.3s\n",
            "[CV] END max_depth=20, max_features=auto, min_samples_leaf=1, min_samples_split=15, n_estimators=700; total time=   3.0s\n",
            "[CV] END max_depth=20, max_features=auto, min_samples_leaf=1, min_samples_split=15, n_estimators=700; total time=   2.9s\n",
            "[CV] END max_depth=20, max_features=auto, min_samples_leaf=1, min_samples_split=15, n_estimators=700; total time=   2.9s\n",
            "[CV] END max_depth=20, max_features=auto, min_samples_leaf=1, min_samples_split=15, n_estimators=700; total time=   3.0s\n",
            "[CV] END max_depth=20, max_features=auto, min_samples_leaf=1, min_samples_split=15, n_estimators=700; total time=   3.1s\n"
          ]
        },
        {
          "output_type": "execute_result",
          "data": {
            "text/plain": [
              "RandomizedSearchCV(cv=5, estimator=RandomForestRegressor(), n_jobs=1,\n",
              "                   param_distributions={'max_depth': [5, 10, 15, 20, 25, 30],\n",
              "                                        'max_features': ['auto', 'sqrt'],\n",
              "                                        'min_samples_leaf': [1, 2, 5, 10],\n",
              "                                        'min_samples_split': [2, 5, 10, 15,\n",
              "                                                              100],\n",
              "                                        'n_estimators': [100, 200, 300, 400,\n",
              "                                                         500, 600, 700, 800,\n",
              "                                                         900, 1000, 1100,\n",
              "                                                         1200]},\n",
              "                   random_state=42, verbose=2)"
            ]
          },
          "metadata": {},
          "execution_count": 75
        }
      ]
    },
    {
      "cell_type": "code",
      "source": [
        "predictions = rf_random.predict(x_test)"
      ],
      "metadata": {
        "id": "Xkeuzf5DRKf6"
      },
      "execution_count": null,
      "outputs": []
    },
    {
      "cell_type": "code",
      "source": [
        "predictions"
      ],
      "metadata": {
        "colab": {
          "base_uri": "https://localhost:8080/"
        },
        "id": "iFE54IqsRj8i",
        "outputId": "ba2d37ef-20aa-4ffa-b518-c540bb20a345"
      },
      "execution_count": null,
      "outputs": [
        {
          "output_type": "execute_result",
          "data": {
            "text/plain": [
              "array([1114823.41937252, 1463984.46986094,  240232.15053089,\n",
              "       3811570.850658  ,  242840.14678442,  183543.36841801,\n",
              "        867532.5228033 ,  308443.51452995, 1335148.83065094,\n",
              "        450051.94625918,  265972.93775465,  425328.52464914,\n",
              "        689982.03313187,  546997.12465486,  169932.33039782,\n",
              "        675950.61150664,  480962.57893176,  275556.60779571,\n",
              "        115134.93547364,  568664.11965954,   94700.63325567,\n",
              "        510301.68349159,  404836.38028637,  438709.74601253,\n",
              "        864559.5577499 ,  651977.08317837,  616393.75812738,\n",
              "        515788.8728702 ,  574536.10116671,  421536.78802257,\n",
              "        393270.49936128,  475628.95525017,  442120.1278287 ,\n",
              "        751465.99728883,  299829.47104646,  454955.47678036,\n",
              "        334880.6904436 ,  111370.52920097,  230698.07403098,\n",
              "        393823.43327281,  197357.8021863 ,  531139.44589878,\n",
              "        581716.32008014, 1761490.71170812,  428665.56627886,\n",
              "        270462.49946918,  120864.56378171,  381830.64731717,\n",
              "        538366.970712  ,  340080.21014225,  179268.662549  ,\n",
              "        382078.13407573,  345638.39230148, 1017051.18846118,\n",
              "        499147.45186831,  546877.88753112, 3811570.850658  ,\n",
              "        265267.75366458,  338223.01677051,  263391.59730626,\n",
              "        259546.7351753 ,  227524.64868316,  231899.58653784,\n",
              "        515788.8728702 ,  453538.89190039,  516605.56238724,\n",
              "        209817.11125611,  213013.60118926,  736526.18060467,\n",
              "        704997.6275371 ,  232930.98128609,  388326.31024694,\n",
              "        374728.52343542,  585115.12494421,  471997.11457343,\n",
              "        437541.38043411,  654077.52571373,  499147.45186831,\n",
              "        564416.21595336,  212959.69690993,  341090.92924464,\n",
              "        158092.18953806,  656465.93187689,  196512.37583524,\n",
              "        258035.7729147 , 1416992.38535628,  487595.57162902,\n",
              "        510301.68349159,  451021.23661991,  329129.25529153,\n",
              "       1205854.47521051,  134427.57327382,  459999.38104924,\n",
              "        493936.29059856,  265271.83337312,  466698.30683243,\n",
              "        446246.84299391,  200571.57134036,  646987.72558789,\n",
              "        761025.045721  ,  255947.17463938,  313412.34680349,\n",
              "        103605.72509598,  708481.12362616,  103605.72509598,\n",
              "        871731.21487666,  197357.8021863 ,  442181.1684965 ,\n",
              "        220150.02598225,  133473.80060447,  236602.35444222,\n",
              "        249540.55617226,  149617.49155236,  529011.83638704,\n",
              "        131401.39392639,  426536.32464323,  308443.51452995,\n",
              "       1069382.17184449,  780362.08157879,  124770.21875342,\n",
              "        540368.17538102,  486614.51477025,  640203.18916055,\n",
              "        334024.93956715,  231899.58653784,  508941.14939438,\n",
              "        233851.58839934,  260654.07275801,  590119.67418643,\n",
              "        317357.27247282,  393270.49936128,  538366.970712  ,\n",
              "        124276.21274762, 1730501.21681293,  244197.54333077,\n",
              "        393270.49936128,  169839.99393887,  157091.2251099 ,\n",
              "        244781.15621697,  116110.09981469,  155128.87383965,\n",
              "        119742.69875353,  734317.14725604,  267385.24384838,\n",
              "        475345.88913526,  518402.66023991,  747227.81873252,\n",
              "        513263.63476053,  120864.56378171, 1019875.22497717,\n",
              "        301749.29389277,  640487.59209317,  560486.46073669,\n",
              "        914002.81239769,  427713.18958262, 3811570.850658  ,\n",
              "        139255.16755581,  428665.56627886,  462608.79920535,\n",
              "        285957.31005744,  407417.7888357 ,  599528.91381974,\n",
              "        290563.08994515,  576330.60470613,  459999.38104924,\n",
              "        328617.11357373,  639242.59040054,  191609.87372591,\n",
              "        849077.41955287,  678608.86371848,  774483.56574537,\n",
              "        649000.45340061,  515788.8728702 ,  621797.80404799,\n",
              "       1034879.48389571,  201568.86473067,  467978.26300214,\n",
              "        119747.33107853,  291474.13617414,  328617.11357373,\n",
              "        254653.6229557 ,  281234.04730554,  309888.97377771,\n",
              "        767979.773365  ,  500149.00186335,  162001.39383064,\n",
              "        451880.8475717 ,  341960.45557006,  173024.01900098,\n",
              "        186951.40752628,  970017.68226174,  268195.58724499,\n",
              "        788310.03282679,  681902.89631481,  299413.64985399,\n",
              "        732516.20685055,  203025.44128267,  393270.49936128,\n",
              "        278423.72635664,  278164.05385132, 1148264.73618376,\n",
              "        444999.78724398,  925898.39304345,  646159.07774062,\n",
              "        514512.36544298,  175139.77592968,  157416.45946164,\n",
              "        663997.25827454,  704997.6275371 , 1300487.29320607,\n",
              "        125291.43622404,  496427.87108617,  552988.50861545,\n",
              "        255363.91624851,  399431.38704375,  287674.37533845,\n",
              "         93912.37234498,  565625.95414972,  300491.69929049,\n",
              "        408979.36994933,  109822.98825818,  348198.58393024,\n",
              "        476579.64406272,  619864.42356187,  520553.8893705 ,\n",
              "        107405.11087777,  632001.31579212,  568416.04521238,\n",
              "        410890.16484817,  627335.42943901,  270358.4100648 ,\n",
              "        706604.60277319,  548004.50535616,  440740.20495943,\n",
              "        791729.33587395,  963676.69937509,  585115.12494421,\n",
              "        466112.68836644,  172285.44231042,  660370.39599339,\n",
              "        328831.75886005,  221741.37358843,  246393.18168005,\n",
              "        401249.91056268,  264689.55075982,  401249.91056268,\n",
              "       1019875.22497717,  194564.69772533,  568664.11965954,\n",
              "        646427.1937451 ,  158834.6169263 ,  689915.62786877,\n",
              "        588759.17890719,  313258.20356832, 3811570.850658  ,\n",
              "        323134.48736583,  255123.2228025 ,  393270.49936128,\n",
              "        437629.02171553,  135160.62327378,  276709.75061458,\n",
              "        144910.74979834,  352180.17910137,  609900.55702308,\n",
              "        422876.01952443,  372833.53504503,  275707.21746947,\n",
              "        422876.01952443,  527031.96688165,  442355.93686843,\n",
              "        169123.42421628,  275556.60779571,  267974.19648472,\n",
              "       1092100.92097964,  309096.16873056,  678608.86371848,\n",
              "        289175.35704204,  432247.0830041 ,  656783.2304592 ,\n",
              "        204181.32938649, 2781610.56158156,  585518.96700916,\n",
              "        403958.37069686,  548469.53785042,  873723.9154072 ,\n",
              "        295496.29510782,  682596.93781108,  395327.84555908,\n",
              "        293715.15328634,  360413.01087296,  464744.63813367,\n",
              "        370932.12490223,  460493.97295608,  349848.34079325,\n",
              "       2800663.2448655 ,  401885.82888479,  641505.04457323,\n",
              "       3557000.54267885,  354175.95864186,  121227.92093067,\n",
              "        517119.897799  ,  238372.49142045,  776451.36050206,\n",
              "        176885.02446169,  286438.80587818,  314574.78807572,\n",
              "        328617.11357373, 1178245.10899709,  552680.94759208,\n",
              "        428321.14273023,  454185.21736399,  241900.23469234,\n",
              "       2781610.56158156,  484945.01458081,  116110.09981469,\n",
              "        695159.42357058,  542806.41367422,  135214.42872051,\n",
              "        487723.59909442,  184735.63811307,  184619.41415428,\n",
              "        397043.69731539,  299668.60459406,  519197.02329721,\n",
              "        188367.30991578, 1017051.18846118,  226308.92919247,\n",
              "        480962.57893176,  217984.69382293,  930377.77735575,\n",
              "       2007820.17854267, 2356164.77091084,  422876.01952443,\n",
              "        109883.3367586 ,  558316.71848313,  558831.65849248,\n",
              "        207432.8992481 ,  227301.13702777,  237426.59461004,\n",
              "        590119.67418643,  524357.77631427,  323134.48736583,\n",
              "        311934.96968953,  496427.87108617,  315876.8331999 ,\n",
              "        226308.92919247,  542498.36105358,  522119.54635057,\n",
              "        656465.93187689,  270462.49946918,  312680.37785407,\n",
              "        323003.46112751,  614531.47838671,  407652.4428047 ,\n",
              "        475395.82100711,  329863.84023122,  645383.85491145,\n",
              "        285062.90749319,  166772.04623698,  548518.63231543,\n",
              "        232521.87032724,  573351.57312491,  375933.42445258,\n",
              "        337923.3323147 ,  328454.05125823,  965122.96240663,\n",
              "        456845.15145702,  398705.61436209,   85788.3251547 ,\n",
              "         90796.52520254,  713728.9735214 ,  595249.71443877,\n",
              "       1314702.76971585, 1034879.48389571,  265622.33047279,\n",
              "        706500.93635628, 3558503.3796966 ,  800739.24727994,\n",
              "        496427.87108617, 2356164.77091084,  930377.77735575,\n",
              "        374728.52343542,  195255.12714951,  323003.46112751,\n",
              "        153698.99422259,  213013.60118926,  475735.00943835,\n",
              "        644576.665818  ,  297906.58094894,  180492.40482496,\n",
              "        389614.0189275 ,  318732.36094065,  568664.11965954,\n",
              "        213455.07000307,  147637.73873479,  200960.44809921,\n",
              "        346721.95751357,  392667.11628225,  572832.58289946,\n",
              "        565317.40702919,  205420.8928244 ,  883417.13461876,\n",
              "        502827.96289137,  449701.27899698,  571451.84629058,\n",
              "        675950.61150664,  464744.63813367,  925414.55412704,\n",
              "        293097.8738757 ,  506399.56886155,  759690.26531653,\n",
              "        375848.51133571,  523815.40461638,  276169.85242239,\n",
              "        176411.97550786,  328617.11357373,  801793.27907221,\n",
              "        644576.665818  ,  110118.36287238,  518402.66023991,\n",
              "        590119.67418643,   90236.13584606,  699554.71174626,\n",
              "        664071.20303635,  946841.11116283,  750129.83688684,\n",
              "        487672.48062141,  122049.03230281,  489919.55220628,\n",
              "        407094.22244367,  276298.62583472,  880338.42733107,\n",
              "         90125.89699349,  554024.5582604 ,  269291.9583293 ,\n",
              "       2068470.82933119,  691740.92798256,  930377.77735575,\n",
              "        514389.52176172,  135160.62327378,  429031.63366525,\n",
              "        328617.11357373,  384674.82426249,  337350.32021739,\n",
              "        401604.40118226,  438709.74601253,  189042.4216986 ,\n",
              "        590119.67418643,  336846.27449203,  946841.11116283,\n",
              "        501165.01154525,  432247.0830041 ,  513672.12123174,\n",
              "        598105.64459843,  335408.09591111,  239345.43700772,\n",
              "        136865.53821024,  125677.7528496 ,  428665.56627886,\n",
              "        510459.01195186,  111421.22230291,  893032.30047409,\n",
              "         88986.33031409,  175174.71238588,  691740.92798256,\n",
              "        427597.9861009 ,  499147.45186831,  433059.45846613,\n",
              "        169932.33039782,  116251.34959375,  202978.1701168 ,\n",
              "        493266.35549877,  278423.72635664,  217913.41792209,\n",
              "        499812.04030429,  112166.84921226,  200844.31418705,\n",
              "        165315.80178859,  263996.05540198,  200271.84535229,\n",
              "        441470.36758546,  701838.15700056,  197357.8021863 ,\n",
              "       1244419.01288144, 1749485.2842476 ,  318333.57903073,\n",
              "        656465.93187689,  341226.06807482,  651717.73922023,\n",
              "        602147.30819243,   99418.8839639 ,  487929.09960684,\n",
              "        567732.67393192,  532351.79453739,  627335.42943901,\n",
              "        947090.838337  ,  276169.85242239,  750129.83688684,\n",
              "        133623.72082009,  627335.42943901,  341640.84448841,\n",
              "        378211.68022674,  381775.76135378,  587044.49423466,\n",
              "        308443.51452995,  131220.62458174,  301279.68724397,\n",
              "       1481059.59828704,  245834.02042446,  265622.33047279,\n",
              "        179268.662549  ,  204181.32938649,  434855.42971866,\n",
              "        604321.59946471, 1479908.82085308,  221874.96141878,\n",
              "        217720.43887811,  519197.02329721,  439805.27877591,\n",
              "        282477.03468938,  233655.78154057,  169882.52989383,\n",
              "        442393.60965267,  586556.0964366 ,  134427.57327382,\n",
              "        315876.8331999 ,  428665.56627886,  765738.79528724,\n",
              "        502488.35108962,  630162.10882622,  833894.40540501,\n",
              "        122063.22249189,  312562.43880921,  204687.46701231,\n",
              "        200890.2372607 ,  799753.394523  ,  829675.7238914 ,\n",
              "        943110.68263992,   87379.94951355,  484356.90834479,\n",
              "        471513.72205746, 2800663.2448655 ,  302799.06324358,\n",
              "        621573.65130009,  425832.02316378,  553819.52922222,\n",
              "        861631.42989708,  336846.27449203,  507649.60854457,\n",
              "        305137.00727648,  217913.41792209,  227524.64868316,\n",
              "        706500.93635628,  564873.98966692,  470154.1587566 ,\n",
              "        105031.62953878,  356900.50016712,  677212.48186978,\n",
              "        328242.83466452,  297906.58094894,  375293.08904103,\n",
              "       1129719.43000174,  416089.59234267, 1471772.7938124 ,\n",
              "        829654.25418854,  450147.04554738,  522339.87837176,\n",
              "       1476546.9779842 , 1847917.93969243,  539623.61153913,\n",
              "         99159.24416187,  110261.41472927,  200844.31418705,\n",
              "        377707.14462973,  446634.98441252,  448639.27803285,\n",
              "        814055.04679135,  299783.94801686,  467207.64517586,\n",
              "        243608.14080963,  801250.73367441,  159007.61297191,\n",
              "        389614.0189275 ,  389614.0189275 , 1121080.53939607,\n",
              "        729186.03256239,  338218.6475197 , 1450221.15428069,\n",
              "        354336.97009246,  517119.897799  ,  682644.98355125,\n",
              "        540219.5970896 ,  645236.65780397,  853770.38981526,\n",
              "        136865.53821024,  229800.8352493 , 1819355.48666336,\n",
              "        713728.9735214 ,  276298.62583472,  713728.9735214 ,\n",
              "        451547.61060645,  547987.98561388,  784789.77990163,\n",
              "        117345.31649257,  484495.5938943 ,  232811.41573076,\n",
              "        434750.95808766, 1811138.07341365, 1160939.14512703,\n",
              "       1672158.12368877,  188365.76003672,  325322.88452535,\n",
              "        346912.18202996,  433059.45846613, 1141949.89801472,\n",
              "         85252.27446357,  900122.08777474,  584107.99720037,\n",
              "        502488.35108962,  295496.29510782,  467207.64517586,\n",
              "         80269.65558997,  502286.94619709,  540444.20613321,\n",
              "        341640.84448841,  496427.87108617,  228783.44960025,\n",
              "         99167.72334755,  522654.53283755,  323003.46112751,\n",
              "        563421.74273712,  254653.6229557 ,  701838.15700056,\n",
              "        218096.51674865,  320890.42301536,  491877.91926986,\n",
              "        450747.02756324,  105293.87209207,  943044.72408844,\n",
              "        329717.18989982,  452500.27623403,  353397.63512991,\n",
              "        212243.04878152,  276140.56371697,  760800.60601334,\n",
              "        106801.2398258 ,  750859.78074151,  281358.41631338,\n",
              "        348066.57365198,  331139.09678686,  317357.27247282,\n",
              "        199026.84695479,  438709.74601253,  349051.54499891,\n",
              "        445028.55561554,  235170.20896159, 1207434.403666  ,\n",
              "        109220.06290578, 1566368.90762705,  564298.16493689,\n",
              "        645236.65780397,  513384.21644053,  816501.38321317,\n",
              "       1627538.92084611,  723284.42504103,  644576.665818  ,\n",
              "        753901.97527241,  329566.31881351,  518395.21426788,\n",
              "        279608.10535307,  560549.45300942,  880338.42733107,\n",
              "        361865.66895132, 2356164.77091084,  260413.99871294,\n",
              "        225029.14304254,  612689.13452219,  180201.76891103,\n",
              "        677358.49518948, 1965810.04886179,  883417.13461876,\n",
              "        341960.45557006, 1354143.87704794,  571451.84629058,\n",
              "        337667.9565638 ,  514180.37558807,  825174.15655435,\n",
              "        335550.80524019,  229461.79601939,  435496.72500262,\n",
              "        449698.07161237,  487709.47664789,  244781.15621697,\n",
              "       1983123.9241114 ,  350976.5859037 ,  227524.64868316,\n",
              "        545344.93528511,  334736.57039322,  538366.970712  ,\n",
              "        549939.5169035 ,  127092.05933588,  244143.35835011,\n",
              "        318333.57903073,  294467.87090766, 1431712.8613777 ,\n",
              "        409411.42678871,  706500.93635628,  231462.75829093,\n",
              "        229461.79601939,  565238.15146541,  323850.53969578,\n",
              "        513384.21644053,  189122.84806367,  222229.53661997,\n",
              "        252605.09494957,  410890.16484817,  489208.30744846,\n",
              "        229800.8352493 ,  535276.91046011,  217498.72203361,\n",
              "        203025.44128267,  110261.41472927,  457828.52226557,\n",
              "        274400.95766829,  329566.31881351,  221931.5087391 ,\n",
              "        216901.11137994,  570986.23047397, 1090888.76314391,\n",
              "        724162.78157712,  398088.68005487,  113897.36230646,\n",
              "        117927.52534311,  456537.86148789,  422526.28250148,\n",
              "        675950.61150664,  198621.97513108,  361033.8287569 ,\n",
              "        712774.45394759,  462287.50049576,  535276.91046011,\n",
              "        423585.13009219,  306587.23232325,  104865.25360695,\n",
              "        549428.31459127, 1819578.72441011,  483636.12204345,\n",
              "        445781.61876809,  422876.01952443,  272149.39161967,\n",
              "        378160.31798549, 1653237.97892616,  389614.0189275 ,\n",
              "        401171.69684916,  234097.23588462,  855864.64062725,\n",
              "        243707.6510337 ,  313258.20356832,  268195.58724499,\n",
              "        163124.69355096,  587570.88366143,  515788.8728702 ,\n",
              "        335271.35942581,  775897.7610498 ,  254655.17033157,\n",
              "        393270.49936128,  502483.32731755, 1545629.66722845,\n",
              "        479988.48839882,  522654.53283755,  893320.65078983,\n",
              "        294198.5618607 ,  187199.97612711,  120864.56378171,\n",
              "        285062.90749319,  189564.18170138,  318555.13073345,\n",
              "        415407.54919163,  504991.35224227, 1144662.72793996,\n",
              "        312680.37785407,  202516.22643475,  275556.60779571,\n",
              "        113024.79707963,  930258.69873644,  329436.50758139,\n",
              "        200325.41503793,  208422.933147  ,  630424.9074437 ,\n",
              "        302868.14663911,  321877.73562515,  221355.19562285,\n",
              "        167774.01481812,  139454.59504667,  106657.6290211 ,\n",
              "        507199.41720723,  548469.53785042,  259546.7351753 ,\n",
              "        673534.68122489, 1388664.79784859, 1463984.46986094,\n",
              "        468334.48978526,  330403.56052762,  727955.19804041,\n",
              "        742735.17747424,  554534.53538118,  883417.13461876,\n",
              "       3557000.54267885,  266771.07776846,  413004.36845604,\n",
              "        262180.06975362,  946841.11116283,  505829.21770433,\n",
              "        115019.69487608,  135026.47923907,  422876.01952443,\n",
              "        110026.58376234,  401249.91056268,  129776.41932932,\n",
              "        446255.33909422,  368967.38128298,  134427.57327382,\n",
              "        278423.72635664,  930377.77735575,  713728.9735214 ,\n",
              "        552821.09859267,  430071.46598313,  323003.46112751,\n",
              "       1357154.0188066 ,  265622.33047279,  528227.61235182,\n",
              "        117472.35291693,  678608.86371848,  464744.63813367,\n",
              "        142465.55562671, 3557000.54267885,  299074.2954774 ,\n",
              "        515788.8728702 ,  393270.49936128,  200960.44809921,\n",
              "        428665.56627886,  378160.31798549,  969305.47944653,\n",
              "        164817.86684687,  289403.82084313,  609900.55702308,\n",
              "        609364.50328413,  389614.0189275 ,  651717.73922023,\n",
              "        931751.2772221 ,  135160.62327378,  450821.40215438,\n",
              "        562476.43464381, 1090370.24753357,  305802.78398725,\n",
              "        212801.40899437,  105293.87209207,  640487.59209317,\n",
              "        249042.04626705,  202211.29987876,  493266.35549877,\n",
              "        539623.61153913, 1647714.88728268,  203127.3216745 ,\n",
              "        335801.26480546,  221481.55851894,   97141.73185338,\n",
              "       3557000.54267885])"
            ]
          },
          "metadata": {},
          "execution_count": 77
        }
      ]
    },
    {
      "cell_type": "code",
      "source": [
        "#y_test id real value and x_test is prediction values\n",
        "#my graph looks like a normal distributions \n",
        "sns.distplot(y_test-predictions)\n",
        "#we did a prediction based on x_test,y_test(real value)\n",
        "#i found out the diff b/w y-test and predictions iy should be a minimul,density minimul so we get closed garition distribution graph the diff VV minimul"
      ],
      "metadata": {
        "colab": {
          "base_uri": "https://localhost:8080/",
          "height": 363
        },
        "id": "PZV17l6vRpV2",
        "outputId": "0fc51485-6a9b-4692-dfd6-612fc73201ca"
      },
      "execution_count": null,
      "outputs": [
        {
          "output_type": "stream",
          "name": "stderr",
          "text": [
            "/usr/local/lib/python3.7/dist-packages/seaborn/distributions.py:2619: FutureWarning: `distplot` is a deprecated function and will be removed in a future version. Please adapt your code to use either `displot` (a figure-level function with similar flexibility) or `histplot` (an axes-level function for histograms).\n",
            "  warnings.warn(msg, FutureWarning)\n"
          ]
        },
        {
          "output_type": "execute_result",
          "data": {
            "text/plain": [
              "<matplotlib.axes._subplots.AxesSubplot at 0x7fc60903dfd0>"
            ]
          },
          "metadata": {},
          "execution_count": 78
        },
        {
          "output_type": "display_data",
          "data": {
            "text/plain": [
              "<Figure size 432x288 with 1 Axes>"
            ],
            "image/png": "[encoded data removed]"
          },
          "metadata": {
            "needs_background": "light"
          }
        }
      ]
    },
    {
      "cell_type": "code",
      "source": [
        "plt.scatter(y_test,predictions)\n",
        "#plot is linarly avaible,my prediction is pretty much good "
      ],
      "metadata": {
        "colab": {
          "base_uri": "https://localhost:8080/",
          "height": 306
        },
        "id": "niQ9CyL5RpJc",
        "outputId": "da97e66a-62ba-40a2-959b-5ae800e78b25"
      },
      "execution_count": null,
      "outputs": [
        {
          "output_type": "execute_result",
          "data": {
            "text/plain": [
              "<matplotlib.collections.PathCollection at 0x7fc608eaed10>"
            ]
          },
          "metadata": {},
          "execution_count": 79
        },
        {
          "output_type": "display_data",
          "data": {
            "text/plain": [
              "<Figure size 432x288 with 1 Axes>"
            ],
            "image/png": "[encoded data removed]"
          },
          "metadata": {
            "needs_background": "light"
          }
        }
      ]
    }
  ],
  "metadata": {
    "colab": {
      "collapsed_sections": [],
      "name": "final ML car price project.ipynb",
      "provenance": []
    },
    "kernelspec": {
      "display_name": "Python 3",
      "name": "python3"
    },
    "language_info": {
      "name": "python"
    }
  },
  "nbformat": 4,
  "nbformat_minor": 0
}