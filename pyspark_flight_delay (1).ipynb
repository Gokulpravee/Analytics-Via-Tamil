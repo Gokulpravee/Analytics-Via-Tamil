{
  "nbformat": 4,
  "nbformat_minor": 0,
  "metadata": {
    "colab": {
      "name": "pyspark_flight_delay.ipynb",
      "provenance": [],
      "collapsed_sections": []
    },
    "kernelspec": {
      "name": "python3",
      "display_name": "Python 3"
    },
    "language_info": {
      "name": "python"
    }
  },
  "cells": [
    {
      "cell_type": "code",
      "execution_count": null,
      "metadata": {
        "colab": {
          "base_uri": "https://localhost:8080/"
        },
        "id": "D-mwAOMYH2pu",
        "outputId": "234d3426-7681-4800-baff-4bae7ca7e0ff"
      },
      "outputs": [
        {
          "output_type": "stream",
          "name": "stdout",
          "text": [
            "Looking in indexes: https://pypi.org/simple, https://us-python.pkg.dev/colab-wheels/public/simple/\n",
            "Collecting pyspark\n",
            "  Downloading pyspark-3.2.1.tar.gz (281.4 MB)\n",
            "\u001b[K     |████████████████████████████████| 281.4 MB 35 kB/s \n",
            "\u001b[?25hCollecting py4j==0.10.9.3\n",
            "  Downloading py4j-0.10.9.3-py2.py3-none-any.whl (198 kB)\n",
            "\u001b[K     |████████████████████████████████| 198 kB 45.2 MB/s \n",
            "\u001b[?25hBuilding wheels for collected packages: pyspark\n",
            "  Building wheel for pyspark (setup.py) ... \u001b[?25l\u001b[?25hdone\n",
            "  Created wheel for pyspark: filename=pyspark-3.2.1-py2.py3-none-any.whl size=281853642 sha256=c919f82a4aeaaba1515afbcb9d7164789f76e8675dde7fb5923ab3e91aa5a210\n",
            "  Stored in directory: /root/.cache/pip/wheels/9f/f5/07/7cd8017084dce4e93e84e92efd1e1d5334db05f2e83bcef74f\n",
            "Successfully built pyspark\n",
            "Installing collected packages: py4j, pyspark\n",
            "Successfully installed py4j-0.10.9.3 pyspark-3.2.1\n"
          ]
        }
      ],
      "source": [
        "!pip install pyspark"
      ]
    },
    {
      "cell_type": "code",
      "source": [
        "from pyspark import SparkConf,SparkContext\n",
        "#sparkconf is a object,conf is aa spark application,it is used to set various parameters as key-value pair\n",
        "#sparkcontext it is connection to spark cluster,used to create a RDD and broadcast in that cluster\n",
        "from pyspark.sql import SparkSession\n",
        "spark = SparkSession.builder.appName('flight').getOrCreate()#appName=applicationName\n",
        "from pyspark.sql import SQLContext\n",
        "#SQLContext is use of main entry point for DataFrame and SQL functionality\n",
        "SQLContext = SQLContext(spark)"
      ],
      "metadata": {
        "colab": {
          "base_uri": "https://localhost:8080/"
        },
        "id": "ziE-3IaUIOFV",
        "outputId": "679af315-ad1b-40f1-ddbc-4adb4fcfa36e"
      },
      "execution_count": null,
      "outputs": [
        {
          "output_type": "stream",
          "name": "stderr",
          "text": [
            "/usr/local/lib/python3.7/dist-packages/pyspark/sql/context.py:79: FutureWarning: Deprecated in 3.0.0. Use SparkSession.builder.getOrCreate() instead.\n",
            "  FutureWarning\n"
          ]
        }
      ]
    },
    {
      "cell_type": "code",
      "source": [
        "import pandas as pd\n",
        "import seaborn as sns"
      ],
      "metadata": {
        "id": "i1puf-qhI501"
      },
      "execution_count": null,
      "outputs": []
    },
    {
      "cell_type": "code",
      "source": [
        "df = pd.read_csv('/content/drive/MyDrive/feb-20-us-flight-delay.csv')"
      ],
      "metadata": {
        "id": "qgCv1CZBI-I2"
      },
      "execution_count": null,
      "outputs": []
    },
    {
      "cell_type": "code",
      "source": [
        "df"
      ],
      "metadata": {
        "colab": {
          "base_uri": "https://localhost:8080/",
          "height": 424
        },
        "id": "ZotCVy2jJGRM",
        "outputId": "0d07b6e2-f0e9-456d-e1b5-a3006ec0bf06"
      },
      "execution_count": null,
      "outputs": [
        {
          "output_type": "execute_result",
          "data": {
            "text/plain": [
              "        MONTH  DAY_OF_MONTH  DAY_OF_WEEK OP_UNIQUE_CARRIER ORIGIN DEST  \\\n",
              "0           2             1            6                MQ    CLT  LYH   \n",
              "1           2             8            6                MQ    CLT  LYH   \n",
              "2           2            13            4                MQ    DFW  SHV   \n",
              "3           2            14            5                MQ    DFW  SHV   \n",
              "4           2            15            6                MQ    DFW  SHV   \n",
              "...       ...           ...          ...               ...    ...  ...   \n",
              "574263      2            27            4                DL    ATL  SRQ   \n",
              "574264      2            27            4                DL    ATL  BWI   \n",
              "574265      2            27            4                DL    BWI  ATL   \n",
              "574266      2            27            4                DL    MSP  ATL   \n",
              "574267      2            27            4                DL    MSP  TUS   \n",
              "\n",
              "        DEP_TIME  DEP_DEL15  DISTANCE  \n",
              "0         1430.0        0.0       175  \n",
              "1         1442.0        0.0       175  \n",
              "2         2247.0        0.0       190  \n",
              "3         2230.0        0.0       190  \n",
              "4         2246.0        0.0       190  \n",
              "...          ...        ...       ...  \n",
              "574263    2226.0        0.0       444  \n",
              "574264     737.0        0.0       577  \n",
              "574265    1026.0        0.0       577  \n",
              "574266    1008.0        0.0       907  \n",
              "574267    1122.0        0.0      1298  \n",
              "\n",
              "[574268 rows x 9 columns]"
            ],
            "text/html": [
              "\n",
              "  <div id=\"df-e1b5bf01-be12-446d-9c55-c400b18041db\">\n",
              "    <div class=\"colab-df-container\">\n",
              "      <div>\n",
              "<style scoped>\n",
              "    .dataframe tbody tr th:only-of-type {\n",
              "        vertical-align: middle;\n",
              "    }\n",
              "\n",
              "    .dataframe tbody tr th {\n",
              "        vertical-align: top;\n",
              "    }\n",
              "\n",
              "    .dataframe thead th {\n",
              "        text-align: right;\n",
              "    }\n",
              "</style>\n",
              "<table border=\"1\" class=\"dataframe\">\n",
              "  <thead>\n",
              "    <tr style=\"text-align: right;\">\n",
              "      <th></th>\n",
              "      <th>MONTH</th>\n",
              "      <th>DAY_OF_MONTH</th>\n",
              "      <th>DAY_OF_WEEK</th>\n",
              "      <th>OP_UNIQUE_CARRIER</th>\n",
              "      <th>ORIGIN</th>\n",
              "      <th>DEST</th>\n",
              "      <th>DEP_TIME</th>\n",
              "      <th>DEP_DEL15</th>\n",
              "      <th>DISTANCE</th>\n",
              "    </tr>\n",
              "  </thead>\n",
              "  <tbody>\n",
              "    <tr>\n",
              "      <th>0</th>\n",
              "      <td>2</td>\n",
              "      <td>1</td>\n",
              "      <td>6</td>\n",
              "      <td>MQ</td>\n",
              "      <td>CLT</td>\n",
              "      <td>LYH</td>\n",
              "      <td>1430.0</td>\n",
              "      <td>0.0</td>\n",
              "      <td>175</td>\n",
              "    </tr>\n",
              "    <tr>\n",
              "      <th>1</th>\n",
              "      <td>2</td>\n",
              "      <td>8</td>\n",
              "      <td>6</td>\n",
              "      <td>MQ</td>\n",
              "      <td>CLT</td>\n",
              "      <td>LYH</td>\n",
              "      <td>1442.0</td>\n",
              "      <td>0.0</td>\n",
              "      <td>175</td>\n",
              "    </tr>\n",
              "    <tr>\n",
              "      <th>2</th>\n",
              "      <td>2</td>\n",
              "      <td>13</td>\n",
              "      <td>4</td>\n",
              "      <td>MQ</td>\n",
              "      <td>DFW</td>\n",
              "      <td>SHV</td>\n",
              "      <td>2247.0</td>\n",
              "      <td>0.0</td>\n",
              "      <td>190</td>\n",
              "    </tr>\n",
              "    <tr>\n",
              "      <th>3</th>\n",
              "      <td>2</td>\n",
              "      <td>14</td>\n",
              "      <td>5</td>\n",
              "      <td>MQ</td>\n",
              "      <td>DFW</td>\n",
              "      <td>SHV</td>\n",
              "      <td>2230.0</td>\n",
              "      <td>0.0</td>\n",
              "      <td>190</td>\n",
              "    </tr>\n",
              "    <tr>\n",
              "      <th>4</th>\n",
              "      <td>2</td>\n",
              "      <td>15</td>\n",
              "      <td>6</td>\n",
              "      <td>MQ</td>\n",
              "      <td>DFW</td>\n",
              "      <td>SHV</td>\n",
              "      <td>2246.0</td>\n",
              "      <td>0.0</td>\n",
              "      <td>190</td>\n",
              "    </tr>\n",
              "    <tr>\n",
              "      <th>...</th>\n",
              "      <td>...</td>\n",
              "      <td>...</td>\n",
              "      <td>...</td>\n",
              "      <td>...</td>\n",
              "      <td>...</td>\n",
              "      <td>...</td>\n",
              "      <td>...</td>\n",
              "      <td>...</td>\n",
              "      <td>...</td>\n",
              "    </tr>\n",
              "    <tr>\n",
              "      <th>574263</th>\n",
              "      <td>2</td>\n",
              "      <td>27</td>\n",
              "      <td>4</td>\n",
              "      <td>DL</td>\n",
              "      <td>ATL</td>\n",
              "      <td>SRQ</td>\n",
              "      <td>2226.0</td>\n",
              "      <td>0.0</td>\n",
              "      <td>444</td>\n",
              "    </tr>\n",
              "    <tr>\n",
              "      <th>574264</th>\n",
              "      <td>2</td>\n",
              "      <td>27</td>\n",
              "      <td>4</td>\n",
              "      <td>DL</td>\n",
              "      <td>ATL</td>\n",
              "      <td>BWI</td>\n",
              "      <td>737.0</td>\n",
              "      <td>0.0</td>\n",
              "      <td>577</td>\n",
              "    </tr>\n",
              "    <tr>\n",
              "      <th>574265</th>\n",
              "      <td>2</td>\n",
              "      <td>27</td>\n",
              "      <td>4</td>\n",
              "      <td>DL</td>\n",
              "      <td>BWI</td>\n",
              "      <td>ATL</td>\n",
              "      <td>1026.0</td>\n",
              "      <td>0.0</td>\n",
              "      <td>577</td>\n",
              "    </tr>\n",
              "    <tr>\n",
              "      <th>574266</th>\n",
              "      <td>2</td>\n",
              "      <td>27</td>\n",
              "      <td>4</td>\n",
              "      <td>DL</td>\n",
              "      <td>MSP</td>\n",
              "      <td>ATL</td>\n",
              "      <td>1008.0</td>\n",
              "      <td>0.0</td>\n",
              "      <td>907</td>\n",
              "    </tr>\n",
              "    <tr>\n",
              "      <th>574267</th>\n",
              "      <td>2</td>\n",
              "      <td>27</td>\n",
              "      <td>4</td>\n",
              "      <td>DL</td>\n",
              "      <td>MSP</td>\n",
              "      <td>TUS</td>\n",
              "      <td>1122.0</td>\n",
              "      <td>0.0</td>\n",
              "      <td>1298</td>\n",
              "    </tr>\n",
              "  </tbody>\n",
              "</table>\n",
              "<p>574268 rows × 9 columns</p>\n",
              "</div>\n",
              "      <button class=\"colab-df-convert\" onclick=\"convertToInteractive('df-e1b5bf01-be12-446d-9c55-c400b18041db')\"\n",
              "              title=\"Convert this dataframe to an interactive table.\"\n",
              "              style=\"display:none;\">\n",
              "        \n",
              "  <svg xmlns=\"http://www.w3.org/2000/svg\" height=\"24px\"viewBox=\"0 0 24 24\"\n",
              "       width=\"24px\">\n",
              "    <path d=\"M0 0h24v24H0V0z\" fill=\"none\"/>\n",
              "    <path d=\"M18.56 5.44l.94 2.06.94-2.06 2.06-.94-2.06-.94-.94-2.06-.94 2.06-2.06.94zm-11 1L8.5 8.5l.94-2.06 2.06-.94-2.06-.94L8.5 2.5l-.94 2.06-2.06.94zm10 10l.94 2.06.94-2.06 2.06-.94-2.06-.94-.94-2.06-.94 2.06-2.06.94z\"/><path d=\"M17.41 7.96l-1.37-1.37c-.4-.4-.92-.59-1.43-.59-.52 0-1.04.2-1.43.59L10.3 9.45l-7.72 7.72c-.78.78-.78 2.05 0 2.83L4 21.41c.39.39.9.59 1.41.59.51 0 1.02-.2 1.41-.59l7.78-7.78 2.81-2.81c.8-.78.8-2.07 0-2.86zM5.41 20L4 18.59l7.72-7.72 1.47 1.35L5.41 20z\"/>\n",
              "  </svg>\n",
              "      </button>\n",
              "      \n",
              "  <style>\n",
              "    .colab-df-container {\n",
              "      display:flex;\n",
              "      flex-wrap:wrap;\n",
              "      gap: 12px;\n",
              "    }\n",
              "\n",
              "    .colab-df-convert {\n",
              "      background-color: #E8F0FE;\n",
              "      border: none;\n",
              "      border-radius: 50%;\n",
              "      cursor: pointer;\n",
              "      display: none;\n",
              "      fill: #1967D2;\n",
              "      height: 32px;\n",
              "      padding: 0 0 0 0;\n",
              "      width: 32px;\n",
              "    }\n",
              "\n",
              "    .colab-df-convert:hover {\n",
              "      background-color: #E2EBFA;\n",
              "      box-shadow: 0px 1px 2px rgba(60, 64, 67, 0.3), 0px 1px 3px 1px rgba(60, 64, 67, 0.15);\n",
              "      fill: #174EA6;\n",
              "    }\n",
              "\n",
              "    [theme=dark] .colab-df-convert {\n",
              "      background-color: #3B4455;\n",
              "      fill: #D2E3FC;\n",
              "    }\n",
              "\n",
              "    [theme=dark] .colab-df-convert:hover {\n",
              "      background-color: #434B5C;\n",
              "      box-shadow: 0px 1px 3px 1px rgba(0, 0, 0, 0.15);\n",
              "      filter: drop-shadow(0px 1px 2px rgba(0, 0, 0, 0.3));\n",
              "      fill: #FFFFFF;\n",
              "    }\n",
              "  </style>\n",
              "\n",
              "      <script>\n",
              "        const buttonEl =\n",
              "          document.querySelector('#df-e1b5bf01-be12-446d-9c55-c400b18041db button.colab-df-convert');\n",
              "        buttonEl.style.display =\n",
              "          google.colab.kernel.accessAllowed ? 'block' : 'none';\n",
              "\n",
              "        async function convertToInteractive(key) {\n",
              "          const element = document.querySelector('#df-e1b5bf01-be12-446d-9c55-c400b18041db');\n",
              "          const dataTable =\n",
              "            await google.colab.kernel.invokeFunction('convertToInteractive',\n",
              "                                                     [key], {});\n",
              "          if (!dataTable) return;\n",
              "\n",
              "          const docLinkHtml = 'Like what you see? Visit the ' +\n",
              "            '<a target=\"_blank\" href=https://colab.research.google.com/notebooks/data_table.ipynb>data table notebook</a>'\n",
              "            + ' to learn more about interactive tables.';\n",
              "          element.innerHTML = '';\n",
              "          dataTable['output_type'] = 'display_data';\n",
              "          await google.colab.output.renderOutput(dataTable, element);\n",
              "          const docLink = document.createElement('div');\n",
              "          docLink.innerHTML = docLinkHtml;\n",
              "          element.appendChild(docLink);\n",
              "        }\n",
              "      </script>\n",
              "    </div>\n",
              "  </div>\n",
              "  "
            ]
          },
          "metadata": {},
          "execution_count": 5
        }
      ]
    },
    {
      "cell_type": "markdown",
      "source": [
        "\n",
        "\n",
        "1. MONTH - Month\n",
        "2. DAY_OF_MONTH - Day of Month\n",
        "3. DAY_OF_WEEK - Day of Week\n",
        "4. OP_UNIQUE_CARRIER - Unique Carrier Code\n",
        "5. ORIGIN - Origin airport location\n",
        "6. DEST - Destination airport location\n",
        "7. DEP_TIME - Actual Departure Time (local time: hhmm)\n",
        "8. DEP_DEL15 - Departure Delay Indicator, 15 Minutes or More (1=Yes, 0=No) [TARGET VARIABLE]\n",
        "9. DISTANCE - Distance between airports (miles)\n"
      ],
      "metadata": {
        "id": "ExaJeUjp8cXK"
      }
    },
    {
      "cell_type": "code",
      "source": [
        "df.isnull().sum()"
      ],
      "metadata": {
        "colab": {
          "base_uri": "https://localhost:8080/"
        },
        "id": "9A7v8-x2JfFg",
        "outputId": "2546b2fd-8959-439a-d3f9-9549b2bf8144"
      },
      "execution_count": null,
      "outputs": [
        {
          "output_type": "execute_result",
          "data": {
            "text/plain": [
              "MONTH                   0\n",
              "DAY_OF_MONTH            0\n",
              "DAY_OF_WEEK             0\n",
              "OP_UNIQUE_CARRIER       0\n",
              "ORIGIN                  0\n",
              "DEST                    0\n",
              "DEP_TIME             4938\n",
              "DEP_DEL15            4951\n",
              "DISTANCE                0\n",
              "dtype: int64"
            ]
          },
          "metadata": {},
          "execution_count": 6
        }
      ]
    },
    {
      "cell_type": "code",
      "source": [
        "df.dropna()"
      ],
      "metadata": {
        "colab": {
          "base_uri": "https://localhost:8080/",
          "height": 424
        },
        "id": "5sj0GvcOgpIr",
        "outputId": "e4a24d98-7609-4e46-dead-9622bacc283e"
      },
      "execution_count": null,
      "outputs": [
        {
          "output_type": "execute_result",
          "data": {
            "text/plain": [
              "        MONTH  DAY_OF_MONTH  DAY_OF_WEEK OP_UNIQUE_CARRIER ORIGIN DEST  \\\n",
              "0           2             1            6                MQ    CLT  LYH   \n",
              "1           2             8            6                MQ    CLT  LYH   \n",
              "2           2            13            4                MQ    DFW  SHV   \n",
              "3           2            14            5                MQ    DFW  SHV   \n",
              "4           2            15            6                MQ    DFW  SHV   \n",
              "...       ...           ...          ...               ...    ...  ...   \n",
              "574263      2            27            4                DL    ATL  SRQ   \n",
              "574264      2            27            4                DL    ATL  BWI   \n",
              "574265      2            27            4                DL    BWI  ATL   \n",
              "574266      2            27            4                DL    MSP  ATL   \n",
              "574267      2            27            4                DL    MSP  TUS   \n",
              "\n",
              "        DEP_TIME  DEP_DEL15  DISTANCE  \n",
              "0         1430.0        0.0       175  \n",
              "1         1442.0        0.0       175  \n",
              "2         2247.0        0.0       190  \n",
              "3         2230.0        0.0       190  \n",
              "4         2246.0        0.0       190  \n",
              "...          ...        ...       ...  \n",
              "574263    2226.0        0.0       444  \n",
              "574264     737.0        0.0       577  \n",
              "574265    1026.0        0.0       577  \n",
              "574266    1008.0        0.0       907  \n",
              "574267    1122.0        0.0      1298  \n",
              "\n",
              "[569317 rows x 9 columns]"
            ],
            "text/html": [
              "\n",
              "  <div id=\"df-3066d2b6-9b53-4986-a4ac-cc5db3c30cdd\">\n",
              "    <div class=\"colab-df-container\">\n",
              "      <div>\n",
              "<style scoped>\n",
              "    .dataframe tbody tr th:only-of-type {\n",
              "        vertical-align: middle;\n",
              "    }\n",
              "\n",
              "    .dataframe tbody tr th {\n",
              "        vertical-align: top;\n",
              "    }\n",
              "\n",
              "    .dataframe thead th {\n",
              "        text-align: right;\n",
              "    }\n",
              "</style>\n",
              "<table border=\"1\" class=\"dataframe\">\n",
              "  <thead>\n",
              "    <tr style=\"text-align: right;\">\n",
              "      <th></th>\n",
              "      <th>MONTH</th>\n",
              "      <th>DAY_OF_MONTH</th>\n",
              "      <th>DAY_OF_WEEK</th>\n",
              "      <th>OP_UNIQUE_CARRIER</th>\n",
              "      <th>ORIGIN</th>\n",
              "      <th>DEST</th>\n",
              "      <th>DEP_TIME</th>\n",
              "      <th>DEP_DEL15</th>\n",
              "      <th>DISTANCE</th>\n",
              "    </tr>\n",
              "  </thead>\n",
              "  <tbody>\n",
              "    <tr>\n",
              "      <th>0</th>\n",
              "      <td>2</td>\n",
              "      <td>1</td>\n",
              "      <td>6</td>\n",
              "      <td>MQ</td>\n",
              "      <td>CLT</td>\n",
              "      <td>LYH</td>\n",
              "      <td>1430.0</td>\n",
              "      <td>0.0</td>\n",
              "      <td>175</td>\n",
              "    </tr>\n",
              "    <tr>\n",
              "      <th>1</th>\n",
              "      <td>2</td>\n",
              "      <td>8</td>\n",
              "      <td>6</td>\n",
              "      <td>MQ</td>\n",
              "      <td>CLT</td>\n",
              "      <td>LYH</td>\n",
              "      <td>1442.0</td>\n",
              "      <td>0.0</td>\n",
              "      <td>175</td>\n",
              "    </tr>\n",
              "    <tr>\n",
              "      <th>2</th>\n",
              "      <td>2</td>\n",
              "      <td>13</td>\n",
              "      <td>4</td>\n",
              "      <td>MQ</td>\n",
              "      <td>DFW</td>\n",
              "      <td>SHV</td>\n",
              "      <td>2247.0</td>\n",
              "      <td>0.0</td>\n",
              "      <td>190</td>\n",
              "    </tr>\n",
              "    <tr>\n",
              "      <th>3</th>\n",
              "      <td>2</td>\n",
              "      <td>14</td>\n",
              "      <td>5</td>\n",
              "      <td>MQ</td>\n",
              "      <td>DFW</td>\n",
              "      <td>SHV</td>\n",
              "      <td>2230.0</td>\n",
              "      <td>0.0</td>\n",
              "      <td>190</td>\n",
              "    </tr>\n",
              "    <tr>\n",
              "      <th>4</th>\n",
              "      <td>2</td>\n",
              "      <td>15</td>\n",
              "      <td>6</td>\n",
              "      <td>MQ</td>\n",
              "      <td>DFW</td>\n",
              "      <td>SHV</td>\n",
              "      <td>2246.0</td>\n",
              "      <td>0.0</td>\n",
              "      <td>190</td>\n",
              "    </tr>\n",
              "    <tr>\n",
              "      <th>...</th>\n",
              "      <td>...</td>\n",
              "      <td>...</td>\n",
              "      <td>...</td>\n",
              "      <td>...</td>\n",
              "      <td>...</td>\n",
              "      <td>...</td>\n",
              "      <td>...</td>\n",
              "      <td>...</td>\n",
              "      <td>...</td>\n",
              "    </tr>\n",
              "    <tr>\n",
              "      <th>574263</th>\n",
              "      <td>2</td>\n",
              "      <td>27</td>\n",
              "      <td>4</td>\n",
              "      <td>DL</td>\n",
              "      <td>ATL</td>\n",
              "      <td>SRQ</td>\n",
              "      <td>2226.0</td>\n",
              "      <td>0.0</td>\n",
              "      <td>444</td>\n",
              "    </tr>\n",
              "    <tr>\n",
              "      <th>574264</th>\n",
              "      <td>2</td>\n",
              "      <td>27</td>\n",
              "      <td>4</td>\n",
              "      <td>DL</td>\n",
              "      <td>ATL</td>\n",
              "      <td>BWI</td>\n",
              "      <td>737.0</td>\n",
              "      <td>0.0</td>\n",
              "      <td>577</td>\n",
              "    </tr>\n",
              "    <tr>\n",
              "      <th>574265</th>\n",
              "      <td>2</td>\n",
              "      <td>27</td>\n",
              "      <td>4</td>\n",
              "      <td>DL</td>\n",
              "      <td>BWI</td>\n",
              "      <td>ATL</td>\n",
              "      <td>1026.0</td>\n",
              "      <td>0.0</td>\n",
              "      <td>577</td>\n",
              "    </tr>\n",
              "    <tr>\n",
              "      <th>574266</th>\n",
              "      <td>2</td>\n",
              "      <td>27</td>\n",
              "      <td>4</td>\n",
              "      <td>DL</td>\n",
              "      <td>MSP</td>\n",
              "      <td>ATL</td>\n",
              "      <td>1008.0</td>\n",
              "      <td>0.0</td>\n",
              "      <td>907</td>\n",
              "    </tr>\n",
              "    <tr>\n",
              "      <th>574267</th>\n",
              "      <td>2</td>\n",
              "      <td>27</td>\n",
              "      <td>4</td>\n",
              "      <td>DL</td>\n",
              "      <td>MSP</td>\n",
              "      <td>TUS</td>\n",
              "      <td>1122.0</td>\n",
              "      <td>0.0</td>\n",
              "      <td>1298</td>\n",
              "    </tr>\n",
              "  </tbody>\n",
              "</table>\n",
              "<p>569317 rows × 9 columns</p>\n",
              "</div>\n",
              "      <button class=\"colab-df-convert\" onclick=\"convertToInteractive('df-3066d2b6-9b53-4986-a4ac-cc5db3c30cdd')\"\n",
              "              title=\"Convert this dataframe to an interactive table.\"\n",
              "              style=\"display:none;\">\n",
              "        \n",
              "  <svg xmlns=\"http://www.w3.org/2000/svg\" height=\"24px\"viewBox=\"0 0 24 24\"\n",
              "       width=\"24px\">\n",
              "    <path d=\"M0 0h24v24H0V0z\" fill=\"none\"/>\n",
              "    <path d=\"M18.56 5.44l.94 2.06.94-2.06 2.06-.94-2.06-.94-.94-2.06-.94 2.06-2.06.94zm-11 1L8.5 8.5l.94-2.06 2.06-.94-2.06-.94L8.5 2.5l-.94 2.06-2.06.94zm10 10l.94 2.06.94-2.06 2.06-.94-2.06-.94-.94-2.06-.94 2.06-2.06.94z\"/><path d=\"M17.41 7.96l-1.37-1.37c-.4-.4-.92-.59-1.43-.59-.52 0-1.04.2-1.43.59L10.3 9.45l-7.72 7.72c-.78.78-.78 2.05 0 2.83L4 21.41c.39.39.9.59 1.41.59.51 0 1.02-.2 1.41-.59l7.78-7.78 2.81-2.81c.8-.78.8-2.07 0-2.86zM5.41 20L4 18.59l7.72-7.72 1.47 1.35L5.41 20z\"/>\n",
              "  </svg>\n",
              "      </button>\n",
              "      \n",
              "  <style>\n",
              "    .colab-df-container {\n",
              "      display:flex;\n",
              "      flex-wrap:wrap;\n",
              "      gap: 12px;\n",
              "    }\n",
              "\n",
              "    .colab-df-convert {\n",
              "      background-color: #E8F0FE;\n",
              "      border: none;\n",
              "      border-radius: 50%;\n",
              "      cursor: pointer;\n",
              "      display: none;\n",
              "      fill: #1967D2;\n",
              "      height: 32px;\n",
              "      padding: 0 0 0 0;\n",
              "      width: 32px;\n",
              "    }\n",
              "\n",
              "    .colab-df-convert:hover {\n",
              "      background-color: #E2EBFA;\n",
              "      box-shadow: 0px 1px 2px rgba(60, 64, 67, 0.3), 0px 1px 3px 1px rgba(60, 64, 67, 0.15);\n",
              "      fill: #174EA6;\n",
              "    }\n",
              "\n",
              "    [theme=dark] .colab-df-convert {\n",
              "      background-color: #3B4455;\n",
              "      fill: #D2E3FC;\n",
              "    }\n",
              "\n",
              "    [theme=dark] .colab-df-convert:hover {\n",
              "      background-color: #434B5C;\n",
              "      box-shadow: 0px 1px 3px 1px rgba(0, 0, 0, 0.15);\n",
              "      filter: drop-shadow(0px 1px 2px rgba(0, 0, 0, 0.3));\n",
              "      fill: #FFFFFF;\n",
              "    }\n",
              "  </style>\n",
              "\n",
              "      <script>\n",
              "        const buttonEl =\n",
              "          document.querySelector('#df-3066d2b6-9b53-4986-a4ac-cc5db3c30cdd button.colab-df-convert');\n",
              "        buttonEl.style.display =\n",
              "          google.colab.kernel.accessAllowed ? 'block' : 'none';\n",
              "\n",
              "        async function convertToInteractive(key) {\n",
              "          const element = document.querySelector('#df-3066d2b6-9b53-4986-a4ac-cc5db3c30cdd');\n",
              "          const dataTable =\n",
              "            await google.colab.kernel.invokeFunction('convertToInteractive',\n",
              "                                                     [key], {});\n",
              "          if (!dataTable) return;\n",
              "\n",
              "          const docLinkHtml = 'Like what you see? Visit the ' +\n",
              "            '<a target=\"_blank\" href=https://colab.research.google.com/notebooks/data_table.ipynb>data table notebook</a>'\n",
              "            + ' to learn more about interactive tables.';\n",
              "          element.innerHTML = '';\n",
              "          dataTable['output_type'] = 'display_data';\n",
              "          await google.colab.output.renderOutput(dataTable, element);\n",
              "          const docLink = document.createElement('div');\n",
              "          docLink.innerHTML = docLinkHtml;\n",
              "          element.appendChild(docLink);\n",
              "        }\n",
              "      </script>\n",
              "    </div>\n",
              "  </div>\n",
              "  "
            ]
          },
          "metadata": {},
          "execution_count": 7
        }
      ]
    },
    {
      "cell_type": "code",
      "source": [
        "flight=spark.read.csv('/content/drive/MyDrive/feb-20-us-flight-delay.csv',inferSchema=True,header=True)"
      ],
      "metadata": {
        "id": "PaQncSG5JjYk"
      },
      "execution_count": null,
      "outputs": []
    },
    {
      "cell_type": "code",
      "source": [
        "flight.count()"
      ],
      "metadata": {
        "colab": {
          "base_uri": "https://localhost:8080/"
        },
        "id": "Qq619NnHJzHm",
        "outputId": "99d28a14-f0f2-4dbe-ee13-ab30c84c88a0"
      },
      "execution_count": null,
      "outputs": [
        {
          "output_type": "execute_result",
          "data": {
            "text/plain": [
              "574268"
            ]
          },
          "metadata": {},
          "execution_count": 9
        }
      ]
    },
    {
      "cell_type": "code",
      "source": [
        "flight.describe().show()"
      ],
      "metadata": {
        "colab": {
          "base_uri": "https://localhost:8080/"
        },
        "id": "RMCW5l5NCGWX",
        "outputId": "dc11ffa2-0d91-4ca9-8b5e-1a5369a2cc64"
      },
      "execution_count": null,
      "outputs": [
        {
          "output_type": "stream",
          "name": "stdout",
          "text": [
            "+-------+------+-----------------+------------------+-----------------+------+------+------------------+-------------------+-----------------+\n",
            "|summary| MONTH|     DAY_OF_MONTH|       DAY_OF_WEEK|OP_UNIQUE_CARRIER|ORIGIN|  DEST|          DEP_TIME|          DEP_DEL15|         DISTANCE|\n",
            "+-------+------+-----------------+------------------+-----------------+------+------+------------------+-------------------+-----------------+\n",
            "|  count|574268|           574268|            574268|           574268|574268|574268|            569330|             569317|           574268|\n",
            "|   mean|   2.0|  15.179477177903|3.9892802663564746|             null|  null|  null|1332.6079057839918|0.14435191641914785|795.7355224390006|\n",
            "| stddev|   0.0|8.295999386744485|1.9883451440613822|             null|  null|  null| 498.6673040551802|0.35144652167522156|582.9608167381957|\n",
            "|    min|     2|                1|                 1|               9E|   ABE|   ABE|                 1|                  0|               31|\n",
            "|    max|     2|               29|                 7|               YX|   YUM|   YUM|              2400|                  1|             5095|\n",
            "+-------+------+-----------------+------------------+-----------------+------+------+------------------+-------------------+-----------------+\n",
            "\n"
          ]
        }
      ]
    },
    {
      "cell_type": "code",
      "source": [
        "flight.groupBy('DISTANCE').count().show()"
      ],
      "metadata": {
        "colab": {
          "base_uri": "https://localhost:8080/"
        },
        "id": "10JrRvJxbzR4",
        "outputId": "37446c3d-298c-4bff-938d-317072fce1ca"
      },
      "execution_count": null,
      "outputs": [
        {
          "output_type": "stream",
          "name": "stdout",
          "text": [
            "+--------+-----+\n",
            "|DISTANCE|count|\n",
            "+--------+-----+\n",
            "|     463|  485|\n",
            "|     833|  508|\n",
            "|    1829|  116|\n",
            "|    1342|  202|\n",
            "|     148|  250|\n",
            "|     471|  274|\n",
            "|    1959|   58|\n",
            "|     496|  592|\n",
            "|    1088|   58|\n",
            "|    1507|   54|\n",
            "|     737|  729|\n",
            "|    1721|  658|\n",
            "|     623|  442|\n",
            "|     392|  150|\n",
            "|    1460|  317|\n",
            "|    1025|  260|\n",
            "|    1127|  538|\n",
            "|    1084|  501|\n",
            "|     243|   98|\n",
            "|    1522|  143|\n",
            "+--------+-----+\n",
            "only showing top 20 rows\n",
            "\n"
          ]
        }
      ]
    },
    {
      "cell_type": "code",
      "source": [
        "# create DataFrame as a temporary view\n",
        "tempview = flight.createOrReplaceTempView('table')\n",
        "tempview"
      ],
      "metadata": {
        "id": "ErW0cC5fDd8R"
      },
      "execution_count": null,
      "outputs": []
    },
    {
      "cell_type": "code",
      "source": [
        "spark.sql(\"SELECT DAY_OF_MONTH, count(DAY_OF_MONTH) as count_DAY_OF_MONTH, count(DAY_OF_MONTH)*100/sum(count(DAY_OF_MONTH)) over() as percent FROM table GROUP BY DAY_OF_MONTH\").show()"
      ],
      "metadata": {
        "colab": {
          "base_uri": "https://localhost:8080/"
        },
        "id": "6ioRmXdoDiwc",
        "outputId": "898ae44d-d4e9-4e7b-a159-a61b2db13e89"
      },
      "execution_count": null,
      "outputs": [
        {
          "output_type": "stream",
          "name": "stdout",
          "text": [
            "+------------+------------------+------------------+\n",
            "|DAY_OF_MONTH|count_DAY_OF_MONTH|           percent|\n",
            "+------------+------------------+------------------+\n",
            "|          28|             21309| 3.710636845514638|\n",
            "|          26|             20668| 3.599016487075721|\n",
            "|          27|             21286| 3.706631746849903|\n",
            "|          12|             19951| 3.474161889570723|\n",
            "|          22|             17111| 2.979619271838236|\n",
            "|           1|             15780| 2.747845953457271|\n",
            "|          13|             21185|  3.68904413966998|\n",
            "|          16|             18902|3.2914945635138992|\n",
            "|           6|             20826| 3.626529773555204|\n",
            "|           3|             20708|3.6059818760578684|\n",
            "|          20|             21270|3.7038455912570436|\n",
            "|           5|             19775| 3.443514178049273|\n",
            "|          19|             20661| 3.597797544003845|\n",
            "|          15|             16678|2.9042189361064867|\n",
            "|          17|             20989| 3.654913733657456|\n",
            "|           9|             20007|  3.48391343414573|\n",
            "|           4|             19225|3.3477400795447423|\n",
            "|           8|             16048|2.7945140596376605|\n",
            "|          23|             20436| 3.558617230979264|\n",
            "|           7|             20866| 3.633495162537352|\n",
            "+------------+------------------+------------------+\n",
            "only showing top 20 rows\n",
            "\n"
          ]
        }
      ]
    },
    {
      "cell_type": "code",
      "source": [
        "spark.sql(\"SELECT DAY_OF_WEEK, count(DAY_OF_WEEK) as DAY_OF_WEEK FROM table WHERE DAY_OF_WEEK <= 50 GROUP BY DAY_OF_WEEK ORDER BY DAY_OF_WEEK DESC\").show()"
      ],
      "metadata": {
        "colab": {
          "base_uri": "https://localhost:8080/"
        },
        "id": "FF-UZVecDsAh",
        "outputId": "c6ca39bc-9166-4162-ad59-b9fc19e002ed"
      },
      "execution_count": null,
      "outputs": [
        {
          "output_type": "stream",
          "name": "stdout",
          "text": [
            "+-----------+-----------+\n",
            "|DAY_OF_WEEK|DAY_OF_WEEK|\n",
            "+-----------+-----------+\n",
            "|          7|      78150|\n",
            "|          6|      82720|\n",
            "|          5|      84738|\n",
            "|          4|      84567|\n",
            "|          3|      81055|\n",
            "|          2|      79385|\n",
            "|          1|      83653|\n",
            "+-----------+-----------+\n",
            "\n"
          ]
        }
      ]
    },
    {
      "cell_type": "code",
      "source": [
        "flight.show()"
      ],
      "metadata": {
        "colab": {
          "base_uri": "https://localhost:8080/"
        },
        "id": "So0Sb_N0J4JF",
        "outputId": "f5e1fa47-a398-47ca-e430-f4182380b00f"
      },
      "execution_count": null,
      "outputs": [
        {
          "output_type": "stream",
          "name": "stdout",
          "text": [
            "+-----+------------+-----------+-----------------+------+----+--------+---------+--------+\n",
            "|MONTH|DAY_OF_MONTH|DAY_OF_WEEK|OP_UNIQUE_CARRIER|ORIGIN|DEST|DEP_TIME|DEP_DEL15|DISTANCE|\n",
            "+-----+------------+-----------+-----------------+------+----+--------+---------+--------+\n",
            "|    2|           1|          6|               MQ|   CLT| LYH|    1430|        0|     175|\n",
            "|    2|           8|          6|               MQ|   CLT| LYH|    1442|        0|     175|\n",
            "|    2|          13|          4|               MQ|   DFW| SHV|    2247|        0|     190|\n",
            "|    2|          14|          5|               MQ|   DFW| SHV|    2230|        0|     190|\n",
            "|    2|          15|          6|               MQ|   DFW| SHV|    2246|        0|     190|\n",
            "|    2|          16|          7|               MQ|   DFW| SHV|    2230|        0|     190|\n",
            "|    2|          17|          1|               MQ|   DFW| SHV|    2237|        0|     190|\n",
            "|    2|          18|          2|               MQ|   DFW| SHV|    2230|        0|     190|\n",
            "|    2|          19|          3|               MQ|   DFW| SHV|    2240|        0|     190|\n",
            "|    2|          20|          4|               MQ|   DFW| SHV|    2226|        0|     190|\n",
            "|    2|          21|          5|               MQ|   DFW| SHV|    2230|        0|     190|\n",
            "|    2|          22|          6|               MQ|   DFW| SHV|    2231|        0|     190|\n",
            "|    2|          23|          7|               MQ|   DFW| SHV|    2231|        0|     190|\n",
            "|    2|          24|          1|               MQ|   DFW| SHV|    2231|        0|     190|\n",
            "|    2|          25|          2|               MQ|   DFW| SHV|    2232|        0|     190|\n",
            "|    2|          26|          3|               MQ|   DFW| SHV|    2228|        0|     190|\n",
            "|    2|          27|          4|               MQ|   DFW| SHV|    2225|        0|     190|\n",
            "|    2|          28|          5|               MQ|   DFW| SHV|    2223|        0|     190|\n",
            "|    2|          29|          6|               MQ|   DFW| SHV|    2232|        0|     190|\n",
            "|    2|           1|          6|               MQ|   LYH| CLT|    1557|        0|     175|\n",
            "+-----+------------+-----------+-----------------+------+----+--------+---------+--------+\n",
            "only showing top 20 rows\n",
            "\n"
          ]
        }
      ]
    },
    {
      "cell_type": "code",
      "source": [
        "#categorical features convert into numeric values \n",
        "#so used stringindexer\n",
        "from pyspark.ml.feature import StringIndexer\n",
        "indexer = StringIndexer(inputCols=[\"OP_UNIQUE_CARRIER\",\"ORIGIN\",\"DEST\"], outputCols=[\"OP_UNIQUE_CARRIER_Encode\",\"ORIGIN_Encode\",\"DEST_Encode\"])\n",
        "indexed = indexer.fit(flight).transform(flight)#fit a model with input dataset with optinal parameter\n",
        "indexed.show() "
      ],
      "metadata": {
        "colab": {
          "base_uri": "https://localhost:8080/"
        },
        "id": "m1QRorNPJ7dk",
        "outputId": "67626e04-ff80-490c-8f91-6d89caee2d3a"
      },
      "execution_count": null,
      "outputs": [
        {
          "output_type": "stream",
          "name": "stdout",
          "text": [
            "+-----+------------+-----------+-----------------+------+----+--------+---------+--------+------------------------+-------------+-----------+\n",
            "|MONTH|DAY_OF_MONTH|DAY_OF_WEEK|OP_UNIQUE_CARRIER|ORIGIN|DEST|DEP_TIME|DEP_DEL15|DISTANCE|OP_UNIQUE_CARRIER_Encode|ORIGIN_Encode|DEST_Encode|\n",
            "+-----+------------+-----------+-----------------+------+----+--------+---------+--------+------------------------+-------------+-----------+\n",
            "|    2|           1|          6|               MQ|   CLT| LYH|    1430|        0|     175|                     6.0|          4.0|      246.0|\n",
            "|    2|           8|          6|               MQ|   CLT| LYH|    1442|        0|     175|                     6.0|          4.0|      246.0|\n",
            "|    2|          13|          4|               MQ|   DFW| SHV|    2247|        0|     190|                     6.0|          2.0|      130.0|\n",
            "|    2|          14|          5|               MQ|   DFW| SHV|    2230|        0|     190|                     6.0|          2.0|      130.0|\n",
            "|    2|          15|          6|               MQ|   DFW| SHV|    2246|        0|     190|                     6.0|          2.0|      130.0|\n",
            "|    2|          16|          7|               MQ|   DFW| SHV|    2230|        0|     190|                     6.0|          2.0|      130.0|\n",
            "|    2|          17|          1|               MQ|   DFW| SHV|    2237|        0|     190|                     6.0|          2.0|      130.0|\n",
            "|    2|          18|          2|               MQ|   DFW| SHV|    2230|        0|     190|                     6.0|          2.0|      130.0|\n",
            "|    2|          19|          3|               MQ|   DFW| SHV|    2240|        0|     190|                     6.0|          2.0|      130.0|\n",
            "|    2|          20|          4|               MQ|   DFW| SHV|    2226|        0|     190|                     6.0|          2.0|      130.0|\n",
            "|    2|          21|          5|               MQ|   DFW| SHV|    2230|        0|     190|                     6.0|          2.0|      130.0|\n",
            "|    2|          22|          6|               MQ|   DFW| SHV|    2231|        0|     190|                     6.0|          2.0|      130.0|\n",
            "|    2|          23|          7|               MQ|   DFW| SHV|    2231|        0|     190|                     6.0|          2.0|      130.0|\n",
            "|    2|          24|          1|               MQ|   DFW| SHV|    2231|        0|     190|                     6.0|          2.0|      130.0|\n",
            "|    2|          25|          2|               MQ|   DFW| SHV|    2232|        0|     190|                     6.0|          2.0|      130.0|\n",
            "|    2|          26|          3|               MQ|   DFW| SHV|    2228|        0|     190|                     6.0|          2.0|      130.0|\n",
            "|    2|          27|          4|               MQ|   DFW| SHV|    2225|        0|     190|                     6.0|          2.0|      130.0|\n",
            "|    2|          28|          5|               MQ|   DFW| SHV|    2223|        0|     190|                     6.0|          2.0|      130.0|\n",
            "|    2|          29|          6|               MQ|   DFW| SHV|    2232|        0|     190|                     6.0|          2.0|      130.0|\n",
            "|    2|           1|          6|               MQ|   LYH| CLT|    1557|        0|     175|                     6.0|        247.0|        4.0|\n",
            "+-----+------------+-----------+-----------------+------+----+--------+---------+--------+------------------------+-------------+-----------+\n",
            "only showing top 20 rows\n",
            "\n"
          ]
        }
      ]
    },
    {
      "cell_type": "code",
      "source": [
        "indexed=indexed.drop(\"OP_UNIQUE_CARRIER\",\"ORIGIN\",\"DEST\")"
      ],
      "metadata": {
        "id": "sKJxAj95KI7U"
      },
      "execution_count": null,
      "outputs": []
    },
    {
      "cell_type": "code",
      "source": [
        "indexed.show()"
      ],
      "metadata": {
        "colab": {
          "base_uri": "https://localhost:8080/"
        },
        "id": "OezZ-SbgKNCk",
        "outputId": "fbb71adf-8eb1-4716-928f-b5191e413a85"
      },
      "execution_count": null,
      "outputs": [
        {
          "output_type": "stream",
          "name": "stdout",
          "text": [
            "+-----+------------+-----------+--------+---------+--------+------------------------+-------------+-----------+\n",
            "|MONTH|DAY_OF_MONTH|DAY_OF_WEEK|DEP_TIME|DEP_DEL15|DISTANCE|OP_UNIQUE_CARRIER_Encode|ORIGIN_Encode|DEST_Encode|\n",
            "+-----+------------+-----------+--------+---------+--------+------------------------+-------------+-----------+\n",
            "|    2|           1|          6|    1430|        0|     175|                     6.0|          4.0|      246.0|\n",
            "|    2|           8|          6|    1442|        0|     175|                     6.0|          4.0|      246.0|\n",
            "|    2|          13|          4|    2247|        0|     190|                     6.0|          2.0|      130.0|\n",
            "|    2|          14|          5|    2230|        0|     190|                     6.0|          2.0|      130.0|\n",
            "|    2|          15|          6|    2246|        0|     190|                     6.0|          2.0|      130.0|\n",
            "|    2|          16|          7|    2230|        0|     190|                     6.0|          2.0|      130.0|\n",
            "|    2|          17|          1|    2237|        0|     190|                     6.0|          2.0|      130.0|\n",
            "|    2|          18|          2|    2230|        0|     190|                     6.0|          2.0|      130.0|\n",
            "|    2|          19|          3|    2240|        0|     190|                     6.0|          2.0|      130.0|\n",
            "|    2|          20|          4|    2226|        0|     190|                     6.0|          2.0|      130.0|\n",
            "|    2|          21|          5|    2230|        0|     190|                     6.0|          2.0|      130.0|\n",
            "|    2|          22|          6|    2231|        0|     190|                     6.0|          2.0|      130.0|\n",
            "|    2|          23|          7|    2231|        0|     190|                     6.0|          2.0|      130.0|\n",
            "|    2|          24|          1|    2231|        0|     190|                     6.0|          2.0|      130.0|\n",
            "|    2|          25|          2|    2232|        0|     190|                     6.0|          2.0|      130.0|\n",
            "|    2|          26|          3|    2228|        0|     190|                     6.0|          2.0|      130.0|\n",
            "|    2|          27|          4|    2225|        0|     190|                     6.0|          2.0|      130.0|\n",
            "|    2|          28|          5|    2223|        0|     190|                     6.0|          2.0|      130.0|\n",
            "|    2|          29|          6|    2232|        0|     190|                     6.0|          2.0|      130.0|\n",
            "|    2|           1|          6|    1557|        0|     175|                     6.0|        247.0|        4.0|\n",
            "+-----+------------+-----------+--------+---------+--------+------------------------+-------------+-----------+\n",
            "only showing top 20 rows\n",
            "\n"
          ]
        }
      ]
    },
    {
      "cell_type": "code",
      "source": [
        "indexed.na.drop(how='any').show()"
      ],
      "metadata": {
        "colab": {
          "base_uri": "https://localhost:8080/"
        },
        "id": "uAsvrXKcLuKJ",
        "outputId": "4a99b058-78e7-47eb-a8dc-7a8d5ad59d75"
      },
      "execution_count": null,
      "outputs": [
        {
          "output_type": "stream",
          "name": "stdout",
          "text": [
            "+-----+------------+-----------+--------+---------+--------+------------------------+-------------+-----------+\n",
            "|MONTH|DAY_OF_MONTH|DAY_OF_WEEK|DEP_TIME|DEP_DEL15|DISTANCE|OP_UNIQUE_CARRIER_Encode|ORIGIN_Encode|DEST_Encode|\n",
            "+-----+------------+-----------+--------+---------+--------+------------------------+-------------+-----------+\n",
            "|    2|           1|          6|    1430|        0|     175|                     6.0|          4.0|      246.0|\n",
            "|    2|           8|          6|    1442|        0|     175|                     6.0|          4.0|      246.0|\n",
            "|    2|          13|          4|    2247|        0|     190|                     6.0|          2.0|      130.0|\n",
            "|    2|          14|          5|    2230|        0|     190|                     6.0|          2.0|      130.0|\n",
            "|    2|          15|          6|    2246|        0|     190|                     6.0|          2.0|      130.0|\n",
            "|    2|          16|          7|    2230|        0|     190|                     6.0|          2.0|      130.0|\n",
            "|    2|          17|          1|    2237|        0|     190|                     6.0|          2.0|      130.0|\n",
            "|    2|          18|          2|    2230|        0|     190|                     6.0|          2.0|      130.0|\n",
            "|    2|          19|          3|    2240|        0|     190|                     6.0|          2.0|      130.0|\n",
            "|    2|          20|          4|    2226|        0|     190|                     6.0|          2.0|      130.0|\n",
            "|    2|          21|          5|    2230|        0|     190|                     6.0|          2.0|      130.0|\n",
            "|    2|          22|          6|    2231|        0|     190|                     6.0|          2.0|      130.0|\n",
            "|    2|          23|          7|    2231|        0|     190|                     6.0|          2.0|      130.0|\n",
            "|    2|          24|          1|    2231|        0|     190|                     6.0|          2.0|      130.0|\n",
            "|    2|          25|          2|    2232|        0|     190|                     6.0|          2.0|      130.0|\n",
            "|    2|          26|          3|    2228|        0|     190|                     6.0|          2.0|      130.0|\n",
            "|    2|          27|          4|    2225|        0|     190|                     6.0|          2.0|      130.0|\n",
            "|    2|          28|          5|    2223|        0|     190|                     6.0|          2.0|      130.0|\n",
            "|    2|          29|          6|    2232|        0|     190|                     6.0|          2.0|      130.0|\n",
            "|    2|           1|          6|    1557|        0|     175|                     6.0|        247.0|        4.0|\n",
            "+-----+------------+-----------+--------+---------+--------+------------------------+-------------+-----------+\n",
            "only showing top 20 rows\n",
            "\n"
          ]
        }
      ]
    },
    {
      "cell_type": "code",
      "source": [
        "indexed.show()"
      ],
      "metadata": {
        "colab": {
          "base_uri": "https://localhost:8080/"
        },
        "id": "QMxtuU0KMCHU",
        "outputId": "c6121746-b8fb-4671-e4ab-7d378301226d"
      },
      "execution_count": null,
      "outputs": [
        {
          "output_type": "stream",
          "name": "stdout",
          "text": [
            "+-----+------------+-----------+--------+---------+--------+------------------------+-------------+-----------+\n",
            "|MONTH|DAY_OF_MONTH|DAY_OF_WEEK|DEP_TIME|DEP_DEL15|DISTANCE|OP_UNIQUE_CARRIER_Encode|ORIGIN_Encode|DEST_Encode|\n",
            "+-----+------------+-----------+--------+---------+--------+------------------------+-------------+-----------+\n",
            "|    2|           1|          6|    1430|        0|     175|                     6.0|          4.0|      246.0|\n",
            "|    2|           8|          6|    1442|        0|     175|                     6.0|          4.0|      246.0|\n",
            "|    2|          13|          4|    2247|        0|     190|                     6.0|          2.0|      130.0|\n",
            "|    2|          14|          5|    2230|        0|     190|                     6.0|          2.0|      130.0|\n",
            "|    2|          15|          6|    2246|        0|     190|                     6.0|          2.0|      130.0|\n",
            "|    2|          16|          7|    2230|        0|     190|                     6.0|          2.0|      130.0|\n",
            "|    2|          17|          1|    2237|        0|     190|                     6.0|          2.0|      130.0|\n",
            "|    2|          18|          2|    2230|        0|     190|                     6.0|          2.0|      130.0|\n",
            "|    2|          19|          3|    2240|        0|     190|                     6.0|          2.0|      130.0|\n",
            "|    2|          20|          4|    2226|        0|     190|                     6.0|          2.0|      130.0|\n",
            "|    2|          21|          5|    2230|        0|     190|                     6.0|          2.0|      130.0|\n",
            "|    2|          22|          6|    2231|        0|     190|                     6.0|          2.0|      130.0|\n",
            "|    2|          23|          7|    2231|        0|     190|                     6.0|          2.0|      130.0|\n",
            "|    2|          24|          1|    2231|        0|     190|                     6.0|          2.0|      130.0|\n",
            "|    2|          25|          2|    2232|        0|     190|                     6.0|          2.0|      130.0|\n",
            "|    2|          26|          3|    2228|        0|     190|                     6.0|          2.0|      130.0|\n",
            "|    2|          27|          4|    2225|        0|     190|                     6.0|          2.0|      130.0|\n",
            "|    2|          28|          5|    2223|        0|     190|                     6.0|          2.0|      130.0|\n",
            "|    2|          29|          6|    2232|        0|     190|                     6.0|          2.0|      130.0|\n",
            "|    2|           1|          6|    1557|        0|     175|                     6.0|        247.0|        4.0|\n",
            "+-----+------------+-----------+--------+---------+--------+------------------------+-------------+-----------+\n",
            "only showing top 20 rows\n",
            "\n"
          ]
        }
      ]
    },
    {
      "cell_type": "code",
      "source": [
        "#null values\n",
        "indexed = indexed.na.drop(how='any')"
      ],
      "metadata": {
        "id": "2O542nO2MF2s"
      },
      "execution_count": null,
      "outputs": []
    },
    {
      "cell_type": "code",
      "source": [
        "indexed.show()"
      ],
      "metadata": {
        "colab": {
          "base_uri": "https://localhost:8080/"
        },
        "id": "a4baXi08MNS-",
        "outputId": "1c18ebd4-59b9-471f-b5b4-dce0691c7e08"
      },
      "execution_count": null,
      "outputs": [
        {
          "output_type": "stream",
          "name": "stdout",
          "text": [
            "+-----+------------+-----------+--------+---------+--------+------------------------+-------------+-----------+\n",
            "|MONTH|DAY_OF_MONTH|DAY_OF_WEEK|DEP_TIME|DEP_DEL15|DISTANCE|OP_UNIQUE_CARRIER_Encode|ORIGIN_Encode|DEST_Encode|\n",
            "+-----+------------+-----------+--------+---------+--------+------------------------+-------------+-----------+\n",
            "|    2|           1|          6|    1430|        0|     175|                     6.0|          4.0|      246.0|\n",
            "|    2|           8|          6|    1442|        0|     175|                     6.0|          4.0|      246.0|\n",
            "|    2|          13|          4|    2247|        0|     190|                     6.0|          2.0|      130.0|\n",
            "|    2|          14|          5|    2230|        0|     190|                     6.0|          2.0|      130.0|\n",
            "|    2|          15|          6|    2246|        0|     190|                     6.0|          2.0|      130.0|\n",
            "|    2|          16|          7|    2230|        0|     190|                     6.0|          2.0|      130.0|\n",
            "|    2|          17|          1|    2237|        0|     190|                     6.0|          2.0|      130.0|\n",
            "|    2|          18|          2|    2230|        0|     190|                     6.0|          2.0|      130.0|\n",
            "|    2|          19|          3|    2240|        0|     190|                     6.0|          2.0|      130.0|\n",
            "|    2|          20|          4|    2226|        0|     190|                     6.0|          2.0|      130.0|\n",
            "|    2|          21|          5|    2230|        0|     190|                     6.0|          2.0|      130.0|\n",
            "|    2|          22|          6|    2231|        0|     190|                     6.0|          2.0|      130.0|\n",
            "|    2|          23|          7|    2231|        0|     190|                     6.0|          2.0|      130.0|\n",
            "|    2|          24|          1|    2231|        0|     190|                     6.0|          2.0|      130.0|\n",
            "|    2|          25|          2|    2232|        0|     190|                     6.0|          2.0|      130.0|\n",
            "|    2|          26|          3|    2228|        0|     190|                     6.0|          2.0|      130.0|\n",
            "|    2|          27|          4|    2225|        0|     190|                     6.0|          2.0|      130.0|\n",
            "|    2|          28|          5|    2223|        0|     190|                     6.0|          2.0|      130.0|\n",
            "|    2|          29|          6|    2232|        0|     190|                     6.0|          2.0|      130.0|\n",
            "|    2|           1|          6|    1557|        0|     175|                     6.0|        247.0|        4.0|\n",
            "+-----+------------+-----------+--------+---------+--------+------------------------+-------------+-----------+\n",
            "only showing top 20 rows\n",
            "\n"
          ]
        }
      ]
    },
    {
      "cell_type": "code",
      "source": [
        "from pyspark.ml.linalg import Vectors\n",
        "from pyspark.ml.feature import VectorAssembler\n",
        "assembler = VectorAssembler(\n",
        "    inputCols=['MONTH','DAY_OF_MONTH','DAY_OF_WEEK','DEP_TIME','DISTANCE','OP_UNIQUE_CARRIER_Encode','ORIGIN_Encode'],\n",
        "         outputCol=\"features\")       "
      ],
      "metadata": {
        "id": "4oJJSucyOHLR"
      },
      "execution_count": null,
      "outputs": []
    },
    {
      "cell_type": "code",
      "source": [
        "output = assembler.transform(indexed)"
      ],
      "metadata": {
        "id": "L1TsIkBQNCJU"
      },
      "execution_count": null,
      "outputs": []
    },
    {
      "cell_type": "code",
      "source": [
        "final_data = output.select(\"features\",\"DEP_DEL15\")"
      ],
      "metadata": {
        "id": "zlgbnKaBNJzQ"
      },
      "execution_count": null,
      "outputs": []
    },
    {
      "cell_type": "code",
      "source": [
        "final_data.show()"
      ],
      "metadata": {
        "colab": {
          "base_uri": "https://localhost:8080/"
        },
        "id": "Fvac1KsHNdMd",
        "outputId": "91d80903-49bb-41c0-97cf-8542f0f0321f"
      },
      "execution_count": null,
      "outputs": [
        {
          "output_type": "stream",
          "name": "stdout",
          "text": [
            "+--------------------+---------+\n",
            "|            features|DEP_DEL15|\n",
            "+--------------------+---------+\n",
            "|[2.0,1.0,6.0,1430...|        0|\n",
            "|[2.0,8.0,6.0,1442...|        0|\n",
            "|[2.0,13.0,4.0,224...|        0|\n",
            "|[2.0,14.0,5.0,223...|        0|\n",
            "|[2.0,15.0,6.0,224...|        0|\n",
            "|[2.0,16.0,7.0,223...|        0|\n",
            "|[2.0,17.0,1.0,223...|        0|\n",
            "|[2.0,18.0,2.0,223...|        0|\n",
            "|[2.0,19.0,3.0,224...|        0|\n",
            "|[2.0,20.0,4.0,222...|        0|\n",
            "|[2.0,21.0,5.0,223...|        0|\n",
            "|[2.0,22.0,6.0,223...|        0|\n",
            "|[2.0,23.0,7.0,223...|        0|\n",
            "|[2.0,24.0,1.0,223...|        0|\n",
            "|[2.0,25.0,2.0,223...|        0|\n",
            "|[2.0,26.0,3.0,222...|        0|\n",
            "|[2.0,27.0,4.0,222...|        0|\n",
            "|[2.0,28.0,5.0,222...|        0|\n",
            "|[2.0,29.0,6.0,223...|        0|\n",
            "|[2.0,1.0,6.0,1557...|        0|\n",
            "+--------------------+---------+\n",
            "only showing top 20 rows\n",
            "\n"
          ]
        }
      ]
    },
    {
      "cell_type": "code",
      "source": [
        "final_data = output.select(\"features\",\"DEP_DEL15\")\n",
        "train_data, test_data = final_data.randomSplit([0.7,0.3])\n",
        "#randomly i split my train and test data random size"
      ],
      "metadata": {
        "id": "tNYU0GhnNhPs"
      },
      "execution_count": null,
      "outputs": []
    },
    {
      "cell_type": "code",
      "source": [
        "final_data.show()"
      ],
      "metadata": {
        "colab": {
          "base_uri": "https://localhost:8080/"
        },
        "id": "0ip0_ydPOYZ9",
        "outputId": "8911ab41-af1a-4f96-9d15-38ab5d7efa01"
      },
      "execution_count": null,
      "outputs": [
        {
          "output_type": "stream",
          "name": "stdout",
          "text": [
            "+--------------------+---------+\n",
            "|            features|DEP_DEL15|\n",
            "+--------------------+---------+\n",
            "|[2.0,1.0,6.0,1430...|        0|\n",
            "|[2.0,8.0,6.0,1442...|        0|\n",
            "|[2.0,13.0,4.0,224...|        0|\n",
            "|[2.0,14.0,5.0,223...|        0|\n",
            "|[2.0,15.0,6.0,224...|        0|\n",
            "|[2.0,16.0,7.0,223...|        0|\n",
            "|[2.0,17.0,1.0,223...|        0|\n",
            "|[2.0,18.0,2.0,223...|        0|\n",
            "|[2.0,19.0,3.0,224...|        0|\n",
            "|[2.0,20.0,4.0,222...|        0|\n",
            "|[2.0,21.0,5.0,223...|        0|\n",
            "|[2.0,22.0,6.0,223...|        0|\n",
            "|[2.0,23.0,7.0,223...|        0|\n",
            "|[2.0,24.0,1.0,223...|        0|\n",
            "|[2.0,25.0,2.0,223...|        0|\n",
            "|[2.0,26.0,3.0,222...|        0|\n",
            "|[2.0,27.0,4.0,222...|        0|\n",
            "|[2.0,28.0,5.0,222...|        0|\n",
            "|[2.0,29.0,6.0,223...|        0|\n",
            "|[2.0,1.0,6.0,1557...|        0|\n",
            "+--------------------+---------+\n",
            "only showing top 20 rows\n",
            "\n"
          ]
        }
      ]
    },
    {
      "cell_type": "code",
      "source": [
        "df = final_data"
      ],
      "metadata": {
        "id": "XcqOxvUgOcwA"
      },
      "execution_count": null,
      "outputs": []
    },
    {
      "cell_type": "code",
      "source": [
        "type(df.rdd)"
      ],
      "metadata": {
        "colab": {
          "base_uri": "https://localhost:8080/"
        },
        "id": "EDXCLp7hOjkp",
        "outputId": "f30c0366-f694-4045-a888-354d4f4431fa"
      },
      "execution_count": null,
      "outputs": [
        {
          "output_type": "execute_result",
          "data": {
            "text/plain": [
              "pyspark.rdd.RDD"
            ]
          },
          "metadata": {},
          "execution_count": 30
        }
      ]
    },
    {
      "cell_type": "code",
      "source": [
        "df.show()"
      ],
      "metadata": {
        "colab": {
          "base_uri": "https://localhost:8080/"
        },
        "id": "F1Rr2s2jOlrd",
        "outputId": "a0e386df-7713-4b1b-c554-348d7c01adf7"
      },
      "execution_count": null,
      "outputs": [
        {
          "output_type": "stream",
          "name": "stdout",
          "text": [
            "+--------------------+---------+\n",
            "|            features|DEP_DEL15|\n",
            "+--------------------+---------+\n",
            "|[2.0,1.0,6.0,1430...|        0|\n",
            "|[2.0,8.0,6.0,1442...|        0|\n",
            "|[2.0,13.0,4.0,224...|        0|\n",
            "|[2.0,14.0,5.0,223...|        0|\n",
            "|[2.0,15.0,6.0,224...|        0|\n",
            "|[2.0,16.0,7.0,223...|        0|\n",
            "|[2.0,17.0,1.0,223...|        0|\n",
            "|[2.0,18.0,2.0,223...|        0|\n",
            "|[2.0,19.0,3.0,224...|        0|\n",
            "|[2.0,20.0,4.0,222...|        0|\n",
            "|[2.0,21.0,5.0,223...|        0|\n",
            "|[2.0,22.0,6.0,223...|        0|\n",
            "|[2.0,23.0,7.0,223...|        0|\n",
            "|[2.0,24.0,1.0,223...|        0|\n",
            "|[2.0,25.0,2.0,223...|        0|\n",
            "|[2.0,26.0,3.0,222...|        0|\n",
            "|[2.0,27.0,4.0,222...|        0|\n",
            "|[2.0,28.0,5.0,222...|        0|\n",
            "|[2.0,29.0,6.0,223...|        0|\n",
            "|[2.0,1.0,6.0,1557...|        0|\n",
            "+--------------------+---------+\n",
            "only showing top 20 rows\n",
            "\n"
          ]
        }
      ]
    },
    {
      "cell_type": "code",
      "source": [
        "train_data.show()"
      ],
      "metadata": {
        "colab": {
          "base_uri": "https://localhost:8080/"
        },
        "id": "64Ln40DSGNfo",
        "outputId": "26e5a026-048d-4509-8f1a-e39015fc86bd"
      },
      "execution_count": null,
      "outputs": [
        {
          "output_type": "stream",
          "name": "stdout",
          "text": [
            "+--------------------+---------+\n",
            "|            features|DEP_DEL15|\n",
            "+--------------------+---------+\n",
            "|[2.0,1.0,6.0,3.0,...|        0|\n",
            "|[2.0,1.0,6.0,4.0,...|        0|\n",
            "|[2.0,1.0,6.0,4.0,...|        0|\n",
            "|[2.0,1.0,6.0,9.0,...|        1|\n",
            "|[2.0,1.0,6.0,10.0...|        0|\n",
            "|[2.0,1.0,6.0,15.0...|        1|\n",
            "|[2.0,1.0,6.0,15.0...|        0|\n",
            "|[2.0,1.0,6.0,17.0...|        1|\n",
            "|[2.0,1.0,6.0,18.0...|        0|\n",
            "|[2.0,1.0,6.0,23.0...|        0|\n",
            "|[2.0,1.0,6.0,25.0...|        0|\n",
            "|[2.0,1.0,6.0,31.0...|        0|\n",
            "|[2.0,1.0,6.0,32.0...|        0|\n",
            "|[2.0,1.0,6.0,33.0...|        0|\n",
            "|[2.0,1.0,6.0,34.0...|        1|\n",
            "|[2.0,1.0,6.0,35.0...|        0|\n",
            "|[2.0,1.0,6.0,101....|        0|\n",
            "|[2.0,1.0,6.0,106....|        0|\n",
            "|[2.0,1.0,6.0,112....|        1|\n",
            "|[2.0,1.0,6.0,115....|        0|\n",
            "+--------------------+---------+\n",
            "only showing top 20 rows\n",
            "\n"
          ]
        }
      ]
    },
    {
      "cell_type": "code",
      "source": [
        "train_data.describe().show()"
      ],
      "metadata": {
        "colab": {
          "base_uri": "https://localhost:8080/"
        },
        "id": "ICSPfaJEh8Uc",
        "outputId": "881bee25-1474-4611-9158-db63f380c4ec"
      },
      "execution_count": null,
      "outputs": [
        {
          "output_type": "stream",
          "name": "stdout",
          "text": [
            "+-------+-------------------+\n",
            "|summary|          DEP_DEL15|\n",
            "+-------+-------------------+\n",
            "|  count|             397438|\n",
            "|   mean|0.14402497999688002|\n",
            "| stddev|0.35111550140345027|\n",
            "|    min|                  0|\n",
            "|    max|                  1|\n",
            "+-------+-------------------+\n",
            "\n"
          ]
        }
      ]
    },
    {
      "cell_type": "code",
      "source": [
        "test_data.describe().show()"
      ],
      "metadata": {
        "colab": {
          "base_uri": "https://localhost:8080/"
        },
        "id": "_qvvbi4GiDRE",
        "outputId": "1be67c95-6576-4ddb-bd8a-21f0a3c6fedf"
      },
      "execution_count": null,
      "outputs": [
        {
          "output_type": "stream",
          "name": "stdout",
          "text": [
            "+-------+-------------------+\n",
            "|summary|          DEP_DEL15|\n",
            "+-------+-------------------+\n",
            "|  count|             171879|\n",
            "|   mean|0.14510789567079166|\n",
            "| stddev| 0.3522106131662122|\n",
            "|    min|                  0|\n",
            "|    max|                  1|\n",
            "+-------+-------------------+\n",
            "\n"
          ]
        }
      ]
    },
    {
      "cell_type": "code",
      "source": [
        "#create linear regression model using logistic reegression \n",
        "#it is s classification model \n",
        "from pyspark.ml.classification import LogisticRegression\n",
        "lr = LogisticRegression(labelCol = \"DEP_DEL15\")\n",
        "#fit the model to the data and call this model lrModel\n",
        "lrModel = lr.fit(train_data)"
      ],
      "metadata": {
        "id": "c2MJfZdbQg9x"
      },
      "execution_count": null,
      "outputs": []
    },
    {
      "cell_type": "code",
      "source": [
        "result = lrModel.evaluate(train_data)"
      ],
      "metadata": {
        "id": "7d8CpwKUewPu"
      },
      "execution_count": null,
      "outputs": []
    },
    {
      "cell_type": "code",
      "source": [
        "pred = lrModel.transform(train_data).show()"
      ],
      "metadata": {
        "colab": {
          "base_uri": "https://localhost:8080/"
        },
        "id": "HKXYhRBJRF0K",
        "outputId": "0bf740c9-5b62-40e9-caab-f97aa46ba8fa"
      },
      "execution_count": null,
      "outputs": [
        {
          "output_type": "stream",
          "name": "stdout",
          "text": [
            "+--------------------+---------+--------------------+--------------------+----------+\n",
            "|            features|DEP_DEL15|       rawPrediction|         probability|prediction|\n",
            "+--------------------+---------+--------------------+--------------------+----------+\n",
            "|[2.0,1.0,6.0,3.0,...|        0|[2.98602300166137...|[0.95193868349121...|       0.0|\n",
            "|[2.0,1.0,6.0,4.0,...|        0|[2.97429041385035...|[0.95139904567304...|       0.0|\n",
            "|[2.0,1.0,6.0,4.0,...|        0|[2.99746469488055...|[0.95245945869540...|       0.0|\n",
            "|[2.0,1.0,6.0,9.0,...|        1|[2.81842450356045...|[0.94366336712074...|       0.0|\n",
            "|[2.0,1.0,6.0,10.0...|        0|[2.89651188729405...|[0.94767373745623...|       0.0|\n",
            "|[2.0,1.0,6.0,15.0...|        1|[2.90234828014699...|[0.94796239878333...|       0.0|\n",
            "|[2.0,1.0,6.0,15.0...|        0|[2.90932890411989...|[0.94830567595361...|       0.0|\n",
            "|[2.0,1.0,6.0,17.0...|        1|[2.72615771892661...|[0.93855261971690...|       0.0|\n",
            "|[2.0,1.0,6.0,18.0...|        0|[2.96303092032799...|[0.95087576500176...|       0.0|\n",
            "|[2.0,1.0,6.0,23.0...|        0|[2.97267741658737...|[0.95132440812355...|       0.0|\n",
            "|[2.0,1.0,6.0,25.0...|        0|[2.98843928776187...|[0.95204911138437...|       0.0|\n",
            "|[2.0,1.0,6.0,31.0...|        0|[2.78502768174243...|[0.94186136532595...|       0.0|\n",
            "|[2.0,1.0,6.0,32.0...|        0|[2.94460493805631...|[0.95000788245857...|       0.0|\n",
            "|[2.0,1.0,6.0,33.0...|        0|[2.94599014038273...|[0.95007362874848...|       0.0|\n",
            "|[2.0,1.0,6.0,34.0...|        1|[2.88752863180414...|[0.94722647808764...|       0.0|\n",
            "|[2.0,1.0,6.0,35.0...|        0|[2.89872045276480...|[0.94778314807667...|       0.0|\n",
            "|[2.0,1.0,6.0,101....|        0|[2.87179596692122...|[0.94643446984157...|       0.0|\n",
            "|[2.0,1.0,6.0,106....|        0|[2.83619935488395...|[0.94460091008776...|       0.0|\n",
            "|[2.0,1.0,6.0,112....|        1|[2.75341933730568...|[0.94010617092448...|       0.0|\n",
            "|[2.0,1.0,6.0,115....|        0|[2.87912666315243...|[0.94680489481443...|       0.0|\n",
            "+--------------------+---------+--------------------+--------------------+----------+\n",
            "only showing top 20 rows\n",
            "\n"
          ]
        }
      ]
    },
    {
      "cell_type": "code",
      "source": [
        "#evaluate test data\n",
        "result = lrModel.evaluate(test_data)"
      ],
      "metadata": {
        "id": "11npf1_cRQf7"
      },
      "execution_count": null,
      "outputs": []
    },
    {
      "cell_type": "code",
      "source": [
        "#accuracy score\n",
        "result.accuracy"
      ],
      "metadata": {
        "colab": {
          "base_uri": "https://localhost:8080/"
        },
        "id": "dxRWJwJzRQ8N",
        "outputId": "57f32be3-71c3-47f2-8680-513d94c07708"
      },
      "execution_count": null,
      "outputs": [
        {
          "output_type": "execute_result",
          "data": {
            "text/plain": [
              "0.8548921043292084"
            ]
          },
          "metadata": {},
          "execution_count": 39
        }
      ]
    },
    {
      "cell_type": "code",
      "source": [
        "from pyspark.ml.classification import DecisionTreeClassifier\n",
        "dt = DecisionTreeClassifier(labelCol='DEP_DEL15')\n",
        "#fit the model to the data and call this model lrModel\n",
        "dtModel = dt.fit(train_data)"
      ],
      "metadata": {
        "id": "ov2JTw7DjCSV"
      },
      "execution_count": null,
      "outputs": []
    },
    {
      "cell_type": "code",
      "source": [
        "result.accuracy"
      ],
      "metadata": {
        "id": "x7PYo1-jrMMv"
      },
      "execution_count": null,
      "outputs": []
    },
    {
      "cell_type": "code",
      "source": [
        "from pyspark.ml.classification import RandomForestClassifier\n",
        "rf = RandomForestClassifier(labelCol='DEP_DEL15')\n",
        "rfModel = dt.fit(train_data)"
      ],
      "metadata": {
        "id": "nC4p_m5jrQEy"
      },
      "execution_count": null,
      "outputs": []
    },
    {
      "cell_type": "code",
      "source": [
        "result.accuracy"
      ],
      "metadata": {
        "id": "haU7mYFFrtA1"
      },
      "execution_count": null,
      "outputs": []
    }
  ]
}